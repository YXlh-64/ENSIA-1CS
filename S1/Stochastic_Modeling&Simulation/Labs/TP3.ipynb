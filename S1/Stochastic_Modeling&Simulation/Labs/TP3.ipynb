{
 "cells": [
  {
   "cell_type": "markdown",
   "id": "6774acd6-4087-49ea-b1f8-8f2cf1aacd47",
   "metadata": {},
   "source": [
    "# Simulation Stochastique"
   ]
  },
  {
   "cell_type": "markdown",
   "id": "1df08b5e-1819-4562-ab38-7be1a9e25eb2",
   "metadata": {},
   "source": [
    "# **TP 3 - Simulation de Chaînes de Markov**"
   ]
  },
  {
   "cell_type": "markdown",
   "id": "aae2b5ef-d7db-49e9-953e-3d4775133cc3",
   "metadata": {},
   "source": [
    "## **Partie 1. Programmes généraux.**"
   ]
  },
  {
   "cell_type": "markdown",
   "id": "8e6fff90-dfa7-4af3-8819-77feaa9a9724",
   "metadata": {},
   "source": [
    "   On encode une probabilité $\\pi = (\\pi (x_1),...,\\pi (x_{n}))$ sur un espace d'états $S = \\{ x_1,x_2,...,x_n \\}$ par un array numpy, et une matrice stochastique $P$ par un array bidimensionnel\n",
    "   \n",
    "   Exemple :\n",
    "   \n",
    "   pi=np.array([0.2,0.5,0.3])\n",
    "   \n",
    "   P=np.array([[1/3,1/2,1/6],[1/4,0,3/4],[0,1/2,1/2]])\n",
    " \n",
    " définissent respectivement un vecteur de probabilité et une matrice stochastique sur un ensemble $S$ de taille $3$. "
   ]
  },
  {
   "cell_type": "markdown",
   "id": "70c53c4a-9484-4ca1-8994-acfca013995c",
   "metadata": {},
   "source": [
    "#### Question 3.1 \n",
    "\n",
    "Écrire deux programmes verifier $\\_$ $\\texttt{proba(pi)}$ et verifier_matrice_sto(P) qui vérifient qu'un vecteur est une probabilité, et qu'une matrice est stochastique. \n",
    "\n",
    "Pour tester l'égalité de nombres réels avec décimales, on pourra utiliser np.isclose (pour éviter les imprécisions dues à l'écriture décimale)."
   ]
  },
  {
   "cell_type": "code",
   "execution_count": 1,
   "id": "2dee2818-f130-4558-b2f4-ea18c436163d",
   "metadata": {},
   "outputs": [
    {
     "name": "stdout",
     "output_type": "stream",
     "text": [
      "Vérification de pi : True\n",
      "Vérification de P : True\n",
      "Vérification de pi_invalide : False\n",
      "Vérification de P_invalide : False\n"
     ]
    }
   ],
   "source": [
    "import numpy as np\n",
    "\n",
    "def verifier_proba(pi):\n",
    "    \"\"\"\n",
    "    Vérifie si un vecteur est une probabilité.\n",
    "    :param pi: numpy array représentant le vecteur de probabilité.\n",
    "    :return: True si c'est une probabilité, False sinon.\n",
    "    \"\"\"\n",
    "    # Vérifier si tous les éléments sont entre 0 et 1\n",
    "    if np.any(pi < 0) or np.any(pi > 1):\n",
    "        return False\n",
    "    # Vérifier si la somme est égale à 1\n",
    "    return np.isclose(np.sum(pi), 1.0)\n",
    "\n",
    "def verifier_matrice_sto(P):\n",
    "    \"\"\"\n",
    "    Vérifie si une matrice est stochastique.\n",
    "    :param P: numpy array bidimensionnel représentant la matrice.\n",
    "    :return: True si la matrice est stochastique, False sinon.\n",
    "    \"\"\"\n",
    "    # Vérifier si toutes les lignes sont des vecteurs de probabilité\n",
    "    for row in P:\n",
    "        if not verifier_proba(row):\n",
    "            return False\n",
    "    return True\n",
    "\n",
    "# Exemple d'utilisation\n",
    "pi = np.array([0.2, 0.5, 0.3])\n",
    "P = np.array([[1/3, 1/2, 1/6], [1/4, 0, 3/4], [0, 1/2, 1/2]])\n",
    "\n",
    "print(\"Vérification de pi :\", verifier_proba(pi))  # True\n",
    "print(\"Vérification de P :\", verifier_matrice_sto(P))  # True\n",
    "\n",
    "# Tests supplémentaires\n",
    "pi_invalide = np.array([0.2, 0.5, 0.4])  # Somme != 1\n",
    "P_invalide = np.array([[1/3, 1/2, 1/6], [1/4, -0.1, 3/4], [0, 1/2, 1/2]])  # Valeur négative\n",
    "\n",
    "print(\"Vérification de pi_invalide :\", verifier_proba(pi_invalide))  # False\n",
    "print(\"Vérification de P_invalide :\", verifier_matrice_sto(P_invalide))  # False\n"
   ]
  },
  {
   "cell_type": "markdown",
   "id": "c28b941b-8993-409a-b75f-42e208341b3d",
   "metadata": {},
   "source": [
    "### Matrice puissance $𝑛$ :\n",
    "La commande $\\texttt{np.linalg.matrix}$_$\\texttt{power(P, n)}$ calcule $𝑃^n$, la matrice $𝑃$ élevée à la puissance $𝑛$.\n",
    "\n",
    "Cela correspond à appliquer $𝑛$ fois les transitions définies par $𝑃$.\n",
    "### Produit matriciel :\n",
    "La commande $\\texttt{np.matmul(pi0, 𝑃}$_$\\texttt{n)}$ réalise le produit matriciel entre le vecteur initial $\\pi^0$ et la matrice $𝑃^n$.\n",
    "### Retour :\n",
    "Le programme retourne le vecteur $\\pi^n$, qui contient les probabilités marginales des états à l'instamt $n$."
   ]
  },
  {
   "cell_type": "markdown",
   "id": "e48c0330-fb61-4479-ae6b-ff4025b199aa",
   "metadata": {},
   "source": [
    " #### Question 3.2 \n",
    "On suppose données sur un ensemble fini $S$ une probabilité $\\pi^0$ et une matrice sotchastique $P$. Soit $(X_{n})_{n∈N}$ une chaîne de Markov de matrice $P$, et de loi initiale $\\pi^0$ :\n",
    "\n",
    " $$P[X_0=a] = \\pi^0(a), \\forall a\\in S . \\text { Pour } n\\geq 1,$$\n",
    "\n",
    " exprimer en fonction de $\\pi^0$ et de la matrice stochastique $P$ le vecteur de probabilité $\\pi^n$ = $(P[X_n = x_1], . . . , P[X_n = x_N])$. \n",
    " \n",
    " Écrire un programme $\\texttt{loi}$_$\\texttt{marginale (P, pi0, n)}$ qui calcule ce vecteur.\n",
    "\n",
    "Pour effectuer des produits matriciels, on pourra utiliser la commande np.matmul."
   ]
  },
  {
   "cell_type": "code",
   "execution_count": 5,
   "id": "20299aa4-9ecf-41ed-8f6a-6e5a35404b68",
   "metadata": {},
   "outputs": [
    {
     "name": "stdout",
     "output_type": "stream",
     "text": [
      "Vecteur de probabilité après 5 transitions : [0.1270769 0.328125  0.5447981]\n"
     ]
    }
   ],
   "source": [
    "import numpy as np\n",
    "\n",
    "def loi_marginale(P, pi0, n):\n",
    "    \"\"\"\n",
    "    Calcule le vecteur de probabilité πⁿ pour une chaîne de Markov.\n",
    "    \n",
    "    :param P: numpy array, matrice stochastique (N x N)\n",
    "    :param pi0: numpy array, vecteur de probabilité initial (1 x N)\n",
    "    :param n: int, nombre de transitions\n",
    "    :return: numpy array, vecteur de probabilité πⁿ (1 x N)\n",
    "    \"\"\"\n",
    "    # Calcul de la matrice P^n\n",
    "    P_n = np.linalg.matrix_power(P, n)\n",
    "    # Calcul de πⁿ = π⁰ * P^n\n",
    "    pi_n = np.matmul(pi0, P_n)\n",
    "    return pi_n\n",
    "\n",
    "# Exemple d'utilisation\n",
    "\n",
    "P = np.array([[1/3, 1/2, 1/6],\n",
    "              [1/4, 0, 3/4],\n",
    "              [0, 1/2, 1/2]])\n",
    "pi0 = np.array([0.2, 0.5, 0.3])\n",
    "n = 5\n",
    "\n",
    "pi_n = loi_marginale(P, pi0, n)\n",
    "print(f\"Vecteur de probabilité après {n} transitions :\", pi_n)"
   ]
  },
  {
   "cell_type": "markdown",
   "id": "cfb57a3c-7cf6-42a3-a8fb-3b32e6f6e6d4",
   "metadata": {},
   "source": [
    "#### Question 3.3\n",
    "Si $(X_n)_{n \\in \\mathbb{N}}$ est une chaîne de Markov de matrice $P$, on a, pour tout $n \\geq 0$ et pour tous $a, b \\in S$ :\n",
    "\n",
    " $$\\mathbb{P}[X_{n+1} = b \\mid X_n = a] = P(a, b).$$\n",
    " \n",
    "Supposons que $X_0, \\ldots, X_n$ soient donnés, ainsi qu'une variable aléatoire $U$ de loi uniforme sur $[0, 1]$, indépendante de $X_0, \\ldots, X_n$. Pour construire $X_{n+1}$ sachant que $X_n = a$, on peut alors prendre l’unique $k \\in \\{1, 2, \\ldots, N\\}$ tel que :\n",
    "\n",
    " $$\\sum_{j=1}^{k-1} P(a, x_j) < U \\leq \\sum_{j=1}^k P(a, x_j).$$\n",
    " \n",
    "Écrire un programme $\\texttt{transition(P, a, u)}$ qui renvoie l’élément $k$, $k$ étant caractérisé par les inégalités ci-dessus.\n"
   ]
  },
  {
   "cell_type": "code",
   "execution_count": 8,
   "id": "8e59109e-982b-468f-ab2d-644f85e4fc75",
   "metadata": {},
   "outputs": [],
   "source": [
    "def transition(P, a, u):\n",
    "    \"\"\"\n",
    "    Calcule l'état suivant k selon la matrice de transition P, l'état actuel a et une variable uniforme u.\n",
    "\n",
    "    Arguments :\n",
    "    - P : matrice de transition (list of lists ou numpy array), où P[a][b] = P(a, b)\n",
    "    - a : état actuel (index correspondant à l'état dans la matrice)\n",
    "    - u : variable uniforme dans [0, 1]\n",
    "\n",
    "    Retourne :\n",
    "    - k : état suivant tel que les inégalités soient satisfaites.\n",
    "    \"\"\"\n",
    "    cumulative_sum = 0  # Somme cumulative des probabilités\n",
    "    for k in range(len(P[a])):\n",
    "        cumulative_sum += P[a][k]  # Ajout de P(a, x_k)\n",
    "        if u <= cumulative_sum:\n",
    "            return k + 1  # On retourne k (indexé à partir de 1 comme dans l'énoncé)\n",
    "    return None  # En cas de problème (non atteint, mais théoriquement impossible)\n"
   ]
  },
  {
   "cell_type": "code",
   "execution_count": 4,
   "id": "21050440-b369-4526-a59f-0528f48fbe87",
   "metadata": {},
   "outputs": [
    {
     "name": "stdout",
     "output_type": "stream",
     "text": [
      "L'état suivant est : 2\n"
     ]
    }
   ],
   "source": [
    "# Exemple de matrice de transition\n",
    "P = [\n",
    "    [0.1, 0.3, 0.6],  # Probabilités de transition depuis l'état 0\n",
    "    [0.2, 0.5, 0.3],  # Probabilités de transition depuis l'état 1\n",
    "    [0.4, 0.4, 0.2],  # Probabilités de transition depuis l'état 2\n",
    "]\n",
    "\n",
    "a = 1  # État actuel\n",
    "u = 0.7  # Variable uniforme\n",
    "\n",
    "k = transition(P, a, u)\n",
    "print(f\"L'état suivant est : {k}\")\n"
   ]
  },
  {
   "cell_type": "markdown",
   "id": "e1420702-b9fa-4816-8882-de49ad3f295f",
   "metadata": {},
   "source": [
    "#### Question 3.4\n",
    "\n",
    "Soit $P$ une matrice stochastique de taille $N \\times N$, représentant la matrice de transition d'une chaîne de Markov. Nous utilisons la méthode $\\texttt{np.linalg.eig}$ de la bibliothèque $\\texttt{numpy}$ pour déterminer les valeurs propres $\\lambda_1, \\lambda_2, \\lambda_3$ et les vecteurs propres à gauche $\\nu_1, \\nu_2, \\nu_3$ de la matrice $P$. Pour cela, nous procédons comme suit  \n"
   ]
  },
  {
   "cell_type": "code",
   "execution_count": 7,
   "id": "8a6ffe14-4501-469e-84fb-59dc6e8518d8",
   "metadata": {},
   "outputs": [
    {
     "name": "stdout",
     "output_type": "stream",
     "text": [
      "Valeurs propres :  [ 1.          0.33333333 -0.5       ]\n",
      "Vecteurs propres :  [[-1.92847304e-01 -7.07106781e-01  2.38667185e-01]\n",
      " [-5.14259477e-01  4.94450893e-17 -7.95557284e-01]\n",
      " [-8.35671650e-01  7.07106781e-01  5.56890099e-01]]\n"
     ]
    }
   ],
   "source": [
    "import numpy as np\n",
    "\n",
    "# Définition de la matrice de transition P\n",
    "P = np.array([[1/3, 1/2, 1/6],\n",
    "              [1/4, 0, 3/4],\n",
    "              [0, 1/2, 1/2]])\n",
    "\n",
    "# Calcul des valeurs propres et des vecteurs propres de P^T\n",
    "eigenvalues, eigenvectors = np.linalg.eig(P.T)\n",
    "\n",
    "# Affichage des résultats\n",
    "print(\"Valeurs propres : \", eigenvalues)\n",
    "print(\"Vecteurs propres : \", eigenvectors)"
   ]
  },
  {
   "cell_type": "markdown",
   "id": "c5faf127-45dd-46e8-9852-25ec606c8945",
   "metadata": {},
   "source": [
    "## **Partie 2. Application**"
   ]
  },
  {
   "cell_type": "markdown",
   "id": "a4f02009-78fe-42f4-a4ec-af4d4ded6a44",
   "metadata": {},
   "source": [
    "### Distribution Stationnaire :\n",
    "Les résultats obtenus se généralisent à de nombreuses chaînes de Markov. Sous certaines hypothèses naturelles, il existe un vecteur de probabilité $\\pi$ tel que, quelle que soit la loi initiale $\\pi_0$, on a :\n",
    "\n",
    " $$\\lim_{n \\to \\infty} \\pi_n = \\pi.$$\n",
    "\n",
    "On dit alors que $\\pi$ est la $\\textbf{loi stationnaire}$ ou $\\textbf{invariante}$ de la chaîne de Markov. Elle représente la limite des lois marginales lorsque $n$ tend vers l'infini.\n",
    "\n",
    "En pratique, pour trouver la loi stationnaire $\\pi$, il suffit de considérer le vecteur propre $\\nu_1$ associé à la valeur propre $\\lambda_1 = 1$ (ceci est garanti pour une matrice de transition stochastique irréductible et apériodique). On normalise $\\nu_1$ de façon à obtenir une distribution de probabilité, c'est-à-dire en s'assurant que la somme de ses composantes vaut $1$ :\n",
    "\n",
    " $$\\pi = \\frac{\\nu_1}{\\sum_i \\nu_1[i]}.$$"
   ]
  },
  {
   "cell_type": "markdown",
   "id": "bc4d19b3-af5a-4c22-911b-8044e00a6721",
   "metadata": {},
   "source": [
    "### Excercice 1:\n",
    "Ecrire un algorithme pour simuler une loi normale multidimensionnelle de moyenne $m = (1, 1, 2)$ et de matrice de variance-covariance\n",
    "$$C=\\begin{pmatrix}\n",
    "1&1&3\\\\\n",
    "1&2&4\\\\\n",
    "3&4&11\n",
    "\\end{pmatrix}.$$"
   ]
  },
  {
   "cell_type": "code",
   "execution_count": null,
   "id": "b3a8d95f-dd3b-4b42-be09-4cbf161a2965",
   "metadata": {},
   "outputs": [],
   "source": []
  },
  {
   "cell_type": "markdown",
   "id": "fdc9d4c6-1f7c-4dd0-a425-98d162e420eb",
   "metadata": {},
   "source": [
    "### Excercice 2:\n",
    "Soit la chaîne de Markov à temps discret dont la matrice de transition est donnée par :\n",
    "\n",
    "$$P=\\begin{pmatrix}\n",
    "\\dfrac{1}{4}&\\dfrac{1}{2}&\\dfrac{1}{4}\\\\\n",
    "\\dfrac{1}{3}&\\dfrac{1}{3}&\\dfrac{1}{3}\\\\\n",
    "\\dfrac{1}{2}&\\dfrac{1}{4}&\\dfrac{1}{4}\n",
    "\\end{pmatrix}.$$\n",
    "\n",
    "et de distribution initiale $\\pi^0=(1,0,0)$.\n",
    "\n",
    " 1.  Utiliser la méthode $\\texttt{np.linalg.eig}$ pour écrire un programme qui détermine jusqu’au temps n cette chaîne de Markov de matrice de transition P.\n",
    " 2.  En utilisant un vecteur de variables aléatoires $(U_0, U_1, . . . , U_n)$ uniformes sur $[0, 1]$ et indépendantes, déduire un programme $\\texttt{chaine\\_markov(P, pi0, n)}$ et qui renvoie une simulation de $X_0, X_1, \\ldots, X_n$, la chaîne de Markov correspondante (vous pouvez considérer $n=10$). \n",
    " "
   ]
  },
  {
   "cell_type": "code",
   "execution_count": null,
   "id": "9aee0064-284b-45c4-80ce-dbca4fa78323",
   "metadata": {},
   "outputs": [],
   "source": []
  },
  {
   "cell_type": "markdown",
   "id": "22b3666c-e177-4a1d-b591-31bc8a3682d4",
   "metadata": {},
   "source": [
    "### Excercice 3:\n",
    "Un centre d'appels a deux lignes téléphoniques. Les appels arrivent selon un processus de Poisson avec un taux d'appels $\\lambda>0$ par minute. Lorsqu'un appel arrive, si une ligne est libre, la réponse est immédiate, sinon l'appel est perdu. La durée de chaque appel suit une loi exponentielle de paramètre $\\mu >0$.\n",
    "On veut modéliser et simuler ce système en utilisant une chaine de Markov à temps continu.\n",
    "\n",
    "Espace d'état :\n",
    "- Etat $0$ : aucune ligne n'est occupée.\n",
    "- Etat $1$ : une seule ligne est occupée.\n",
    "- Etat $2$ : les deux lignes sont occupées.\n",
    "\n",
    "\t1. Donner une représentation du graphe de transition et la matrice de transition de cette chaine de Markov.\n",
    "\t2. Présenter l'algorithme de simulation de cette chaine de Markov à temps continu."
   ]
  },
  {
   "cell_type": "code",
   "execution_count": null,
   "id": "a881283b-90db-46bd-8cb5-4cd2ea1234f8",
   "metadata": {},
   "outputs": [],
   "source": []
  },
  {
   "cell_type": "markdown",
   "id": "110352c8-504c-4241-9642-ab62d935a813",
   "metadata": {},
   "source": [
    "### Excercice 4:\n",
    "Ecrire un programme de simulation de la file d'attente classique $M/M/1$. La durée de service suit une loi exponentielle de paramètre $\\mu =1$ et le temps entre deux arrivées successives suit une $\\cal E(\\lambda)$.\n",
    "Cosidérer trois cas : $\\lambda =0.5,\\lambda =0.7$ et $\\lambda =0.9$. L'objectif est de mesurer le temps moyen de réponse pour chaque valeur de $\\lambda$. Pour cela, il faut calculer la moyenne d'échantillons indépendants.\n",
    "Une exécution du simulateur consiste à faire fonctionner le système à partir d'un état vide pour $2000$ arrivées, puis à enregistrer le temps de réponse subi par l'arrivée numéro $2001$. Effectuez $n=200$ exécutions, chacune générant un échantillon, puis déterminez la moyenne des $n=200$ échantillons."
   ]
  },
  {
   "cell_type": "code",
   "execution_count": null,
   "id": "9fab7f1b-00b1-4e5c-a6bf-e3747f2fd81b",
   "metadata": {},
   "outputs": [],
   "source": []
  }
 ],
 "metadata": {
  "kernelspec": {
   "display_name": "Python 3 (ipykernel)",
   "language": "python",
   "name": "python3"
  },
  "language_info": {
   "codemirror_mode": {
    "name": "ipython",
    "version": 3
   },
   "file_extension": ".py",
   "mimetype": "text/x-python",
   "name": "python",
   "nbconvert_exporter": "python",
   "pygments_lexer": "ipython3",
   "version": "3.13.0"
  }
 },
 "nbformat": 4,
 "nbformat_minor": 5
}
