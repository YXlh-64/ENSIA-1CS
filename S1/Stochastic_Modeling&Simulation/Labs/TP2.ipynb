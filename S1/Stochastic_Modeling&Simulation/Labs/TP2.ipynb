{
 "cells": [
  {
   "cell_type": "markdown",
   "id": "10b7d480-1197-47f9-9406-6c2cd3c095da",
   "metadata": {},
   "source": [
    "# Simulation Stochastique"
   ]
  },
  {
   "cell_type": "markdown",
   "id": "2f29eca2-9794-4fff-b02a-a66170ea2b8d",
   "metadata": {},
   "source": [
    "# **TP 2 - Simulation de Variables Aléatoires**"
   ]
  },
  {
   "cell_type": "markdown",
   "id": "264b8353-eace-418b-9629-0fe2fd2c4b7d",
   "metadata": {},
   "source": [
    "$\\color{red}{Veuillez\\ terminer\\ les\\ exercices\\ obligatoires\\ du\\ TP\\ précédent\\ avant\\ de\\ commencer\\ ce\\ nouveau\\ TP.}$"
   ]
  },
  {
   "cell_type": "markdown",
   "id": "1190e29b-aedd-4ee3-bc8f-2e28cb003556",
   "metadata": {},
   "source": [
    "## **Méthode du Rejet, de Composition, Méthodes Spécifique**\n",
    "- Ecrire un programme permettant de simuler chacune des lois suivantes. \n",
    "- Tracer l'histogramme et tester la validité de ces lois (on peut prendre 10 classes)."
   ]
  },
  {
   "cell_type": "markdown",
   "id": "5dadc892-15be-4f99-a648-b158e9e94b8d",
   "metadata": {},
   "source": [
    "#### Question 1.1\n",
    "La variable aléatoire $X$ de densité de probabilité $f(x)={x^2}{\\sqrt{25-x^2}}$, définie sur l'intervalle $[0,4]$."
   ]
  },
  {
   "cell_type": "code",
   "execution_count": null,
   "id": "cc5b859b-b2fb-4a38-ac99-086eddc2f15e",
   "metadata": {},
   "outputs": [],
   "source": []
  },
  {
   "cell_type": "markdown",
   "id": "275cd2e5-6d64-4f88-aa91-85eebe557f0c",
   "metadata": {},
   "source": [
    "#### Question 1.2\n",
    "Une variable Hyperexponentielle d'ordre $2$, sachant que cette variable suit : \n",
    "- Une exponentielle de paramètre $\\lambda_1=1$ avec la probabilité $p=0.25$.\n",
    "- Une exponentielle de paramètre $\\lambda_2=2$ avec la probabilité $1-p=0.75$."
   ]
  },
  {
   "cell_type": "code",
   "execution_count": null,
   "id": "aaa24ff4-ccd0-4708-beba-450f13992a6a",
   "metadata": {},
   "outputs": [],
   "source": []
  },
  {
   "cell_type": "markdown",
   "id": "3e24e6a6-319b-4abc-bd4a-e98dfd137537",
   "metadata": {},
   "source": [
    "#### Question 1.3\n",
    "La loi Binomiale de paramètres $n=10,p=1/4$ et $n=40,p=1/4$."
   ]
  },
  {
   "cell_type": "code",
   "execution_count": null,
   "id": "5ff5c0c1-285d-46e4-89ea-7572a5d52f55",
   "metadata": {},
   "outputs": [],
   "source": []
  },
  {
   "cell_type": "markdown",
   "id": "36dfe3f4-620c-48de-a2b4-5c1990571181",
   "metadata": {},
   "source": [
    "#### Question 1.4\n",
    "La loi Poisson de paramètre $λ=5$ et $λ=30$."
   ]
  },
  {
   "cell_type": "code",
   "execution_count": null,
   "id": "25e31439-a725-46d4-9992-41166dbe9949",
   "metadata": {},
   "outputs": [],
   "source": []
  },
  {
   "cell_type": "markdown",
   "id": "69db9b95-2157-4c33-870b-130c4d732515",
   "metadata": {},
   "source": [
    "#### Question 1.5\n",
    "Une loi Gaussienne de moyenne $m=2$ et de variance $\\sigma^2 = 4$."
   ]
  },
  {
   "cell_type": "code",
   "execution_count": null,
   "id": "8c25b26f-fc3c-4210-97ae-2e8087dabb2c",
   "metadata": {},
   "outputs": [],
   "source": []
  }
 ],
 "metadata": {
  "kernelspec": {
   "display_name": "Python 3 (ipykernel)",
   "language": "python",
   "name": "python3"
  },
  "language_info": {
   "codemirror_mode": {
    "name": "ipython",
    "version": 3
   },
   "file_extension": ".py",
   "mimetype": "text/x-python",
   "name": "python",
   "nbconvert_exporter": "python",
   "pygments_lexer": "ipython3",
   "version": "3.13.0"
  }
 },
 "nbformat": 4,
 "nbformat_minor": 5
}
