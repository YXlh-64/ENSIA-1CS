{
  "cells": [
    {
      "cell_type": "code",
      "execution_count": 50,
      "metadata": {
        "id": "f0-VjnEj_x6i"
      },
      "outputs": [],
      "source": [
        "# Importing Pandas\n",
        "import pandas as pd\n",
        "import numpy as np"
      ]
    },
    {
      "cell_type": "code",
      "execution_count": 51,
      "metadata": {
        "id": "Y2AZdMpwYSIb"
      },
      "outputs": [],
      "source": [
        "# Create a DataFrame from the given data\n",
        "data = {\n",
        "    'Name': ['Amine', 'Imene', 'Yacine', 'Sarah', 'Redha'],\n",
        "    'Age': [np.NaN, 30, 22, 35, 28],\n",
        "    'City': ['Alger', 'Setif', 'Oran', 'Annaba', 'Jijel'],\n",
        "    'Salary': [50000, 70000, 60000, 80000, 55000]\n",
        "}\n",
        "\n",
        "df = pd.DataFrame(data)"
      ]
    },
    {
      "cell_type": "code",
      "execution_count": 52,
      "metadata": {
        "id": "i6SrHWVyXhtb"
      },
      "outputs": [
        {
          "name": "stdout",
          "output_type": "stream",
          "text": [
            "1. Display the first 3 rows of the DataFrame:\n",
            "      Name   Age   City  Salary\n",
            "0   Amine   NaN  Alger   50000\n",
            "1   Imene  30.0  Setif   70000\n",
            "2  Yacine  22.0   Oran   60000\n"
          ]
        }
      ],
      "source": [
        "# 1. Display the first 3 rows of the DataFrame\n",
        "first_3_rows = df.head(3)\n",
        "print(\"1. Display the first 3 rows of the DataFrame:\\n\", first_3_rows)"
      ]
    },
    {
      "cell_type": "code",
      "execution_count": 53,
      "metadata": {
        "id": "-eWbfTjlXhCK"
      },
      "outputs": [
        {
          "name": "stdout",
          "output_type": "stream",
          "text": [
            "2. Find the number of rows and columns in the DataFrame:\n",
            " (5, 4)\n"
          ]
        }
      ],
      "source": [
        "# 2. Find the number of rows and columns in the DataFrame\n",
        "shape_of_df = df.shape\n",
        "print(\"2. Find the number of rows and columns in the DataFrame:\\n\", shape_of_df)"
      ]
    },
    {
      "cell_type": "code",
      "execution_count": 54,
      "metadata": {
        "id": "okvmy3zTXgdo"
      },
      "outputs": [
        {
          "name": "stdout",
          "output_type": "stream",
          "text": [
            "3. Display the unique values in the 'City' column:\n",
            " <bound method Series.unique of 0     Alger\n",
            "1     Setif\n",
            "2      Oran\n",
            "3    Annaba\n",
            "4     Jijel\n",
            "Name: City, dtype: object>\n"
          ]
        }
      ],
      "source": [
        "# 3. Display the unique values in the 'City' column\n",
        "unique_cities = df['City'].unique\n",
        "print(\"3. Display the unique values in the 'City' column:\\n\", unique_cities)"
      ]
    },
    {
      "cell_type": "code",
      "execution_count": 55,
      "metadata": {
        "id": "5jehDNF-Xfoa"
      },
      "outputs": [
        {
          "name": "stdout",
          "output_type": "stream",
          "text": [
            "4. Calculate the mean salary of the employees:\n",
            " 63000.0\n"
          ]
        }
      ],
      "source": [
        "# 4. Calculate the mean salary of the employees\n",
        "mean_salary = df['Salary'].mean()\n",
        "print(\"4. Calculate the mean salary of the employees:\\n\", mean_salary)"
      ]
    },
    {
      "cell_type": "code",
      "execution_count": 56,
      "metadata": {
        "id": "iIeNL3oqXfLH"
      },
      "outputs": [
        {
          "name": "stdout",
          "output_type": "stream",
          "text": [
            "5. Add a new column 'Bonus' with random bonus values:\n",
            "      Name   Age    City  Salary  Bonus\n",
            "0   Amine   NaN   Alger   50000   2621\n",
            "1   Imene  30.0   Setif   70000   1677\n",
            "2  Yacine  22.0    Oran   60000   3116\n",
            "3   Sarah  35.0  Annaba   80000   4094\n",
            "4   Redha  28.0   Jijel   55000   1927\n"
          ]
        }
      ],
      "source": [
        "# 5. Add a new column 'Bonus' with random bonus values (e.g., 1000, 1500, 1200, 2000, 1100)\n",
        "df['Bonus'] = np.random.randint(1000, 5000, size=len(df))\n",
        "print(\"5. Add a new column 'Bonus' with random bonus values:\\n\", df)"
      ]
    },
    {
      "cell_type": "code",
      "execution_count": 57,
      "metadata": {
        "id": "hQlxUWRwXeru"
      },
      "outputs": [
        {
          "name": "stdout",
          "output_type": "stream",
          "text": [
            "6. Drop the 'City' column from the DataFrame:\n",
            "      Name   Age  Salary  Bonus\n",
            "0   Amine   NaN   50000   2621\n",
            "1   Imene  30.0   70000   1677\n",
            "2  Yacine  22.0   60000   3116\n",
            "3   Sarah  35.0   80000   4094\n",
            "4   Redha  28.0   55000   1927\n"
          ]
        }
      ],
      "source": [
        "# 6. Drop the 'City' column from the DataFrame\n",
        "df_without_city = df.drop(columns=['City'], axis=0)\n",
        "print(\"6. Drop the 'City' column from the DataFrame:\\n\", df_without_city)"
      ]
    },
    {
      "cell_type": "code",
      "execution_count": 58,
      "metadata": {
        "id": "ok6yNcIlXeNf"
      },
      "outputs": [
        {
          "name": "stdout",
          "output_type": "stream",
          "text": [
            "7. Select only the rows where the age is greater than 25:\n",
            "     Name   Age    City  Salary  Bonus\n",
            "1  Imene  30.0   Setif   70000   1677\n",
            "3  Sarah  35.0  Annaba   80000   4094\n",
            "4  Redha  28.0   Jijel   55000   1927\n"
          ]
        }
      ],
      "source": [
        "# 7. Select only the rows where the age is greater than 25\n",
        "above_25_years = df[df['Age'] > 25]\n",
        "print(\"7. Select only the rows where the age is greater than 25:\\n\", above_25_years)"
      ]
    },
    {
      "cell_type": "code",
      "execution_count": 59,
      "metadata": {
        "id": "U7m4mH5YXdp3"
      },
      "outputs": [
        {
          "name": "stdout",
          "output_type": "stream",
          "text": [
            "8. Set the 'Name' column as the index of the DataFrame:\n",
            "          Age    City  Salary  Bonus\n",
            "Name                               \n",
            "Amine    NaN   Alger   50000   2621\n",
            "Imene   30.0   Setif   70000   1677\n",
            "Yacine  22.0    Oran   60000   3116\n",
            "Sarah   35.0  Annaba   80000   4094\n",
            "Redha   28.0   Jijel   55000   1927\n"
          ]
        }
      ],
      "source": [
        "# 8. Set the 'Name' column as the index of the DataFrame\n",
        "df_with_index = df.set_index('Name')\n",
        "print(\"8. Set the 'Name' column as the index of the DataFrame:\\n\", df_with_index)"
      ]
    },
    {
      "cell_type": "code",
      "execution_count": 60,
      "metadata": {
        "id": "pHpCR5IWXdHq"
      },
      "outputs": [
        {
          "name": "stdout",
          "output_type": "stream",
          "text": [
            "9. Reset the index of the DataFrame:\n",
            "      Name   Age    City  Salary  Bonus\n",
            "0   Amine   NaN   Alger   50000   2621\n",
            "1   Imene  30.0   Setif   70000   1677\n",
            "2  Yacine  22.0    Oran   60000   3116\n",
            "3   Sarah  35.0  Annaba   80000   4094\n",
            "4   Redha  28.0   Jijel   55000   1927\n"
          ]
        }
      ],
      "source": [
        "# 9. Reset the index of the DataFrame\n",
        "df_reset_index = df_with_index.reset_index(drop=False, inplace=False)\n",
        "print(\"9. Reset the index of the DataFrame:\\n\", df_reset_index)"
      ]
    },
    {
      "cell_type": "code",
      "execution_count": 61,
      "metadata": {
        "id": "eogeXoMTXcjt"
      },
      "outputs": [
        {
          "name": "stdout",
          "output_type": "stream",
          "text": [
            "10. Sort the DataFrame based on the 'Salary' column in descending order:\n",
            "      Name   Age    City  Salary  Bonus\n",
            "3   Sarah  35.0  Annaba   80000   4094\n",
            "1   Imene  30.0   Setif   70000   1677\n",
            "2  Yacine  22.0    Oran   60000   3116\n",
            "4   Redha  28.0   Jijel   55000   1927\n",
            "0   Amine   NaN   Alger   50000   2621\n"
          ]
        }
      ],
      "source": [
        "# 10. Sort the DataFrame based on the 'Salary' column in descending order\n",
        "sorted_df = df.sort_values(by='Salary', ascending=False, inplace=False)\n",
        "print(\"10. Sort the DataFrame based on the 'Salary' column in descending order:\\n\", sorted_df)"
      ]
    },
    {
      "cell_type": "code",
      "execution_count": 63,
      "metadata": {
        "id": "wTR0n-3CXb-Q"
      },
      "outputs": [
        {
          "name": "stdout",
          "output_type": "stream",
          "text": [
            "11. Group the DataFrame by the 'City' column and calculate the mean salary in each city:\n",
            " City\n",
            "Alger     50000.0\n",
            "Annaba    80000.0\n",
            "Jijel     55000.0\n",
            "Oran      60000.0\n",
            "Setif     70000.0\n",
            "Name: Salary, dtype: float64\n"
          ]
        }
      ],
      "source": [
        "# 11. Group the DataFrame by the 'City' column and calculate the mean salary in each city\n",
        "mean_salary_by_city = df.groupby('City')['Salary'].mean()\n",
        "print(\"11. Group the DataFrame by the 'City' column and calculate the mean salary in each city:\\n\", mean_salary_by_city)"
      ]
    },
    {
      "cell_type": "code",
      "execution_count": 64,
      "metadata": {
        "id": "XbVJRj4oXbaC"
      },
      "outputs": [
        {
          "name": "stdout",
          "output_type": "stream",
          "text": [
            "12. Replace 'Charlie' with 'Eva' in the 'Name' column:\n",
            " 0    Amine\n",
            "1    Imene\n",
            "2    Selma\n",
            "3    Sarah\n",
            "4    Redha\n",
            "Name: Name, dtype: object\n"
          ]
        }
      ],
      "source": [
        "# 12. Replace 'Yacine' with 'Selma' in the 'Name' column\n",
        "df_replace_name = df['Name'].replace('Yacine', 'Selma')\n",
        "print(\"12. Replace 'Charlie' with 'Eva' in the 'Name' column:\\n\", df_replace_name)"
      ]
    },
    {
      "cell_type": "code",
      "execution_count": 65,
      "metadata": {
        "id": "ayjo1zmtXa8V"
      },
      "outputs": [
        {
          "name": "stdout",
          "output_type": "stream",
          "text": [
            "13. Display the statistical summary of the DataFrame:\n",
            "              Age        Salary        Bonus\n",
            "count   4.000000      5.000000     5.000000\n",
            "mean   28.750000  63000.000000  2687.000000\n",
            "std     5.377422  12041.594579   970.276507\n",
            "min    22.000000  50000.000000  1677.000000\n",
            "25%    26.500000  55000.000000  1927.000000\n",
            "50%    29.000000  60000.000000  2621.000000\n",
            "75%    31.250000  70000.000000  3116.000000\n",
            "max    35.000000  80000.000000  4094.000000\n"
          ]
        }
      ],
      "source": [
        "# 13. Display the statistical summary of the DataFrame\n",
        "summary_stats = df.describe()\n",
        "print(\"13. Display the statistical summary of the DataFrame:\\n\", summary_stats)"
      ]
    },
    {
      "cell_type": "code",
      "execution_count": 67,
      "metadata": {
        "id": "nvZ7NK83Xaa7"
      },
      "outputs": [
        {
          "name": "stdout",
          "output_type": "stream",
          "text": [
            "14. Fill missing values in the DataFrame with the mean of each column:\n",
            "      Name    Age    City  Salary  Bonus\n",
            "0   Amine  28.75   Alger   50000   2621\n",
            "1   Imene  30.00   Setif   70000   1677\n",
            "2  Yacine  22.00    Oran   60000   3116\n",
            "3   Sarah  35.00  Annaba   80000   4094\n",
            "4   Redha  28.00   Jijel   55000   1927\n"
          ]
        }
      ],
      "source": [
        "# 14. Fill missing values in the DataFrame with the mean of each column\n",
        "df_filled_na = pd.DataFrame(df[['Age', 'Salary', 'Bonus']]) #[[]] for selecting multiple columns from the dataframe\n",
        "df_filled_na = df.fillna(df_filled_na.mean())\n",
        "print(\"14. Fill missing values in the DataFrame with the mean of each column:\\n\", df_filled_na)"
      ]
    },
    {
      "cell_type": "code",
      "execution_count": 68,
      "metadata": {
        "id": "ejcIKc_LXZ2r"
      },
      "outputs": [
        {
          "name": "stdout",
          "output_type": "stream",
          "text": [
            "15. Calculate the total salary expenditure by the company:\n",
            " 315000\n"
          ]
        }
      ],
      "source": [
        "# 15. Calculate the total salary expenditure by the company\n",
        "total_salary_expenditure = df['Salary'].sum()\n",
        "print(\"15. Calculate the total salary expenditure by the company:\\n\", total_salary_expenditure)"
      ]
    },
    {
      "cell_type": "code",
      "execution_count": 71,
      "metadata": {
        "id": "kRPTncKxXZQ3"
      },
      "outputs": [
        {
          "name": "stdout",
          "output_type": "stream",
          "text": [
            "16. Save the DataFrame to a CSV file named 'employee_data.csv': File saved.\n"
          ]
        }
      ],
      "source": [
        "# 16. Save the DataFrame to a CSV file named 'employee_data.csv'\n",
        "df.to_csv('employee_data.csv', index=None)\n",
        "print(\"16. Save the DataFrame to a CSV file named 'employee_data.csv': File saved.\")"
      ]
    },
    {
      "cell_type": "code",
      "execution_count": 72,
      "metadata": {
        "id": "oA6buGyMXYmX"
      },
      "outputs": [
        {
          "name": "stdout",
          "output_type": "stream",
          "text": [
            "17. Read the 'employee_data.csv' file into a new DataFrame:\n",
            "      Name   Age    City  Salary  Bonus\n",
            "0   Amine   NaN   Alger   50000   2621\n",
            "1   Imene  30.0   Setif   70000   1677\n",
            "2  Yacine  22.0    Oran   60000   3116\n",
            "3   Sarah  35.0  Annaba   80000   4094\n",
            "4   Redha  28.0   Jijel   55000   1927\n"
          ]
        }
      ],
      "source": [
        "# 17. Read the 'employee_data.csv' file into a new DataFrame\n",
        "new_df = pd.read_csv(\"employee_data.csv\")\n",
        "print(\"17. Read the 'employee_data.csv' file into a new DataFrame:\\n\", new_df)"
      ]
    },
    {
      "cell_type": "code",
      "execution_count": 73,
      "metadata": {
        "id": "jkbU4nxAXX5N"
      },
      "outputs": [
        {
          "name": "stdout",
          "output_type": "stream",
          "text": [
            "18. Display the last 2 rows of the new DataFrame:\n",
            "     Name   Age    City  Salary  Bonus\n",
            "3  Sarah  35.0  Annaba   80000   4094\n",
            "4  Redha  28.0   Jijel   55000   1927\n"
          ]
        }
      ],
      "source": [
        "# 18. Display the last 2 rows of the new DataFrame\n",
        "last_2_rows_new_df = new_df.tail(2)\n",
        "print(\"18. Display the last 2 rows of the new DataFrame:\\n\", last_2_rows_new_df)"
      ]
    },
    {
      "cell_type": "code",
      "execution_count": 77,
      "metadata": {
        "id": "HrD_eQ0pXXHz"
      },
      "outputs": [
        {
          "name": "stdout",
          "output_type": "stream",
          "text": [
            "19. Rename the columns to 'EmployeeName', 'EmployeeAge', 'EmployeeCity', 'EmployeeSalary':\n",
            "   EmployeeName  EmployeeAge EmployeeCity  EmployeeSalary  Bonus\n",
            "0        Amine          NaN        Alger           50000   2621\n",
            "1        Imene         30.0        Setif           70000   1677\n",
            "2       Yacine         22.0         Oran           60000   3116\n",
            "3        Sarah         35.0       Annaba           80000   4094\n",
            "4        Redha         28.0        Jijel           55000   1927\n"
          ]
        }
      ],
      "source": [
        "# 19. Rename the columns to 'EmployeeName', 'EmployeeAge', 'EmployeeCity', 'EmployeeSalary'\n",
        "# rename() can both be used for renaming columns and index {old name:new name}\n",
        "df_renamed_columns = df.rename(columns={'Name':'EmployeeName', 'Age':'EmployeeAge', 'City':'EmployeeCity', \"Salary\":'EmployeeSalary'})\n",
        "print(\"19. Rename the columns to 'EmployeeName', 'EmployeeAge', 'EmployeeCity', 'EmployeeSalary':\\n\", df_renamed_columns)"
      ]
    },
    {
      "cell_type": "code",
      "execution_count": 79,
      "metadata": {
        "id": "qM1jnG2pXWSY"
      },
      "outputs": [
        {
          "name": "stdout",
          "output_type": "stream",
          "text": [
            "20. Create a new DataFrame with only 'Name' and 'Salary' columns:\n",
            "      Name  Salary\n",
            "0   Amine   50000\n",
            "1   Imene   70000\n",
            "2  Yacine   60000\n",
            "3   Sarah   80000\n",
            "4   Redha   55000\n"
          ]
        }
      ],
      "source": [
        "# 20. Create a new DataFrame with only 'Name' and 'Salary' columns\n",
        "df_name_salary = df[['Name', 'Salary']]\n",
        "print(\"20. Create a new DataFrame with only 'Name' and 'Salary' columns:\\n\", df_name_salary)"
      ]
    },
    {
      "cell_type": "code",
      "execution_count": 47,
      "metadata": {},
      "outputs": [
        {
          "data": {
            "text/html": [
              "<div>\n",
              "<style scoped>\n",
              "    .dataframe tbody tr th:only-of-type {\n",
              "        vertical-align: middle;\n",
              "    }\n",
              "\n",
              "    .dataframe tbody tr th {\n",
              "        vertical-align: top;\n",
              "    }\n",
              "\n",
              "    .dataframe thead th {\n",
              "        text-align: right;\n",
              "    }\n",
              "</style>\n",
              "<table border=\"1\" class=\"dataframe\">\n",
              "  <thead>\n",
              "    <tr style=\"text-align: right;\">\n",
              "      <th></th>\n",
              "      <th>Category</th>\n",
              "      <th>Value</th>\n",
              "    </tr>\n",
              "  </thead>\n",
              "  <tbody>\n",
              "    <tr>\n",
              "      <th>0</th>\n",
              "      <td>A</td>\n",
              "      <td>18.333333</td>\n",
              "    </tr>\n",
              "    <tr>\n",
              "      <th>1</th>\n",
              "      <td>B</td>\n",
              "      <td>22.500000</td>\n",
              "    </tr>\n",
              "  </tbody>\n",
              "</table>\n",
              "</div>"
            ],
            "text/plain": [
              "  Category      Value\n",
              "0        A  18.333333\n",
              "1        B  22.500000"
            ]
          },
          "execution_count": 47,
          "metadata": {},
          "output_type": "execute_result"
        }
      ],
      "source": [
        "import pandas as pd\n",
        "# Example DataFrame\n",
        "data = {\n",
        "    'Category': ['A', 'B', 'A', 'B', 'A'],\n",
        "    'Value': [10, 20, 15, 25, 30]\n",
        "}\n",
        "df = pd.DataFrame(data)\n",
        "# Group by 'Category' and calculate sum of 'Value'\n",
        "grouped = df.groupby('Category').mean().reset_index()\n",
        "grouped"
      ]
    }
  ],
  "metadata": {
    "colab": {
      "provenance": []
    },
    "kernelspec": {
      "display_name": "base",
      "language": "python",
      "name": "python3"
    },
    "language_info": {
      "codemirror_mode": {
        "name": "ipython",
        "version": 3
      },
      "file_extension": ".py",
      "mimetype": "text/x-python",
      "name": "python",
      "nbconvert_exporter": "python",
      "pygments_lexer": "ipython3",
      "version": "3.11.8"
    }
  },
  "nbformat": 4,
  "nbformat_minor": 0
}
