{
 "cells": [
  {
   "cell_type": "markdown",
   "metadata": {
    "colab_type": "text",
    "id": "6Ijg5wUCTQYG"
   },
   "source": [
    "# LAB 2 : Data Preprocessing and cleaning Part 2 \n",
    "\n",
    "<font color=\"red\"> **<strong>In this lab, your task is to carefully review all instructions and fill the empty codd cells with the necessary code to ensure everything functions correctly.</strong>**</font>\n",
    "\n",
    "The majority of data science work often revolves around pre-processing data, and making sure it's ready for analysis. In this session, we will be covering how transform our raw data into accurate insights. In this notebook, you will learn:\n",
    "\n",
    "* Import data into `pandas`, and use simple functions to diagnose problems in our data.\n",
    "* Visualize missing and out of range data using `missingno` and `seaborn`.\n",
    "* Apply a range of data cleaning tasks that will ensure the delivery of accurate insights.\n",
    "\n",
    "## **The Dataset**\n",
    "\n",
    "The dataset to be used in this webinar is a CSV file named `airbnb.csv`, which contains data on airbnb listings in the state of New York. It contains the following columns:\n",
    "\n",
    "- `listing_id`: The unique identifier for a listing\n",
    "- `description`: The description used on the listing\n",
    "- `host_id`: Unique identifier for a host\n",
    "- `host_name`: Name of host\n",
    "- `neighbourhood_full`: Name of boroughs and neighbourhoods\n",
    "- `coordinates`: Coordinates of listing _(latitude, longitude)_\n",
    "- `Listing added`: Date of added listing\n",
    "- `room_type`: Type of room \n",
    "- `rating`: Rating from 0 to 5.\n",
    "- `price`: Price per night for listing\n",
    "- `number_of_reviews`: Amount of reviews received \n",
    "- `last_review`: Date of last review\n",
    "- `reviews_per_month`: Number of reviews per month\n",
    "- `availability_365`: Number of days available per year\n",
    "- `Number of stays`: Total number of stays thus far\n"
   ]
  },
  {
   "cell_type": "markdown",
   "metadata": {
    "colab_type": "text",
    "id": "BMYfcKeDY85K"
   },
   "source": [
    "## **Getting started**"
   ]
  },
  {
   "cell_type": "code",
   "execution_count": 138,
   "metadata": {
    "colab": {},
    "colab_type": "code",
    "id": "EMQfyC7GUNhT"
   },
   "outputs": [],
   "source": [
    "# Import libraries\n",
    "import pandas as pd\n",
    "import matplotlib.pyplot as plt\n",
    "import numpy as np\n",
    "import seaborn as sns\n",
    "import datetime as dt\n",
    "import datetime as dt"
   ]
  },
  {
   "cell_type": "code",
   "execution_count": 139,
   "metadata": {
    "colab": {},
    "colab_type": "code",
    "id": "l8t_EwRNZPLB"
   },
   "outputs": [],
   "source": [
    "# Read in the dataset\n",
    "airbnb = pd.read_csv('https://github.com/adelnehme/python-for-spreadsheet-users-webinar/blob/master/datasets/airbnb.csv?raw=true', index_col = 'Unnamed: 0')"
   ]
  },
  {
   "cell_type": "markdown",
   "metadata": {
    "colab_type": "text",
    "id": "1ui1uvtyZwfQ"
   },
   "source": [
    "## **Diagnosing data cleaning problems using simple `pandas` and visualizations** "
   ]
  },
  {
   "cell_type": "markdown",
   "metadata": {
    "colab_type": "text",
    "id": "t3fgtos4Z6Xa"
   },
   "source": [
    "Some important and common methods needed to get a better understanding of DataFrames and diagnose potential data problems are the following: \n",
    "\n",
    "- `.head()` prints the header of a DataFrame\n",
    "- `.dtypes` prints datatypes of all columns in a DataFrame\n",
    "- `.info()` provides a bird's eye view of column data types and missing values in a DataFrame\n",
    "- `.describe()` returns a distribution of numeric columns in your DataFrame\n",
    "- `.isna().sum()` allows us to break down the number of missing values per column in our DataFrame\n",
    "- `.unique()` finds the number of unique values in a DataFrame column\n",
    "\n",
    "<br>\n",
    "\n",
    "- `sns.displot()` plots the distribution of one column in your DataFrame."
   ]
  },
  {
   "cell_type": "code",
   "execution_count": 140,
   "metadata": {
    "colab": {},
    "colab_type": "code",
    "id": "x3w1WbkFZ-ig"
   },
   "outputs": [
    {
     "data": {
      "text/html": [
       "<div>\n",
       "<style scoped>\n",
       "    .dataframe tbody tr th:only-of-type {\n",
       "        vertical-align: middle;\n",
       "    }\n",
       "\n",
       "    .dataframe tbody tr th {\n",
       "        vertical-align: top;\n",
       "    }\n",
       "\n",
       "    .dataframe thead th {\n",
       "        text-align: right;\n",
       "    }\n",
       "</style>\n",
       "<table border=\"1\" class=\"dataframe\">\n",
       "  <thead>\n",
       "    <tr style=\"text-align: right;\">\n",
       "      <th></th>\n",
       "      <th>listing_id</th>\n",
       "      <th>name</th>\n",
       "      <th>host_id</th>\n",
       "      <th>host_name</th>\n",
       "      <th>neighbourhood_full</th>\n",
       "      <th>coordinates</th>\n",
       "      <th>room_type</th>\n",
       "      <th>price</th>\n",
       "      <th>number_of_reviews</th>\n",
       "      <th>last_review</th>\n",
       "      <th>reviews_per_month</th>\n",
       "      <th>availability_365</th>\n",
       "      <th>rating</th>\n",
       "      <th>number_of_stays</th>\n",
       "      <th>5_stars</th>\n",
       "      <th>listing_added</th>\n",
       "    </tr>\n",
       "  </thead>\n",
       "  <tbody>\n",
       "    <tr>\n",
       "      <th>0</th>\n",
       "      <td>13740704</td>\n",
       "      <td>Cozy,budget friendly, cable inc, private entra...</td>\n",
       "      <td>20583125</td>\n",
       "      <td>Michel</td>\n",
       "      <td>Brooklyn, Flatlands</td>\n",
       "      <td>(40.63222, -73.93398)</td>\n",
       "      <td>Private room</td>\n",
       "      <td>45$</td>\n",
       "      <td>10</td>\n",
       "      <td>2018-12-12</td>\n",
       "      <td>0.70</td>\n",
       "      <td>85</td>\n",
       "      <td>4.100954</td>\n",
       "      <td>12.0</td>\n",
       "      <td>0.609432</td>\n",
       "      <td>2018-06-08</td>\n",
       "    </tr>\n",
       "    <tr>\n",
       "      <th>1</th>\n",
       "      <td>22005115</td>\n",
       "      <td>Two floor apartment near Central Park</td>\n",
       "      <td>82746113</td>\n",
       "      <td>Cecilia</td>\n",
       "      <td>Manhattan, Upper West Side</td>\n",
       "      <td>(40.78761, -73.96862)</td>\n",
       "      <td>Entire home/apt</td>\n",
       "      <td>135$</td>\n",
       "      <td>1</td>\n",
       "      <td>2019-06-30</td>\n",
       "      <td>1.00</td>\n",
       "      <td>145</td>\n",
       "      <td>3.367600</td>\n",
       "      <td>1.2</td>\n",
       "      <td>0.746135</td>\n",
       "      <td>2018-12-25</td>\n",
       "    </tr>\n",
       "    <tr>\n",
       "      <th>2</th>\n",
       "      <td>21667615</td>\n",
       "      <td>Beautiful 1BR in Brooklyn Heights</td>\n",
       "      <td>78251</td>\n",
       "      <td>Leslie</td>\n",
       "      <td>Brooklyn, Brooklyn Heights</td>\n",
       "      <td>(40.7007, -73.99517)</td>\n",
       "      <td>Entire home/apt</td>\n",
       "      <td>150$</td>\n",
       "      <td>0</td>\n",
       "      <td>NaN</td>\n",
       "      <td>NaN</td>\n",
       "      <td>65</td>\n",
       "      <td>NaN</td>\n",
       "      <td>NaN</td>\n",
       "      <td>NaN</td>\n",
       "      <td>2018-08-15</td>\n",
       "    </tr>\n",
       "    <tr>\n",
       "      <th>3</th>\n",
       "      <td>6425850</td>\n",
       "      <td>Spacious, charming studio</td>\n",
       "      <td>32715865</td>\n",
       "      <td>Yelena</td>\n",
       "      <td>Manhattan, Upper West Side</td>\n",
       "      <td>(40.79169, -73.97498)</td>\n",
       "      <td>Entire home/apt</td>\n",
       "      <td>86$</td>\n",
       "      <td>5</td>\n",
       "      <td>2017-09-23</td>\n",
       "      <td>0.13</td>\n",
       "      <td>0</td>\n",
       "      <td>4.763203</td>\n",
       "      <td>6.0</td>\n",
       "      <td>0.769947</td>\n",
       "      <td>2017-03-20</td>\n",
       "    </tr>\n",
       "    <tr>\n",
       "      <th>4</th>\n",
       "      <td>22986519</td>\n",
       "      <td>Bedroom on the lively Lower East Side</td>\n",
       "      <td>154262349</td>\n",
       "      <td>Brooke</td>\n",
       "      <td>Manhattan, Lower East Side</td>\n",
       "      <td>(40.71884, -73.98354)</td>\n",
       "      <td>Private room</td>\n",
       "      <td>160$</td>\n",
       "      <td>23</td>\n",
       "      <td>2019-06-12</td>\n",
       "      <td>2.29</td>\n",
       "      <td>102</td>\n",
       "      <td>3.822591</td>\n",
       "      <td>27.6</td>\n",
       "      <td>0.649383</td>\n",
       "      <td>2020-10-23</td>\n",
       "    </tr>\n",
       "  </tbody>\n",
       "</table>\n",
       "</div>"
      ],
      "text/plain": [
       "   listing_id                                               name    host_id  \\\n",
       "0    13740704  Cozy,budget friendly, cable inc, private entra...   20583125   \n",
       "1    22005115              Two floor apartment near Central Park   82746113   \n",
       "2    21667615                  Beautiful 1BR in Brooklyn Heights      78251   \n",
       "3     6425850                          Spacious, charming studio   32715865   \n",
       "4    22986519              Bedroom on the lively Lower East Side  154262349   \n",
       "\n",
       "  host_name          neighbourhood_full            coordinates  \\\n",
       "0    Michel         Brooklyn, Flatlands  (40.63222, -73.93398)   \n",
       "1   Cecilia  Manhattan, Upper West Side  (40.78761, -73.96862)   \n",
       "2    Leslie  Brooklyn, Brooklyn Heights   (40.7007, -73.99517)   \n",
       "3    Yelena  Manhattan, Upper West Side  (40.79169, -73.97498)   \n",
       "4    Brooke  Manhattan, Lower East Side  (40.71884, -73.98354)   \n",
       "\n",
       "         room_type price  number_of_reviews last_review  reviews_per_month  \\\n",
       "0     Private room   45$                 10  2018-12-12               0.70   \n",
       "1  Entire home/apt  135$                  1  2019-06-30               1.00   \n",
       "2  Entire home/apt  150$                  0         NaN                NaN   \n",
       "3  Entire home/apt   86$                  5  2017-09-23               0.13   \n",
       "4     Private room  160$                 23  2019-06-12               2.29   \n",
       "\n",
       "   availability_365    rating  number_of_stays   5_stars listing_added  \n",
       "0                85  4.100954             12.0  0.609432    2018-06-08  \n",
       "1               145  3.367600              1.2  0.746135    2018-12-25  \n",
       "2                65       NaN              NaN       NaN    2018-08-15  \n",
       "3                 0  4.763203              6.0  0.769947    2017-03-20  \n",
       "4               102  3.822591             27.6  0.649383    2020-10-23  "
      ]
     },
     "execution_count": 140,
     "metadata": {},
     "output_type": "execute_result"
    }
   ],
   "source": [
    "# Print the header of the DataFrame\n",
    "airbnb.head()"
   ]
  },
  {
   "cell_type": "markdown",
   "metadata": {},
   "source": [
    "By merely looking at the data, we can already diagnose a range of potential problems down the line such as:\n",
    "\n",
    "<br>\n",
    "\n",
    "_Data type problems:_\n",
    "\n",
    "- **Problem 1**: We can see that the `coordinates` column is probably a string (`str`) - most mapping functions require a latitude input, and longitude input, so it's best to split this column into two and convert the values to `float`.\n",
    "- **Problem 2**: Similar to `coordinates` - the `price` column also is a string with `$` attached to each price point, we need to convert that to `float` if we want a good understanding of the dataset.\n",
    "- **Problem 3**: We need to make sure date columns (`last_review` and `listing_added`) are in `datetime` to allow easier manipulation of data data.\n",
    "\n",
    "<br>\n",
    "\n",
    "_Missing data problems:_\n",
    "\n",
    "- **Problem 4**: We can see that there are missing data in some columns, we'll get a better bird's eye view of that down the line.\n",
    "\n",
    "<br>\n",
    "\n",
    "_Text/categorical data problems:_\n",
    "\n",
    "\n",
    "- **Problem 5**: To be able to visualize number of listings by boroughs - we need to separate neighborhoud name from borough name in `neighbourhood_full` column.\n",
    "- **Problem 6**: Looking at `room_type`, let's replace those values to make them `'Shared Room'`, `'Private Home/Apartment'`, `'Private Room'` and `'Hotel Room'`."
   ]
  },
  {
   "cell_type": "code",
   "execution_count": 141,
   "metadata": {
    "colab": {},
    "colab_type": "code",
    "id": "SiWS3EiPakp2"
   },
   "outputs": [
    {
     "data": {
      "text/plain": [
       "listing_id              int64\n",
       "name                   object\n",
       "host_id                 int64\n",
       "host_name              object\n",
       "neighbourhood_full     object\n",
       "coordinates            object\n",
       "room_type              object\n",
       "price                  object\n",
       "number_of_reviews       int64\n",
       "last_review            object\n",
       "reviews_per_month     float64\n",
       "availability_365        int64\n",
       "rating                float64\n",
       "number_of_stays       float64\n",
       "5_stars               float64\n",
       "listing_added          object\n",
       "dtype: object"
      ]
     },
     "execution_count": 141,
     "metadata": {},
     "output_type": "execute_result"
    }
   ],
   "source": [
    "# Print data types of DataFrame\n",
    "airbnb.dtypes"
   ]
  },
  {
   "cell_type": "code",
   "execution_count": 142,
   "metadata": {
    "colab": {},
    "colab_type": "code",
    "id": "KoT5LMdSiW1H"
   },
   "outputs": [
    {
     "name": "stdout",
     "output_type": "stream",
     "text": [
      "<class 'pandas.core.frame.DataFrame'>\n",
      "Index: 10019 entries, 0 to 10018\n",
      "Data columns (total 16 columns):\n",
      " #   Column              Non-Null Count  Dtype  \n",
      "---  ------              --------------  -----  \n",
      " 0   listing_id          10019 non-null  int64  \n",
      " 1   name                10014 non-null  object \n",
      " 2   host_id             10019 non-null  int64  \n",
      " 3   host_name           10017 non-null  object \n",
      " 4   neighbourhood_full  10019 non-null  object \n",
      " 5   coordinates         10019 non-null  object \n",
      " 6   room_type           10019 non-null  object \n",
      " 7   price               9781 non-null   object \n",
      " 8   number_of_reviews   10019 non-null  int64  \n",
      " 9   last_review         7944 non-null   object \n",
      " 10  reviews_per_month   7944 non-null   float64\n",
      " 11  availability_365    10019 non-null  int64  \n",
      " 12  rating              7944 non-null   float64\n",
      " 13  number_of_stays     7944 non-null   float64\n",
      " 14  5_stars             7944 non-null   float64\n",
      " 15  listing_added       10019 non-null  object \n",
      "dtypes: float64(4), int64(4), object(8)\n",
      "memory usage: 1.3+ MB\n"
     ]
    }
   ],
   "source": [
    "# Print info of DataFrame\n",
    "airbnb.info()"
   ]
  },
  {
   "cell_type": "markdown",
   "metadata": {},
   "source": [
    "Printing the info confirms our hunch about the following:\n",
    "\n",
    "- There is missing data in the `price`, `last_review`, `reviews_per_month`, `rating`, `number_of_stays`, `5_stars` columns. It also seems that the missingness of `last_review`, `reviews_per_month`, `rating`, `number_of_stays`, `5_stars` are related since they have the same amount of missing data. We will confirm later with `missingno` _(**problem 4**)_."
   ]
  },
  {
   "cell_type": "code",
   "execution_count": 143,
   "metadata": {
    "colab": {},
    "colab_type": "code",
    "id": "dvsinK9zexdv"
   },
   "outputs": [
    {
     "data": {
      "text/plain": [
       "listing_id               0\n",
       "name                     5\n",
       "host_id                  0\n",
       "host_name                2\n",
       "neighbourhood_full       0\n",
       "coordinates              0\n",
       "room_type                0\n",
       "price                  238\n",
       "number_of_reviews        0\n",
       "last_review           2075\n",
       "reviews_per_month     2075\n",
       "availability_365         0\n",
       "rating                2075\n",
       "number_of_stays       2075\n",
       "5_stars               2075\n",
       "listing_added            0\n",
       "dtype: int64"
      ]
     },
     "execution_count": 143,
     "metadata": {},
     "output_type": "execute_result"
    }
   ],
   "source": [
    "# Print number of missing values\n",
    "airbnb.isna().sum()"
   ]
  },
  {
   "cell_type": "markdown",
   "metadata": {
    "colab_type": "text",
    "id": "BLtjk34CgDdF"
   },
   "source": [
    "There are a variety of ways of dealing with missing data that is dependent on type of missingness, as well as the business assumptions behind our data - our options could be:\n",
    "\n",
    "- Dropping missing data (if the data dropped does not impact or skew our data)\n",
    "- Setting to missing and impute with statistical measures (median, mean, mode ...)\n",
    "- Imputing with more complex algorithmic/machine learning based approaches\n",
    "- Impute based on business assumptions of our data"
   ]
  },
  {
   "cell_type": "code",
   "execution_count": 144,
   "metadata": {
    "colab": {},
    "colab_type": "code",
    "id": "ydyKeLnKgAHq"
   },
   "outputs": [
    {
     "data": {
      "text/plain": [
       "(10019, 16)"
      ]
     },
     "execution_count": 144,
     "metadata": {},
     "output_type": "execute_result"
    }
   ],
   "source": [
    "# Print description of DataFrame\n",
    "airbnb.describe()\n",
    "airbnb.shape"
   ]
  },
  {
   "cell_type": "markdown",
   "metadata": {},
   "source": [
    "\n",
    "\n",
    "- **Problem 7:** Looking at the maximum of the `rating` column - we see that it is out of range of `5` which is the maximum rating possible. We need to make sure we fix the range this column.\n",
    "\n",
    "It's worth noting that `.describe()` does not offer a bird's eye view of all the out of range data we have, for example, what if we have date data in the future? Or given our dataset, `listing_added` dates that are in the future of `last_review` dates?"
   ]
  },
  {
   "cell_type": "code",
   "execution_count": 145,
   "metadata": {
    "colab": {},
    "colab_type": "code",
    "id": "VVJat5xZjJLX"
   },
   "outputs": [
    {
     "name": "stderr",
     "output_type": "stream",
     "text": [
      "/home/aya/anaconda3/lib/python3.11/site-packages/seaborn/_oldcore.py:1119: FutureWarning: use_inf_as_na option is deprecated and will be removed in a future version. Convert inf values to NaN before operating instead.\n",
      "  with pd.option_context('mode.use_inf_as_na', True):\n"
     ]
    },
    {
     "data": {
      "image/png": "[encoded data removed]",
      "text/plain": [
       "<Figure size 500x500 with 1 Axes>"
      ]
     },
     "metadata": {},
     "output_type": "display_data"
    },
    {
     "name": "stderr",
     "output_type": "stream",
     "text": [
      "/home/aya/anaconda3/lib/python3.11/site-packages/seaborn/_oldcore.py:1119: FutureWarning: use_inf_as_na option is deprecated and will be removed in a future version. Convert inf values to NaN before operating instead.\n",
      "  with pd.option_context('mode.use_inf_as_na', True):\n"
     ]
    },
    {
     "data": {
      "text/plain": [
       "<Axes: xlabel='rating', ylabel='Count'>"
      ]
     },
     "execution_count": 145,
     "metadata": {},
     "output_type": "execute_result"
    },
    {
     "data": {
      "image/png": "[encoded data removed]",
      "text/plain": [
       "<Figure size 640x480 with 1 Axes>"
      ]
     },
     "metadata": {},
     "output_type": "display_data"
    }
   ],
   "source": [
    "# Visualize the distribution of the rating column\n",
    "sns.displot(airbnb['rating'], bins=20, kde=True)\n",
    "plt.title('Distribution of listing ratings')\n",
    "plt.show()\n",
    "sns.histplot(airbnb['rating'])"
   ]
  },
  {
   "cell_type": "code",
   "execution_count": 146,
   "metadata": {
    "colab": {},
    "colab_type": "code",
    "id": "mvJGrqxRjihF"
   },
   "outputs": [
    {
     "data": {
      "text/plain": [
       "room_type\n",
       "Entire home/apt         5120\n",
       "Private room            4487\n",
       "Shared room              155\n",
       "Private                   89\n",
       "   Shared room            71\n",
       "home                      66\n",
       "PRIVATE ROOM              31\n",
       "Name: count, dtype: int64"
      ]
     },
     "execution_count": 146,
     "metadata": {},
     "output_type": "execute_result"
    }
   ],
   "source": [
    "# Find number of unique values in room_type column\n",
    "airbnb['room_type'].value_counts()"
   ]
  },
  {
   "cell_type": "markdown",
   "metadata": {},
   "source": [
    "- **Problem 8**: There are trailing spaces and capitalization issues with `room_type`, we need to fix this problem."
   ]
  },
  {
   "cell_type": "code",
   "execution_count": 147,
   "metadata": {
    "colab": {},
    "colab_type": "code",
    "id": "tZ0SBerlm2hS"
   },
   "outputs": [
    {
     "data": {
      "text/plain": [
       "array(['Private room', 'Entire home/apt', 'Private', 'Shared room',\n",
       "       'PRIVATE ROOM', 'home', '   Shared room      '], dtype=object)"
      ]
     },
     "execution_count": 147,
     "metadata": {},
     "output_type": "execute_result"
    }
   ],
   "source": [
    "# How many values of different room_types do we have?\n",
    "airbnb['room_type'].unique()"
   ]
  },
  {
   "cell_type": "markdown",
   "metadata": {
    "colab_type": "text",
    "id": "WqwmfLp9lKjU"
   },
   "source": [
    "## **Our to do list:**\n",
    "\n",
    "_Data type problems:_\n",
    "\n",
    "- **Task 1**: Split `coordinates` into 2 columns and convert them to `float`\n",
    "- **Task 2**: Remove `$` from `price` and convert it to `float`\n",
    "- **Task 3**: Convert `listing_added` and `last_review` to `datetime`\n",
    "\n",
    "<br>\n",
    "\n",
    "_Text/categorical data problems:_\n",
    "\n",
    "- **Task 4**: We need to collapse `room_type` into correct categories\n",
    "- **Task 5**: Divide `neighbourhood_full` into 2 columns and making sure they are clean\n",
    "\n",
    "<br>\n",
    "\n",
    "_Data range problems:_\n",
    "\n",
    "- **Task 6**: Make sure we set the correct maximum for `rating` column out of range values\n",
    "\n",
    "<br>\n",
    "\n",
    "_Dealing with missing data:_\n",
    "\n",
    "- **Task 7**: Understand the type of missingness, and deal with the missing data in most of the remaining columns. \n",
    "\n",
    "<br>\n",
    "\n",
    "_Is that all though?_\n",
    "\n",
    "- We need to investigate if we duplicates in our data\n",
    "- We need to make sure that data makes sense by applying some sanity checks on our DataFrame "
   ]
  },
  {
   "cell_type": "markdown",
   "metadata": {
    "colab_type": "text",
    "id": "XxjReNRA09ef"
   },
   "source": [
    "## **Q&A**"
   ]
  },
  {
   "cell_type": "markdown",
   "metadata": {
    "colab_type": "text",
    "id": "8jp5m7QmnCsM"
   },
   "source": [
    "## **Cleaning data** "
   ]
  },
  {
   "cell_type": "markdown",
   "metadata": {
    "colab_type": "text",
    "id": "7rrd0kYCnIYE"
   },
   "source": [
    "### Data type problems"
   ]
  },
  {
   "cell_type": "code",
   "execution_count": 148,
   "metadata": {
    "colab": {},
    "colab_type": "code",
    "id": "NawK3x5Tk7HF"
   },
   "outputs": [
    {
     "data": {
      "text/html": [
       "<div>\n",
       "<style scoped>\n",
       "    .dataframe tbody tr th:only-of-type {\n",
       "        vertical-align: middle;\n",
       "    }\n",
       "\n",
       "    .dataframe tbody tr th {\n",
       "        vertical-align: top;\n",
       "    }\n",
       "\n",
       "    .dataframe thead th {\n",
       "        text-align: right;\n",
       "    }\n",
       "</style>\n",
       "<table border=\"1\" class=\"dataframe\">\n",
       "  <thead>\n",
       "    <tr style=\"text-align: right;\">\n",
       "      <th></th>\n",
       "      <th>listing_id</th>\n",
       "      <th>name</th>\n",
       "      <th>host_id</th>\n",
       "      <th>host_name</th>\n",
       "      <th>neighbourhood_full</th>\n",
       "      <th>coordinates</th>\n",
       "      <th>room_type</th>\n",
       "      <th>price</th>\n",
       "      <th>number_of_reviews</th>\n",
       "      <th>last_review</th>\n",
       "      <th>reviews_per_month</th>\n",
       "      <th>availability_365</th>\n",
       "      <th>rating</th>\n",
       "      <th>number_of_stays</th>\n",
       "      <th>5_stars</th>\n",
       "      <th>listing_added</th>\n",
       "    </tr>\n",
       "  </thead>\n",
       "  <tbody>\n",
       "    <tr>\n",
       "      <th>0</th>\n",
       "      <td>13740704</td>\n",
       "      <td>Cozy,budget friendly, cable inc, private entra...</td>\n",
       "      <td>20583125</td>\n",
       "      <td>Michel</td>\n",
       "      <td>Brooklyn, Flatlands</td>\n",
       "      <td>(40.63222, -73.93398)</td>\n",
       "      <td>Private room</td>\n",
       "      <td>45$</td>\n",
       "      <td>10</td>\n",
       "      <td>2018-12-12</td>\n",
       "      <td>0.70</td>\n",
       "      <td>85</td>\n",
       "      <td>4.100954</td>\n",
       "      <td>12.0</td>\n",
       "      <td>0.609432</td>\n",
       "      <td>2018-06-08</td>\n",
       "    </tr>\n",
       "    <tr>\n",
       "      <th>1</th>\n",
       "      <td>22005115</td>\n",
       "      <td>Two floor apartment near Central Park</td>\n",
       "      <td>82746113</td>\n",
       "      <td>Cecilia</td>\n",
       "      <td>Manhattan, Upper West Side</td>\n",
       "      <td>(40.78761, -73.96862)</td>\n",
       "      <td>Entire home/apt</td>\n",
       "      <td>135$</td>\n",
       "      <td>1</td>\n",
       "      <td>2019-06-30</td>\n",
       "      <td>1.00</td>\n",
       "      <td>145</td>\n",
       "      <td>3.367600</td>\n",
       "      <td>1.2</td>\n",
       "      <td>0.746135</td>\n",
       "      <td>2018-12-25</td>\n",
       "    </tr>\n",
       "    <tr>\n",
       "      <th>2</th>\n",
       "      <td>21667615</td>\n",
       "      <td>Beautiful 1BR in Brooklyn Heights</td>\n",
       "      <td>78251</td>\n",
       "      <td>Leslie</td>\n",
       "      <td>Brooklyn, Brooklyn Heights</td>\n",
       "      <td>(40.7007, -73.99517)</td>\n",
       "      <td>Entire home/apt</td>\n",
       "      <td>150$</td>\n",
       "      <td>0</td>\n",
       "      <td>NaN</td>\n",
       "      <td>NaN</td>\n",
       "      <td>65</td>\n",
       "      <td>NaN</td>\n",
       "      <td>NaN</td>\n",
       "      <td>NaN</td>\n",
       "      <td>2018-08-15</td>\n",
       "    </tr>\n",
       "    <tr>\n",
       "      <th>3</th>\n",
       "      <td>6425850</td>\n",
       "      <td>Spacious, charming studio</td>\n",
       "      <td>32715865</td>\n",
       "      <td>Yelena</td>\n",
       "      <td>Manhattan, Upper West Side</td>\n",
       "      <td>(40.79169, -73.97498)</td>\n",
       "      <td>Entire home/apt</td>\n",
       "      <td>86$</td>\n",
       "      <td>5</td>\n",
       "      <td>2017-09-23</td>\n",
       "      <td>0.13</td>\n",
       "      <td>0</td>\n",
       "      <td>4.763203</td>\n",
       "      <td>6.0</td>\n",
       "      <td>0.769947</td>\n",
       "      <td>2017-03-20</td>\n",
       "    </tr>\n",
       "    <tr>\n",
       "      <th>4</th>\n",
       "      <td>22986519</td>\n",
       "      <td>Bedroom on the lively Lower East Side</td>\n",
       "      <td>154262349</td>\n",
       "      <td>Brooke</td>\n",
       "      <td>Manhattan, Lower East Side</td>\n",
       "      <td>(40.71884, -73.98354)</td>\n",
       "      <td>Private room</td>\n",
       "      <td>160$</td>\n",
       "      <td>23</td>\n",
       "      <td>2019-06-12</td>\n",
       "      <td>2.29</td>\n",
       "      <td>102</td>\n",
       "      <td>3.822591</td>\n",
       "      <td>27.6</td>\n",
       "      <td>0.649383</td>\n",
       "      <td>2020-10-23</td>\n",
       "    </tr>\n",
       "  </tbody>\n",
       "</table>\n",
       "</div>"
      ],
      "text/plain": [
       "   listing_id                                               name    host_id  \\\n",
       "0    13740704  Cozy,budget friendly, cable inc, private entra...   20583125   \n",
       "1    22005115              Two floor apartment near Central Park   82746113   \n",
       "2    21667615                  Beautiful 1BR in Brooklyn Heights      78251   \n",
       "3     6425850                          Spacious, charming studio   32715865   \n",
       "4    22986519              Bedroom on the lively Lower East Side  154262349   \n",
       "\n",
       "  host_name          neighbourhood_full            coordinates  \\\n",
       "0    Michel         Brooklyn, Flatlands  (40.63222, -73.93398)   \n",
       "1   Cecilia  Manhattan, Upper West Side  (40.78761, -73.96862)   \n",
       "2    Leslie  Brooklyn, Brooklyn Heights   (40.7007, -73.99517)   \n",
       "3    Yelena  Manhattan, Upper West Side  (40.79169, -73.97498)   \n",
       "4    Brooke  Manhattan, Lower East Side  (40.71884, -73.98354)   \n",
       "\n",
       "         room_type price  number_of_reviews last_review  reviews_per_month  \\\n",
       "0     Private room   45$                 10  2018-12-12               0.70   \n",
       "1  Entire home/apt  135$                  1  2019-06-30               1.00   \n",
       "2  Entire home/apt  150$                  0         NaN                NaN   \n",
       "3  Entire home/apt   86$                  5  2017-09-23               0.13   \n",
       "4     Private room  160$                 23  2019-06-12               2.29   \n",
       "\n",
       "   availability_365    rating  number_of_stays   5_stars listing_added  \n",
       "0                85  4.100954             12.0  0.609432    2018-06-08  \n",
       "1               145  3.367600              1.2  0.746135    2018-12-25  \n",
       "2                65       NaN              NaN       NaN    2018-08-15  \n",
       "3                 0  4.763203              6.0  0.769947    2017-03-20  \n",
       "4               102  3.822591             27.6  0.649383    2020-10-23  "
      ]
     },
     "execution_count": 148,
     "metadata": {},
     "output_type": "execute_result"
    }
   ],
   "source": [
    "# Reminder of the DataFrame\n",
    "airbnb.head()"
   ]
  },
  {
   "cell_type": "markdown",
   "metadata": {
    "colab_type": "text",
    "id": "3Ev1mCwXniDv"
   },
   "source": [
    "##### **Task 1:** Replace `coordinates` with `latitude` and `longitude` columns"
   ]
  },
  {
   "cell_type": "markdown",
   "metadata": {
    "colab_type": "text",
    "id": "ijAlYOgglvzt"
   },
   "source": [
    "To perform this task, we will use the following methods:\n",
    "\n",
    "- `.str.replace(\"\",\"\")` replaces one string in each row of a column with another\n",
    "- `.str.split(\"\")` takes in a string and lets you split a column into two based on that string\n",
    "- `.astype()` lets you convert a column from one type to another"
   ]
  },
  {
   "cell_type": "code",
   "execution_count": 149,
   "metadata": {
    "colab": {},
    "colab_type": "code",
    "id": "UpIxvD_onOgt"
   },
   "outputs": [
    {
     "data": {
      "text/html": [
       "<div>\n",
       "<style scoped>\n",
       "    .dataframe tbody tr th:only-of-type {\n",
       "        vertical-align: middle;\n",
       "    }\n",
       "\n",
       "    .dataframe tbody tr th {\n",
       "        vertical-align: top;\n",
       "    }\n",
       "\n",
       "    .dataframe thead th {\n",
       "        text-align: right;\n",
       "    }\n",
       "</style>\n",
       "<table border=\"1\" class=\"dataframe\">\n",
       "  <thead>\n",
       "    <tr style=\"text-align: right;\">\n",
       "      <th></th>\n",
       "      <th>listing_id</th>\n",
       "      <th>name</th>\n",
       "      <th>host_id</th>\n",
       "      <th>host_name</th>\n",
       "      <th>neighbourhood_full</th>\n",
       "      <th>coordinates</th>\n",
       "      <th>room_type</th>\n",
       "      <th>price</th>\n",
       "      <th>number_of_reviews</th>\n",
       "      <th>last_review</th>\n",
       "      <th>reviews_per_month</th>\n",
       "      <th>availability_365</th>\n",
       "      <th>rating</th>\n",
       "      <th>number_of_stays</th>\n",
       "      <th>5_stars</th>\n",
       "      <th>listing_added</th>\n",
       "    </tr>\n",
       "  </thead>\n",
       "  <tbody>\n",
       "    <tr>\n",
       "      <th>0</th>\n",
       "      <td>13740704</td>\n",
       "      <td>Cozy,budget friendly, cable inc, private entra...</td>\n",
       "      <td>20583125</td>\n",
       "      <td>Michel</td>\n",
       "      <td>Brooklyn, Flatlands</td>\n",
       "      <td>40.63222, -73.93398</td>\n",
       "      <td>Private room</td>\n",
       "      <td>45$</td>\n",
       "      <td>10</td>\n",
       "      <td>2018-12-12</td>\n",
       "      <td>0.70</td>\n",
       "      <td>85</td>\n",
       "      <td>4.100954</td>\n",
       "      <td>12.0</td>\n",
       "      <td>0.609432</td>\n",
       "      <td>2018-06-08</td>\n",
       "    </tr>\n",
       "    <tr>\n",
       "      <th>1</th>\n",
       "      <td>22005115</td>\n",
       "      <td>Two floor apartment near Central Park</td>\n",
       "      <td>82746113</td>\n",
       "      <td>Cecilia</td>\n",
       "      <td>Manhattan, Upper West Side</td>\n",
       "      <td>40.78761, -73.96862</td>\n",
       "      <td>Entire home/apt</td>\n",
       "      <td>135$</td>\n",
       "      <td>1</td>\n",
       "      <td>2019-06-30</td>\n",
       "      <td>1.00</td>\n",
       "      <td>145</td>\n",
       "      <td>3.367600</td>\n",
       "      <td>1.2</td>\n",
       "      <td>0.746135</td>\n",
       "      <td>2018-12-25</td>\n",
       "    </tr>\n",
       "    <tr>\n",
       "      <th>2</th>\n",
       "      <td>21667615</td>\n",
       "      <td>Beautiful 1BR in Brooklyn Heights</td>\n",
       "      <td>78251</td>\n",
       "      <td>Leslie</td>\n",
       "      <td>Brooklyn, Brooklyn Heights</td>\n",
       "      <td>40.7007, -73.99517</td>\n",
       "      <td>Entire home/apt</td>\n",
       "      <td>150$</td>\n",
       "      <td>0</td>\n",
       "      <td>NaN</td>\n",
       "      <td>NaN</td>\n",
       "      <td>65</td>\n",
       "      <td>NaN</td>\n",
       "      <td>NaN</td>\n",
       "      <td>NaN</td>\n",
       "      <td>2018-08-15</td>\n",
       "    </tr>\n",
       "    <tr>\n",
       "      <th>3</th>\n",
       "      <td>6425850</td>\n",
       "      <td>Spacious, charming studio</td>\n",
       "      <td>32715865</td>\n",
       "      <td>Yelena</td>\n",
       "      <td>Manhattan, Upper West Side</td>\n",
       "      <td>40.79169, -73.97498</td>\n",
       "      <td>Entire home/apt</td>\n",
       "      <td>86$</td>\n",
       "      <td>5</td>\n",
       "      <td>2017-09-23</td>\n",
       "      <td>0.13</td>\n",
       "      <td>0</td>\n",
       "      <td>4.763203</td>\n",
       "      <td>6.0</td>\n",
       "      <td>0.769947</td>\n",
       "      <td>2017-03-20</td>\n",
       "    </tr>\n",
       "    <tr>\n",
       "      <th>4</th>\n",
       "      <td>22986519</td>\n",
       "      <td>Bedroom on the lively Lower East Side</td>\n",
       "      <td>154262349</td>\n",
       "      <td>Brooke</td>\n",
       "      <td>Manhattan, Lower East Side</td>\n",
       "      <td>40.71884, -73.98354</td>\n",
       "      <td>Private room</td>\n",
       "      <td>160$</td>\n",
       "      <td>23</td>\n",
       "      <td>2019-06-12</td>\n",
       "      <td>2.29</td>\n",
       "      <td>102</td>\n",
       "      <td>3.822591</td>\n",
       "      <td>27.6</td>\n",
       "      <td>0.649383</td>\n",
       "      <td>2020-10-23</td>\n",
       "    </tr>\n",
       "  </tbody>\n",
       "</table>\n",
       "</div>"
      ],
      "text/plain": [
       "   listing_id                                               name    host_id  \\\n",
       "0    13740704  Cozy,budget friendly, cable inc, private entra...   20583125   \n",
       "1    22005115              Two floor apartment near Central Park   82746113   \n",
       "2    21667615                  Beautiful 1BR in Brooklyn Heights      78251   \n",
       "3     6425850                          Spacious, charming studio   32715865   \n",
       "4    22986519              Bedroom on the lively Lower East Side  154262349   \n",
       "\n",
       "  host_name          neighbourhood_full          coordinates        room_type  \\\n",
       "0    Michel         Brooklyn, Flatlands  40.63222, -73.93398     Private room   \n",
       "1   Cecilia  Manhattan, Upper West Side  40.78761, -73.96862  Entire home/apt   \n",
       "2    Leslie  Brooklyn, Brooklyn Heights   40.7007, -73.99517  Entire home/apt   \n",
       "3    Yelena  Manhattan, Upper West Side  40.79169, -73.97498  Entire home/apt   \n",
       "4    Brooke  Manhattan, Lower East Side  40.71884, -73.98354     Private room   \n",
       "\n",
       "  price  number_of_reviews last_review  reviews_per_month  availability_365  \\\n",
       "0   45$                 10  2018-12-12               0.70                85   \n",
       "1  135$                  1  2019-06-30               1.00               145   \n",
       "2  150$                  0         NaN                NaN                65   \n",
       "3   86$                  5  2017-09-23               0.13                 0   \n",
       "4  160$                 23  2019-06-12               2.29               102   \n",
       "\n",
       "     rating  number_of_stays   5_stars listing_added  \n",
       "0  4.100954             12.0  0.609432    2018-06-08  \n",
       "1  3.367600              1.2  0.746135    2018-12-25  \n",
       "2       NaN              NaN       NaN    2018-08-15  \n",
       "3  4.763203              6.0  0.769947    2017-03-20  \n",
       "4  3.822591             27.6  0.649383    2020-10-23  "
      ]
     },
     "execution_count": 149,
     "metadata": {},
     "output_type": "execute_result"
    }
   ],
   "source": [
    "# Remove \"(\" and \")\" from coordinates\n",
    "airbnb['coordinates'] = airbnb['coordinates'].str[1:-1]\n",
    "\n",
    "# Print the header of the column\n",
    "airbnb.head()"
   ]
  },
  {
   "cell_type": "code",
   "execution_count": 150,
   "metadata": {
    "colab": {},
    "colab_type": "code",
    "id": "nvEKmdRun2Md"
   },
   "outputs": [
    {
     "name": "stdout",
     "output_type": "stream",
     "text": [
      "0                 [40.63222,  -73.93398]\n",
      "1                 [40.78761,  -73.96862]\n",
      "2                  [40.7007,  -73.99517]\n",
      "3                 [40.79169,  -73.97498]\n",
      "4                 [40.71884,  -73.98354]\n",
      "                      ...               \n",
      "10014             [40.80379,  -73.95257]\n",
      "10015              [40.79531,  -73.9333]\n",
      "10016    [40.68266,  -73.96743000000002]\n",
      "10017             [40.68832,  -73.96366]\n",
      "10018             [40.76174,  -73.96625]\n",
      "Name: coordinates, Length: 10019, dtype: object\n"
     ]
    }
   ],
   "source": [
    "# Split column into two\n",
    "z = airbnb['coordinates'].str.split(\",\")\n",
    "print(z)"
   ]
  },
  {
   "cell_type": "code",
   "execution_count": 151,
   "metadata": {
    "colab": {},
    "colab_type": "code",
    "id": "LezCKPzfn4yf"
   },
   "outputs": [
    {
     "data": {
      "text/html": [
       "<div>\n",
       "<style scoped>\n",
       "    .dataframe tbody tr th:only-of-type {\n",
       "        vertical-align: middle;\n",
       "    }\n",
       "\n",
       "    .dataframe tbody tr th {\n",
       "        vertical-align: top;\n",
       "    }\n",
       "\n",
       "    .dataframe thead th {\n",
       "        text-align: right;\n",
       "    }\n",
       "</style>\n",
       "<table border=\"1\" class=\"dataframe\">\n",
       "  <thead>\n",
       "    <tr style=\"text-align: right;\">\n",
       "      <th></th>\n",
       "      <th>listing_id</th>\n",
       "      <th>name</th>\n",
       "      <th>host_id</th>\n",
       "      <th>host_name</th>\n",
       "      <th>neighbourhood_full</th>\n",
       "      <th>coordinates</th>\n",
       "      <th>room_type</th>\n",
       "      <th>price</th>\n",
       "      <th>number_of_reviews</th>\n",
       "      <th>last_review</th>\n",
       "      <th>reviews_per_month</th>\n",
       "      <th>availability_365</th>\n",
       "      <th>rating</th>\n",
       "      <th>number_of_stays</th>\n",
       "      <th>5_stars</th>\n",
       "      <th>listing_added</th>\n",
       "      <th>latitude</th>\n",
       "      <th>longtitude</th>\n",
       "    </tr>\n",
       "  </thead>\n",
       "  <tbody>\n",
       "    <tr>\n",
       "      <th>0</th>\n",
       "      <td>13740704</td>\n",
       "      <td>Cozy,budget friendly, cable inc, private entra...</td>\n",
       "      <td>20583125</td>\n",
       "      <td>Michel</td>\n",
       "      <td>Brooklyn, Flatlands</td>\n",
       "      <td>40.63222, -73.93398</td>\n",
       "      <td>Private room</td>\n",
       "      <td>45$</td>\n",
       "      <td>10</td>\n",
       "      <td>2018-12-12</td>\n",
       "      <td>0.70</td>\n",
       "      <td>85</td>\n",
       "      <td>4.100954</td>\n",
       "      <td>12.0</td>\n",
       "      <td>0.609432</td>\n",
       "      <td>2018-06-08</td>\n",
       "      <td>40.63222</td>\n",
       "      <td>-73.93398</td>\n",
       "    </tr>\n",
       "    <tr>\n",
       "      <th>1</th>\n",
       "      <td>22005115</td>\n",
       "      <td>Two floor apartment near Central Park</td>\n",
       "      <td>82746113</td>\n",
       "      <td>Cecilia</td>\n",
       "      <td>Manhattan, Upper West Side</td>\n",
       "      <td>40.78761, -73.96862</td>\n",
       "      <td>Entire home/apt</td>\n",
       "      <td>135$</td>\n",
       "      <td>1</td>\n",
       "      <td>2019-06-30</td>\n",
       "      <td>1.00</td>\n",
       "      <td>145</td>\n",
       "      <td>3.367600</td>\n",
       "      <td>1.2</td>\n",
       "      <td>0.746135</td>\n",
       "      <td>2018-12-25</td>\n",
       "      <td>40.78761</td>\n",
       "      <td>-73.96862</td>\n",
       "    </tr>\n",
       "    <tr>\n",
       "      <th>2</th>\n",
       "      <td>21667615</td>\n",
       "      <td>Beautiful 1BR in Brooklyn Heights</td>\n",
       "      <td>78251</td>\n",
       "      <td>Leslie</td>\n",
       "      <td>Brooklyn, Brooklyn Heights</td>\n",
       "      <td>40.7007, -73.99517</td>\n",
       "      <td>Entire home/apt</td>\n",
       "      <td>150$</td>\n",
       "      <td>0</td>\n",
       "      <td>NaN</td>\n",
       "      <td>NaN</td>\n",
       "      <td>65</td>\n",
       "      <td>NaN</td>\n",
       "      <td>NaN</td>\n",
       "      <td>NaN</td>\n",
       "      <td>2018-08-15</td>\n",
       "      <td>40.7007</td>\n",
       "      <td>-73.99517</td>\n",
       "    </tr>\n",
       "    <tr>\n",
       "      <th>3</th>\n",
       "      <td>6425850</td>\n",
       "      <td>Spacious, charming studio</td>\n",
       "      <td>32715865</td>\n",
       "      <td>Yelena</td>\n",
       "      <td>Manhattan, Upper West Side</td>\n",
       "      <td>40.79169, -73.97498</td>\n",
       "      <td>Entire home/apt</td>\n",
       "      <td>86$</td>\n",
       "      <td>5</td>\n",
       "      <td>2017-09-23</td>\n",
       "      <td>0.13</td>\n",
       "      <td>0</td>\n",
       "      <td>4.763203</td>\n",
       "      <td>6.0</td>\n",
       "      <td>0.769947</td>\n",
       "      <td>2017-03-20</td>\n",
       "      <td>40.79169</td>\n",
       "      <td>-73.97498</td>\n",
       "    </tr>\n",
       "    <tr>\n",
       "      <th>4</th>\n",
       "      <td>22986519</td>\n",
       "      <td>Bedroom on the lively Lower East Side</td>\n",
       "      <td>154262349</td>\n",
       "      <td>Brooke</td>\n",
       "      <td>Manhattan, Lower East Side</td>\n",
       "      <td>40.71884, -73.98354</td>\n",
       "      <td>Private room</td>\n",
       "      <td>160$</td>\n",
       "      <td>23</td>\n",
       "      <td>2019-06-12</td>\n",
       "      <td>2.29</td>\n",
       "      <td>102</td>\n",
       "      <td>3.822591</td>\n",
       "      <td>27.6</td>\n",
       "      <td>0.649383</td>\n",
       "      <td>2020-10-23</td>\n",
       "      <td>40.71884</td>\n",
       "      <td>-73.98354</td>\n",
       "    </tr>\n",
       "  </tbody>\n",
       "</table>\n",
       "</div>"
      ],
      "text/plain": [
       "   listing_id                                               name    host_id  \\\n",
       "0    13740704  Cozy,budget friendly, cable inc, private entra...   20583125   \n",
       "1    22005115              Two floor apartment near Central Park   82746113   \n",
       "2    21667615                  Beautiful 1BR in Brooklyn Heights      78251   \n",
       "3     6425850                          Spacious, charming studio   32715865   \n",
       "4    22986519              Bedroom on the lively Lower East Side  154262349   \n",
       "\n",
       "  host_name          neighbourhood_full          coordinates        room_type  \\\n",
       "0    Michel         Brooklyn, Flatlands  40.63222, -73.93398     Private room   \n",
       "1   Cecilia  Manhattan, Upper West Side  40.78761, -73.96862  Entire home/apt   \n",
       "2    Leslie  Brooklyn, Brooklyn Heights   40.7007, -73.99517  Entire home/apt   \n",
       "3    Yelena  Manhattan, Upper West Side  40.79169, -73.97498  Entire home/apt   \n",
       "4    Brooke  Manhattan, Lower East Side  40.71884, -73.98354     Private room   \n",
       "\n",
       "  price  number_of_reviews last_review  reviews_per_month  availability_365  \\\n",
       "0   45$                 10  2018-12-12               0.70                85   \n",
       "1  135$                  1  2019-06-30               1.00               145   \n",
       "2  150$                  0         NaN                NaN                65   \n",
       "3   86$                  5  2017-09-23               0.13                 0   \n",
       "4  160$                 23  2019-06-12               2.29               102   \n",
       "\n",
       "     rating  number_of_stays   5_stars listing_added  latitude  longtitude  \n",
       "0  4.100954             12.0  0.609432    2018-06-08  40.63222   -73.93398  \n",
       "1  3.367600              1.2  0.746135    2018-12-25  40.78761   -73.96862  \n",
       "2       NaN              NaN       NaN    2018-08-15   40.7007   -73.99517  \n",
       "3  4.763203              6.0  0.769947    2017-03-20  40.79169   -73.97498  \n",
       "4  3.822591             27.6  0.649383    2020-10-23  40.71884   -73.98354  "
      ]
     },
     "execution_count": 151,
     "metadata": {},
     "output_type": "execute_result"
    }
   ],
   "source": [
    "# Assign correct columns to latitude and longitude columns in airbnb\n",
    "airbnb['latitude'] = z.apply(lambda x: x[0] if isinstance(x, list) else np.nan)\n",
    "airbnb['longtitude'] = z.apply(lambda x: x[1] if isinstance(x, list) else np.nan)\n",
    "# Print the header and confirm new column creation\n",
    "\n",
    "airbnb.head()"
   ]
  },
  {
   "cell_type": "code",
   "execution_count": 152,
   "metadata": {
    "colab": {},
    "colab_type": "code",
    "id": "toTHDWjFosXs"
   },
   "outputs": [
    {
     "data": {
      "text/plain": [
       "listing_id              int64\n",
       "name                   object\n",
       "host_id                 int64\n",
       "host_name              object\n",
       "neighbourhood_full     object\n",
       "coordinates            object\n",
       "room_type              object\n",
       "price                  object\n",
       "number_of_reviews       int64\n",
       "last_review            object\n",
       "reviews_per_month     float64\n",
       "availability_365        int64\n",
       "rating                float64\n",
       "number_of_stays       float64\n",
       "5_stars               float64\n",
       "listing_added          object\n",
       "latitude               object\n",
       "longtitude             object\n",
       "dtype: object"
      ]
     },
     "execution_count": 152,
     "metadata": {},
     "output_type": "execute_result"
    }
   ],
   "source": [
    "# Print out dtypes again\n",
    "airbnb.dtypes"
   ]
  },
  {
   "cell_type": "code",
   "execution_count": 153,
   "metadata": {
    "colab": {},
    "colab_type": "code",
    "id": "8zDpaIqDoeNl"
   },
   "outputs": [
    {
     "data": {
      "text/plain": [
       "listing_id              int64\n",
       "name                   object\n",
       "host_id                 int64\n",
       "host_name              object\n",
       "neighbourhood_full     object\n",
       "coordinates            object\n",
       "room_type              object\n",
       "price                  object\n",
       "number_of_reviews       int64\n",
       "last_review            object\n",
       "reviews_per_month     float64\n",
       "availability_365        int64\n",
       "rating                float64\n",
       "number_of_stays       float64\n",
       "5_stars               float64\n",
       "listing_added          object\n",
       "latitude              float64\n",
       "longtitude            float64\n",
       "dtype: object"
      ]
     },
     "execution_count": 153,
     "metadata": {},
     "output_type": "execute_result"
    }
   ],
   "source": [
    "# Convert latitude and longitude to float\n",
    "airbnb['latitude'] = pd.to_numeric(airbnb['latitude'])\n",
    "airbnb['longtitude'] = pd.to_numeric(airbnb['longtitude'])\n",
    "# Print dtypes again\n",
    "airbnb.dtypes"
   ]
  },
  {
   "cell_type": "code",
   "execution_count": 154,
   "metadata": {
    "colab": {},
    "colab_type": "code",
    "id": "aKZGhJQRo8mp"
   },
   "outputs": [],
   "source": [
    "# Drop coordinates column\n",
    "airbnb = airbnb.drop('coordinates', axis=1)\n"
   ]
  },
  {
   "cell_type": "markdown",
   "metadata": {
    "colab_type": "text",
    "id": "bkgGPHpdpMEW"
   },
   "source": [
    "##### **Task 2:** Remove `$` from `price` and convert it to `float`"
   ]
  },
  {
   "cell_type": "markdown",
   "metadata": {
    "colab_type": "text",
    "id": "9jkKFojOmJy5"
   },
   "source": [
    "To perform this task, we will be using the following methods:\n",
    "\n",
    "- `.str.strip()` which removes a specified string from each row in a column\n",
    "- `.astype()`"
   ]
  },
  {
   "cell_type": "code",
   "execution_count": 155,
   "metadata": {
    "colab": {},
    "colab_type": "code",
    "id": "Ya76gXP1qLtn"
   },
   "outputs": [],
   "source": [
    "# Calculate mean of price without conversion\n",
    "airbnb['price'] = airbnb['price'].str[:-1]"
   ]
  },
  {
   "cell_type": "code",
   "execution_count": 156,
   "metadata": {},
   "outputs": [
    {
     "data": {
      "text/plain": [
       "price\n",
       "150     416\n",
       "100     395\n",
       "200     292\n",
       "50      287\n",
       "60      287\n",
       "       ... \n",
       "2750      1\n",
       "263       1\n",
       "171       1\n",
       "890       1\n",
       "5250      1\n",
       "Name: count, Length: 433, dtype: int64"
      ]
     },
     "execution_count": 156,
     "metadata": {},
     "output_type": "execute_result"
    }
   ],
   "source": [
    "airbnb['price'].value_counts()"
   ]
  },
  {
   "cell_type": "code",
   "execution_count": 157,
   "metadata": {
    "colab": {},
    "colab_type": "code",
    "id": "gHIB5d-1pdIO"
   },
   "outputs": [
    {
     "data": {
      "text/html": [
       "<div>\n",
       "<style scoped>\n",
       "    .dataframe tbody tr th:only-of-type {\n",
       "        vertical-align: middle;\n",
       "    }\n",
       "\n",
       "    .dataframe tbody tr th {\n",
       "        vertical-align: top;\n",
       "    }\n",
       "\n",
       "    .dataframe thead th {\n",
       "        text-align: right;\n",
       "    }\n",
       "</style>\n",
       "<table border=\"1\" class=\"dataframe\">\n",
       "  <thead>\n",
       "    <tr style=\"text-align: right;\">\n",
       "      <th></th>\n",
       "      <th>listing_id</th>\n",
       "      <th>name</th>\n",
       "      <th>host_id</th>\n",
       "      <th>host_name</th>\n",
       "      <th>neighbourhood_full</th>\n",
       "      <th>room_type</th>\n",
       "      <th>price</th>\n",
       "      <th>number_of_reviews</th>\n",
       "      <th>last_review</th>\n",
       "      <th>reviews_per_month</th>\n",
       "      <th>availability_365</th>\n",
       "      <th>rating</th>\n",
       "      <th>number_of_stays</th>\n",
       "      <th>5_stars</th>\n",
       "      <th>listing_added</th>\n",
       "      <th>latitude</th>\n",
       "      <th>longtitude</th>\n",
       "    </tr>\n",
       "  </thead>\n",
       "  <tbody>\n",
       "    <tr>\n",
       "      <th>0</th>\n",
       "      <td>13740704</td>\n",
       "      <td>Cozy,budget friendly, cable inc, private entra...</td>\n",
       "      <td>20583125</td>\n",
       "      <td>Michel</td>\n",
       "      <td>Brooklyn, Flatlands</td>\n",
       "      <td>Private room</td>\n",
       "      <td>45.0</td>\n",
       "      <td>10</td>\n",
       "      <td>2018-12-12</td>\n",
       "      <td>0.70</td>\n",
       "      <td>85</td>\n",
       "      <td>4.100954</td>\n",
       "      <td>12.0</td>\n",
       "      <td>0.609432</td>\n",
       "      <td>2018-06-08</td>\n",
       "      <td>40.63222</td>\n",
       "      <td>-73.93398</td>\n",
       "    </tr>\n",
       "    <tr>\n",
       "      <th>1</th>\n",
       "      <td>22005115</td>\n",
       "      <td>Two floor apartment near Central Park</td>\n",
       "      <td>82746113</td>\n",
       "      <td>Cecilia</td>\n",
       "      <td>Manhattan, Upper West Side</td>\n",
       "      <td>Entire home/apt</td>\n",
       "      <td>135.0</td>\n",
       "      <td>1</td>\n",
       "      <td>2019-06-30</td>\n",
       "      <td>1.00</td>\n",
       "      <td>145</td>\n",
       "      <td>3.367600</td>\n",
       "      <td>1.2</td>\n",
       "      <td>0.746135</td>\n",
       "      <td>2018-12-25</td>\n",
       "      <td>40.78761</td>\n",
       "      <td>-73.96862</td>\n",
       "    </tr>\n",
       "    <tr>\n",
       "      <th>2</th>\n",
       "      <td>21667615</td>\n",
       "      <td>Beautiful 1BR in Brooklyn Heights</td>\n",
       "      <td>78251</td>\n",
       "      <td>Leslie</td>\n",
       "      <td>Brooklyn, Brooklyn Heights</td>\n",
       "      <td>Entire home/apt</td>\n",
       "      <td>150.0</td>\n",
       "      <td>0</td>\n",
       "      <td>NaN</td>\n",
       "      <td>NaN</td>\n",
       "      <td>65</td>\n",
       "      <td>NaN</td>\n",
       "      <td>NaN</td>\n",
       "      <td>NaN</td>\n",
       "      <td>2018-08-15</td>\n",
       "      <td>40.70070</td>\n",
       "      <td>-73.99517</td>\n",
       "    </tr>\n",
       "    <tr>\n",
       "      <th>3</th>\n",
       "      <td>6425850</td>\n",
       "      <td>Spacious, charming studio</td>\n",
       "      <td>32715865</td>\n",
       "      <td>Yelena</td>\n",
       "      <td>Manhattan, Upper West Side</td>\n",
       "      <td>Entire home/apt</td>\n",
       "      <td>86.0</td>\n",
       "      <td>5</td>\n",
       "      <td>2017-09-23</td>\n",
       "      <td>0.13</td>\n",
       "      <td>0</td>\n",
       "      <td>4.763203</td>\n",
       "      <td>6.0</td>\n",
       "      <td>0.769947</td>\n",
       "      <td>2017-03-20</td>\n",
       "      <td>40.79169</td>\n",
       "      <td>-73.97498</td>\n",
       "    </tr>\n",
       "    <tr>\n",
       "      <th>4</th>\n",
       "      <td>22986519</td>\n",
       "      <td>Bedroom on the lively Lower East Side</td>\n",
       "      <td>154262349</td>\n",
       "      <td>Brooke</td>\n",
       "      <td>Manhattan, Lower East Side</td>\n",
       "      <td>Private room</td>\n",
       "      <td>160.0</td>\n",
       "      <td>23</td>\n",
       "      <td>2019-06-12</td>\n",
       "      <td>2.29</td>\n",
       "      <td>102</td>\n",
       "      <td>3.822591</td>\n",
       "      <td>27.6</td>\n",
       "      <td>0.649383</td>\n",
       "      <td>2020-10-23</td>\n",
       "      <td>40.71884</td>\n",
       "      <td>-73.98354</td>\n",
       "    </tr>\n",
       "  </tbody>\n",
       "</table>\n",
       "</div>"
      ],
      "text/plain": [
       "   listing_id                                               name    host_id  \\\n",
       "0    13740704  Cozy,budget friendly, cable inc, private entra...   20583125   \n",
       "1    22005115              Two floor apartment near Central Park   82746113   \n",
       "2    21667615                  Beautiful 1BR in Brooklyn Heights      78251   \n",
       "3     6425850                          Spacious, charming studio   32715865   \n",
       "4    22986519              Bedroom on the lively Lower East Side  154262349   \n",
       "\n",
       "  host_name          neighbourhood_full        room_type  price  \\\n",
       "0    Michel         Brooklyn, Flatlands     Private room   45.0   \n",
       "1   Cecilia  Manhattan, Upper West Side  Entire home/apt  135.0   \n",
       "2    Leslie  Brooklyn, Brooklyn Heights  Entire home/apt  150.0   \n",
       "3    Yelena  Manhattan, Upper West Side  Entire home/apt   86.0   \n",
       "4    Brooke  Manhattan, Lower East Side     Private room  160.0   \n",
       "\n",
       "   number_of_reviews last_review  reviews_per_month  availability_365  \\\n",
       "0                 10  2018-12-12               0.70                85   \n",
       "1                  1  2019-06-30               1.00               145   \n",
       "2                  0         NaN                NaN                65   \n",
       "3                  5  2017-09-23               0.13                 0   \n",
       "4                 23  2019-06-12               2.29               102   \n",
       "\n",
       "     rating  number_of_stays   5_stars listing_added  latitude  longtitude  \n",
       "0  4.100954             12.0  0.609432    2018-06-08  40.63222   -73.93398  \n",
       "1  3.367600              1.2  0.746135    2018-12-25  40.78761   -73.96862  \n",
       "2       NaN              NaN       NaN    2018-08-15  40.70070   -73.99517  \n",
       "3  4.763203              6.0  0.769947    2017-03-20  40.79169   -73.97498  \n",
       "4  3.822591             27.6  0.649383    2020-10-23  40.71884   -73.98354  "
      ]
     },
     "execution_count": 157,
     "metadata": {},
     "output_type": "execute_result"
    }
   ],
   "source": [
    "# Remove $ from price before conversion to float\n",
    "airbnb['price'] = airbnb['price'].astype('float')\n",
    "# Print header to make sure change was done\n",
    "airbnb.head()"
   ]
  },
  {
   "cell_type": "code",
   "execution_count": 158,
   "metadata": {
    "colab": {},
    "colab_type": "code",
    "id": "Gz4Q2xoGp4AJ"
   },
   "outputs": [
    {
     "name": "stdout",
     "output_type": "stream",
     "text": [
      "150.90512217564665\n"
     ]
    }
   ],
   "source": [
    "# Convert price to float\n",
    "####################################DONE\n",
    "# Calculate mean of price after conversion\n",
    "print(airbnb['price'].mean())"
   ]
  },
  {
   "cell_type": "code",
   "execution_count": 159,
   "metadata": {
    "colab": {},
    "colab_type": "code",
    "id": "mSLxGradqVix"
   },
   "outputs": [
    {
     "name": "stderr",
     "output_type": "stream",
     "text": [
      "/home/aya/anaconda3/lib/python3.11/site-packages/seaborn/_oldcore.py:1119: FutureWarning: use_inf_as_na option is deprecated and will be removed in a future version. Convert inf values to NaN before operating instead.\n",
      "  with pd.option_context('mode.use_inf_as_na', True):\n"
     ]
    },
    {
     "data": {
      "text/plain": [
       "<seaborn.axisgrid.FacetGrid at 0x7cb0a54db910>"
      ]
     },
     "execution_count": 159,
     "metadata": {},
     "output_type": "execute_result"
    },
    {
     "data": {
      "image/png": "[encoded data removed]",
      "text/plain": [
       "<Figure size 500x500 with 1 Axes>"
      ]
     },
     "metadata": {},
     "output_type": "display_data"
    }
   ],
   "source": [
    "# Visualize distribution of prices\n",
    "sns.displot(airbnb['price'], kde=True, bins=100)"
   ]
  },
  {
   "cell_type": "markdown",
   "metadata": {
    "colab_type": "text",
    "id": "HZKW5mWvqg2Z"
   },
   "source": [
    "##### **Task 3:** Convert `listing_added` and `last_review` columns to `datetime`"
   ]
  },
  {
   "cell_type": "markdown",
   "metadata": {
    "colab_type": "text",
    "id": "9ijLZ4zwmWNS"
   },
   "source": [
    "To perform this task, we will use the following functions:\n",
    "\n",
    "- `pd.to_datetime(format = \"\")`\n",
    "  - `format` takes in the desired date format `\"%Y-%m-%d\"`"
   ]
  },
  {
   "cell_type": "code",
   "execution_count": 160,
   "metadata": {
    "colab": {},
    "colab_type": "code",
    "id": "cggG5Bucqc6T"
   },
   "outputs": [
    {
     "data": {
      "text/html": [
       "<div>\n",
       "<style scoped>\n",
       "    .dataframe tbody tr th:only-of-type {\n",
       "        vertical-align: middle;\n",
       "    }\n",
       "\n",
       "    .dataframe tbody tr th {\n",
       "        vertical-align: top;\n",
       "    }\n",
       "\n",
       "    .dataframe thead th {\n",
       "        text-align: right;\n",
       "    }\n",
       "</style>\n",
       "<table border=\"1\" class=\"dataframe\">\n",
       "  <thead>\n",
       "    <tr style=\"text-align: right;\">\n",
       "      <th></th>\n",
       "      <th>listing_id</th>\n",
       "      <th>name</th>\n",
       "      <th>host_id</th>\n",
       "      <th>host_name</th>\n",
       "      <th>neighbourhood_full</th>\n",
       "      <th>room_type</th>\n",
       "      <th>price</th>\n",
       "      <th>number_of_reviews</th>\n",
       "      <th>last_review</th>\n",
       "      <th>reviews_per_month</th>\n",
       "      <th>availability_365</th>\n",
       "      <th>rating</th>\n",
       "      <th>number_of_stays</th>\n",
       "      <th>5_stars</th>\n",
       "      <th>listing_added</th>\n",
       "      <th>latitude</th>\n",
       "      <th>longtitude</th>\n",
       "    </tr>\n",
       "  </thead>\n",
       "  <tbody>\n",
       "    <tr>\n",
       "      <th>0</th>\n",
       "      <td>13740704</td>\n",
       "      <td>Cozy,budget friendly, cable inc, private entra...</td>\n",
       "      <td>20583125</td>\n",
       "      <td>Michel</td>\n",
       "      <td>Brooklyn, Flatlands</td>\n",
       "      <td>Private room</td>\n",
       "      <td>45.0</td>\n",
       "      <td>10</td>\n",
       "      <td>2018-12-12</td>\n",
       "      <td>0.70</td>\n",
       "      <td>85</td>\n",
       "      <td>4.100954</td>\n",
       "      <td>12.0</td>\n",
       "      <td>0.609432</td>\n",
       "      <td>2018-06-08</td>\n",
       "      <td>40.63222</td>\n",
       "      <td>-73.93398</td>\n",
       "    </tr>\n",
       "    <tr>\n",
       "      <th>1</th>\n",
       "      <td>22005115</td>\n",
       "      <td>Two floor apartment near Central Park</td>\n",
       "      <td>82746113</td>\n",
       "      <td>Cecilia</td>\n",
       "      <td>Manhattan, Upper West Side</td>\n",
       "      <td>Entire home/apt</td>\n",
       "      <td>135.0</td>\n",
       "      <td>1</td>\n",
       "      <td>2019-06-30</td>\n",
       "      <td>1.00</td>\n",
       "      <td>145</td>\n",
       "      <td>3.367600</td>\n",
       "      <td>1.2</td>\n",
       "      <td>0.746135</td>\n",
       "      <td>2018-12-25</td>\n",
       "      <td>40.78761</td>\n",
       "      <td>-73.96862</td>\n",
       "    </tr>\n",
       "    <tr>\n",
       "      <th>2</th>\n",
       "      <td>21667615</td>\n",
       "      <td>Beautiful 1BR in Brooklyn Heights</td>\n",
       "      <td>78251</td>\n",
       "      <td>Leslie</td>\n",
       "      <td>Brooklyn, Brooklyn Heights</td>\n",
       "      <td>Entire home/apt</td>\n",
       "      <td>150.0</td>\n",
       "      <td>0</td>\n",
       "      <td>NaN</td>\n",
       "      <td>NaN</td>\n",
       "      <td>65</td>\n",
       "      <td>NaN</td>\n",
       "      <td>NaN</td>\n",
       "      <td>NaN</td>\n",
       "      <td>2018-08-15</td>\n",
       "      <td>40.70070</td>\n",
       "      <td>-73.99517</td>\n",
       "    </tr>\n",
       "    <tr>\n",
       "      <th>3</th>\n",
       "      <td>6425850</td>\n",
       "      <td>Spacious, charming studio</td>\n",
       "      <td>32715865</td>\n",
       "      <td>Yelena</td>\n",
       "      <td>Manhattan, Upper West Side</td>\n",
       "      <td>Entire home/apt</td>\n",
       "      <td>86.0</td>\n",
       "      <td>5</td>\n",
       "      <td>2017-09-23</td>\n",
       "      <td>0.13</td>\n",
       "      <td>0</td>\n",
       "      <td>4.763203</td>\n",
       "      <td>6.0</td>\n",
       "      <td>0.769947</td>\n",
       "      <td>2017-03-20</td>\n",
       "      <td>40.79169</td>\n",
       "      <td>-73.97498</td>\n",
       "    </tr>\n",
       "    <tr>\n",
       "      <th>4</th>\n",
       "      <td>22986519</td>\n",
       "      <td>Bedroom on the lively Lower East Side</td>\n",
       "      <td>154262349</td>\n",
       "      <td>Brooke</td>\n",
       "      <td>Manhattan, Lower East Side</td>\n",
       "      <td>Private room</td>\n",
       "      <td>160.0</td>\n",
       "      <td>23</td>\n",
       "      <td>2019-06-12</td>\n",
       "      <td>2.29</td>\n",
       "      <td>102</td>\n",
       "      <td>3.822591</td>\n",
       "      <td>27.6</td>\n",
       "      <td>0.649383</td>\n",
       "      <td>2020-10-23</td>\n",
       "      <td>40.71884</td>\n",
       "      <td>-73.98354</td>\n",
       "    </tr>\n",
       "  </tbody>\n",
       "</table>\n",
       "</div>"
      ],
      "text/plain": [
       "   listing_id                                               name    host_id  \\\n",
       "0    13740704  Cozy,budget friendly, cable inc, private entra...   20583125   \n",
       "1    22005115              Two floor apartment near Central Park   82746113   \n",
       "2    21667615                  Beautiful 1BR in Brooklyn Heights      78251   \n",
       "3     6425850                          Spacious, charming studio   32715865   \n",
       "4    22986519              Bedroom on the lively Lower East Side  154262349   \n",
       "\n",
       "  host_name          neighbourhood_full        room_type  price  \\\n",
       "0    Michel         Brooklyn, Flatlands     Private room   45.0   \n",
       "1   Cecilia  Manhattan, Upper West Side  Entire home/apt  135.0   \n",
       "2    Leslie  Brooklyn, Brooklyn Heights  Entire home/apt  150.0   \n",
       "3    Yelena  Manhattan, Upper West Side  Entire home/apt   86.0   \n",
       "4    Brooke  Manhattan, Lower East Side     Private room  160.0   \n",
       "\n",
       "   number_of_reviews last_review  reviews_per_month  availability_365  \\\n",
       "0                 10  2018-12-12               0.70                85   \n",
       "1                  1  2019-06-30               1.00               145   \n",
       "2                  0         NaN                NaN                65   \n",
       "3                  5  2017-09-23               0.13                 0   \n",
       "4                 23  2019-06-12               2.29               102   \n",
       "\n",
       "     rating  number_of_stays   5_stars listing_added  latitude  longtitude  \n",
       "0  4.100954             12.0  0.609432    2018-06-08  40.63222   -73.93398  \n",
       "1  3.367600              1.2  0.746135    2018-12-25  40.78761   -73.96862  \n",
       "2       NaN              NaN       NaN    2018-08-15  40.70070   -73.99517  \n",
       "3  4.763203              6.0  0.769947    2017-03-20  40.79169   -73.97498  \n",
       "4  3.822591             27.6  0.649383    2020-10-23  40.71884   -73.98354  "
      ]
     },
     "execution_count": 160,
     "metadata": {},
     "output_type": "execute_result"
    }
   ],
   "source": [
    "# Print header of two columns\n",
    "airbnb.head()"
   ]
  },
  {
   "cell_type": "code",
   "execution_count": 161,
   "metadata": {
    "colab": {},
    "colab_type": "code",
    "id": "9lVyr6-Gs19z"
   },
   "outputs": [],
   "source": [
    "# Convert both columns to datetime\n",
    "airbnb['listing_added'] = pd.to_datetime(airbnb['listing_added'], format=\"%Y-%m-%d\")\n",
    "airbnb['last_review'] = pd.to_datetime(airbnb['listing_added'], format=\"%Y-%m-%d\")"
   ]
  },
  {
   "cell_type": "code",
   "execution_count": 162,
   "metadata": {
    "colab": {},
    "colab_type": "code",
    "id": "jlVDTYUvtG1f"
   },
   "outputs": [
    {
     "data": {
      "text/plain": [
       "0   2018-06-08\n",
       "1   2018-12-25\n",
       "2   2018-08-15\n",
       "3   2017-03-20\n",
       "4   2020-10-23\n",
       "Name: last_review, dtype: datetime64[ns]"
      ]
     },
     "execution_count": 162,
     "metadata": {},
     "output_type": "execute_result"
    }
   ],
   "source": [
    "# Print header and datatypes of both columns again\n",
    "airbnb['listing_added'].head()\n",
    "airbnb['last_review'].head()"
   ]
  },
  {
   "cell_type": "markdown",
   "metadata": {
    "colab_type": "text",
    "id": "SvMs1y6gucs6"
   },
   "source": [
    "### Text and categorical data problems"
   ]
  },
  {
   "cell_type": "markdown",
   "metadata": {
    "colab_type": "text",
    "id": "Z19JboeNukIS"
   },
   "source": [
    "##### **Task 4:** We need to collapse `room_type` into correct categories"
   ]
  },
  {
   "cell_type": "markdown",
   "metadata": {
    "colab_type": "text",
    "id": "85lW-8k_msaY"
   },
   "source": [
    "To perform this task, we will be using the following methods:\n",
    "\n",
    "- `.str.lower()` to lowercase all rows in a string column\n",
    "- `.str.strip()` to remove all white spaces of each row in a string column\n",
    "- `.replace()` to replace values in a column with another"
   ]
  },
  {
   "cell_type": "code",
   "execution_count": 163,
   "metadata": {
    "colab": {},
    "colab_type": "code",
    "id": "hPJHPWB4tOlP"
   },
   "outputs": [
    {
     "data": {
      "text/plain": [
       "room_type\n",
       "Entire home/apt         5120\n",
       "Private room            4487\n",
       "Shared room              155\n",
       "Private                   89\n",
       "   Shared room            71\n",
       "home                      66\n",
       "PRIVATE ROOM              31\n",
       "Name: count, dtype: int64"
      ]
     },
     "execution_count": 163,
     "metadata": {},
     "output_type": "execute_result"
    }
   ],
   "source": [
    "# Print unique values of `room_type`\n",
    "airbnb['room_type'].value_counts()"
   ]
  },
  {
   "cell_type": "code",
   "execution_count": 164,
   "metadata": {
    "colab": {},
    "colab_type": "code",
    "id": "HwnSnaPEvncy"
   },
   "outputs": [
    {
     "data": {
      "text/plain": [
       "room_type\n",
       "Entire home/apt    5120\n",
       "Private room       4518\n",
       "Shared room         226\n",
       "Private              89\n",
       "Home                 66\n",
       "Name: count, dtype: int64"
      ]
     },
     "execution_count": 164,
     "metadata": {},
     "output_type": "execute_result"
    }
   ],
   "source": [
    "# Deal with capitalized values\n",
    "airbnb['room_type'] = airbnb['room_type'].str.strip()\n",
    "# Deal with trailing spaces\n",
    "airbnb['room_type'] = airbnb['room_type'].str.capitalize()\n",
    "airbnb['room_type'].value_counts()"
   ]
  },
  {
   "cell_type": "code",
   "execution_count": 165,
   "metadata": {
    "colab": {},
    "colab_type": "code",
    "id": "tYyyzZ2pwMtx"
   },
   "outputs": [
    {
     "data": {
      "text/plain": [
       "array(['Private room', 'Entire home/apt', 'Shared room'], dtype=object)"
      ]
     },
     "execution_count": 165,
     "metadata": {},
     "output_type": "execute_result"
    }
   ],
   "source": [
    "# Replace values to 'Shared room', 'Entire place', 'Private room' and 'Hotel room' (if applicable).\n",
    "airbnb['room_type'].replace({'Private': 'Private room', 'Home': 'Entire home/apt'}, inplace=True)\n",
    "# Replace values and collapse data\n",
    "airbnb['room_type'].unique()"
   ]
  },
  {
   "cell_type": "markdown",
   "metadata": {
    "colab_type": "text",
    "id": "VA_2KMIkxjhL"
   },
   "source": [
    "##### **Task 5:** Divide `neighbourhood_full` into 2 columns and making sure they are clean"
   ]
  },
  {
   "cell_type": "code",
   "execution_count": 166,
   "metadata": {
    "colab": {},
    "colab_type": "code",
    "id": "Nc3u9b57xKOu"
   },
   "outputs": [
    {
     "data": {
      "text/plain": [
       "0           Brooklyn, Flatlands\n",
       "1    Manhattan, Upper West Side\n",
       "2    Brooklyn, Brooklyn Heights\n",
       "3    Manhattan, Upper West Side\n",
       "4    Manhattan, Lower East Side\n",
       "Name: neighbourhood_full, dtype: object"
      ]
     },
     "execution_count": 166,
     "metadata": {},
     "output_type": "execute_result"
    }
   ],
   "source": [
    "# Print header of column\n",
    "airbnb['neighbourhood_full'].head()"
   ]
  },
  {
   "cell_type": "code",
   "execution_count": 167,
   "metadata": {
    "colab": {},
    "colab_type": "code",
    "id": "88O9T3WYxreo"
   },
   "outputs": [
    {
     "data": {
      "text/plain": [
       "0               [Brooklyn,  Flatlands]\n",
       "1        [Manhattan,  Upper West Side]\n",
       "2        [Brooklyn,  Brooklyn Heights]\n",
       "3        [Manhattan,  Upper West Side]\n",
       "4        [Manhattan,  Lower East Side]\n",
       "                     ...              \n",
       "10014             [Manhattan,  Harlem]\n",
       "10015        [Manhattan,  East Harlem]\n",
       "10016        [Brooklyn,  Clinton Hill]\n",
       "10017        [Brooklyn,  Clinton Hill]\n",
       "10018    [Manhattan,  Upper East Side]\n",
       "Name: neighbourhood_full, Length: 10019, dtype: object"
      ]
     },
     "execution_count": 167,
     "metadata": {},
     "output_type": "execute_result"
    }
   ],
   "source": [
    "# Split neighbourhood_full\n",
    "temp = airbnb['neighbourhood_full'].str.split(\",\")\n",
    "temp"
   ]
  },
  {
   "cell_type": "code",
   "execution_count": 168,
   "metadata": {
    "colab": {},
    "colab_type": "code",
    "id": "mmKhwDxkypDJ"
   },
   "outputs": [
    {
     "data": {
      "text/html": [
       "<div>\n",
       "<style scoped>\n",
       "    .dataframe tbody tr th:only-of-type {\n",
       "        vertical-align: middle;\n",
       "    }\n",
       "\n",
       "    .dataframe tbody tr th {\n",
       "        vertical-align: top;\n",
       "    }\n",
       "\n",
       "    .dataframe thead th {\n",
       "        text-align: right;\n",
       "    }\n",
       "</style>\n",
       "<table border=\"1\" class=\"dataframe\">\n",
       "  <thead>\n",
       "    <tr style=\"text-align: right;\">\n",
       "      <th></th>\n",
       "      <th>listing_id</th>\n",
       "      <th>name</th>\n",
       "      <th>host_id</th>\n",
       "      <th>host_name</th>\n",
       "      <th>neighbourhood_full</th>\n",
       "      <th>room_type</th>\n",
       "      <th>price</th>\n",
       "      <th>number_of_reviews</th>\n",
       "      <th>last_review</th>\n",
       "      <th>reviews_per_month</th>\n",
       "      <th>availability_365</th>\n",
       "      <th>rating</th>\n",
       "      <th>number_of_stays</th>\n",
       "      <th>5_stars</th>\n",
       "      <th>listing_added</th>\n",
       "      <th>latitude</th>\n",
       "      <th>longtitude</th>\n",
       "      <th>borough</th>\n",
       "      <th>neighbourhood</th>\n",
       "    </tr>\n",
       "  </thead>\n",
       "  <tbody>\n",
       "    <tr>\n",
       "      <th>0</th>\n",
       "      <td>13740704</td>\n",
       "      <td>Cozy,budget friendly, cable inc, private entra...</td>\n",
       "      <td>20583125</td>\n",
       "      <td>Michel</td>\n",
       "      <td>Brooklyn, Flatlands</td>\n",
       "      <td>Private room</td>\n",
       "      <td>45.0</td>\n",
       "      <td>10</td>\n",
       "      <td>2018-06-08</td>\n",
       "      <td>0.70</td>\n",
       "      <td>85</td>\n",
       "      <td>4.100954</td>\n",
       "      <td>12.0</td>\n",
       "      <td>0.609432</td>\n",
       "      <td>2018-06-08</td>\n",
       "      <td>40.63222</td>\n",
       "      <td>-73.93398</td>\n",
       "      <td>Brooklyn</td>\n",
       "      <td>Flatlands</td>\n",
       "    </tr>\n",
       "    <tr>\n",
       "      <th>1</th>\n",
       "      <td>22005115</td>\n",
       "      <td>Two floor apartment near Central Park</td>\n",
       "      <td>82746113</td>\n",
       "      <td>Cecilia</td>\n",
       "      <td>Manhattan, Upper West Side</td>\n",
       "      <td>Entire home/apt</td>\n",
       "      <td>135.0</td>\n",
       "      <td>1</td>\n",
       "      <td>2018-12-25</td>\n",
       "      <td>1.00</td>\n",
       "      <td>145</td>\n",
       "      <td>3.367600</td>\n",
       "      <td>1.2</td>\n",
       "      <td>0.746135</td>\n",
       "      <td>2018-12-25</td>\n",
       "      <td>40.78761</td>\n",
       "      <td>-73.96862</td>\n",
       "      <td>Manhattan</td>\n",
       "      <td>Upper West Side</td>\n",
       "    </tr>\n",
       "    <tr>\n",
       "      <th>2</th>\n",
       "      <td>21667615</td>\n",
       "      <td>Beautiful 1BR in Brooklyn Heights</td>\n",
       "      <td>78251</td>\n",
       "      <td>Leslie</td>\n",
       "      <td>Brooklyn, Brooklyn Heights</td>\n",
       "      <td>Entire home/apt</td>\n",
       "      <td>150.0</td>\n",
       "      <td>0</td>\n",
       "      <td>2018-08-15</td>\n",
       "      <td>NaN</td>\n",
       "      <td>65</td>\n",
       "      <td>NaN</td>\n",
       "      <td>NaN</td>\n",
       "      <td>NaN</td>\n",
       "      <td>2018-08-15</td>\n",
       "      <td>40.70070</td>\n",
       "      <td>-73.99517</td>\n",
       "      <td>Brooklyn</td>\n",
       "      <td>Brooklyn Heights</td>\n",
       "    </tr>\n",
       "    <tr>\n",
       "      <th>3</th>\n",
       "      <td>6425850</td>\n",
       "      <td>Spacious, charming studio</td>\n",
       "      <td>32715865</td>\n",
       "      <td>Yelena</td>\n",
       "      <td>Manhattan, Upper West Side</td>\n",
       "      <td>Entire home/apt</td>\n",
       "      <td>86.0</td>\n",
       "      <td>5</td>\n",
       "      <td>2017-03-20</td>\n",
       "      <td>0.13</td>\n",
       "      <td>0</td>\n",
       "      <td>4.763203</td>\n",
       "      <td>6.0</td>\n",
       "      <td>0.769947</td>\n",
       "      <td>2017-03-20</td>\n",
       "      <td>40.79169</td>\n",
       "      <td>-73.97498</td>\n",
       "      <td>Manhattan</td>\n",
       "      <td>Upper West Side</td>\n",
       "    </tr>\n",
       "    <tr>\n",
       "      <th>4</th>\n",
       "      <td>22986519</td>\n",
       "      <td>Bedroom on the lively Lower East Side</td>\n",
       "      <td>154262349</td>\n",
       "      <td>Brooke</td>\n",
       "      <td>Manhattan, Lower East Side</td>\n",
       "      <td>Private room</td>\n",
       "      <td>160.0</td>\n",
       "      <td>23</td>\n",
       "      <td>2020-10-23</td>\n",
       "      <td>2.29</td>\n",
       "      <td>102</td>\n",
       "      <td>3.822591</td>\n",
       "      <td>27.6</td>\n",
       "      <td>0.649383</td>\n",
       "      <td>2020-10-23</td>\n",
       "      <td>40.71884</td>\n",
       "      <td>-73.98354</td>\n",
       "      <td>Manhattan</td>\n",
       "      <td>Lower East Side</td>\n",
       "    </tr>\n",
       "  </tbody>\n",
       "</table>\n",
       "</div>"
      ],
      "text/plain": [
       "   listing_id                                               name    host_id  \\\n",
       "0    13740704  Cozy,budget friendly, cable inc, private entra...   20583125   \n",
       "1    22005115              Two floor apartment near Central Park   82746113   \n",
       "2    21667615                  Beautiful 1BR in Brooklyn Heights      78251   \n",
       "3     6425850                          Spacious, charming studio   32715865   \n",
       "4    22986519              Bedroom on the lively Lower East Side  154262349   \n",
       "\n",
       "  host_name          neighbourhood_full        room_type  price  \\\n",
       "0    Michel         Brooklyn, Flatlands     Private room   45.0   \n",
       "1   Cecilia  Manhattan, Upper West Side  Entire home/apt  135.0   \n",
       "2    Leslie  Brooklyn, Brooklyn Heights  Entire home/apt  150.0   \n",
       "3    Yelena  Manhattan, Upper West Side  Entire home/apt   86.0   \n",
       "4    Brooke  Manhattan, Lower East Side     Private room  160.0   \n",
       "\n",
       "   number_of_reviews last_review  reviews_per_month  availability_365  \\\n",
       "0                 10  2018-06-08               0.70                85   \n",
       "1                  1  2018-12-25               1.00               145   \n",
       "2                  0  2018-08-15                NaN                65   \n",
       "3                  5  2017-03-20               0.13                 0   \n",
       "4                 23  2020-10-23               2.29               102   \n",
       "\n",
       "     rating  number_of_stays   5_stars listing_added  latitude  longtitude  \\\n",
       "0  4.100954             12.0  0.609432    2018-06-08  40.63222   -73.93398   \n",
       "1  3.367600              1.2  0.746135    2018-12-25  40.78761   -73.96862   \n",
       "2       NaN              NaN       NaN    2018-08-15  40.70070   -73.99517   \n",
       "3  4.763203              6.0  0.769947    2017-03-20  40.79169   -73.97498   \n",
       "4  3.822591             27.6  0.649383    2020-10-23  40.71884   -73.98354   \n",
       "\n",
       "     borough     neighbourhood  \n",
       "0   Brooklyn         Flatlands  \n",
       "1  Manhattan   Upper West Side  \n",
       "2   Brooklyn  Brooklyn Heights  \n",
       "3  Manhattan   Upper West Side  \n",
       "4  Manhattan   Lower East Side  "
      ]
     },
     "execution_count": 168,
     "metadata": {},
     "output_type": "execute_result"
    }
   ],
   "source": [
    "# Create borough and neighbourhood columns\n",
    "airbnb['borough'] = temp.apply(lambda x: str(x[0]).strip())\n",
    "airbnb['neighbourhood'] = temp.apply(lambda x: str(x[1]).strip())\n",
    "# Print header of columns\n",
    "airbnb.head()"
   ]
  },
  {
   "cell_type": "code",
   "execution_count": 169,
   "metadata": {},
   "outputs": [
    {
     "data": {
      "text/html": [
       "<div>\n",
       "<style scoped>\n",
       "    .dataframe tbody tr th:only-of-type {\n",
       "        vertical-align: middle;\n",
       "    }\n",
       "\n",
       "    .dataframe tbody tr th {\n",
       "        vertical-align: top;\n",
       "    }\n",
       "\n",
       "    .dataframe thead th {\n",
       "        text-align: right;\n",
       "    }\n",
       "</style>\n",
       "<table border=\"1\" class=\"dataframe\">\n",
       "  <thead>\n",
       "    <tr style=\"text-align: right;\">\n",
       "      <th></th>\n",
       "      <th>listing_id</th>\n",
       "      <th>name</th>\n",
       "      <th>host_id</th>\n",
       "      <th>host_name</th>\n",
       "      <th>neighbourhood_full</th>\n",
       "      <th>room_type</th>\n",
       "      <th>price</th>\n",
       "      <th>number_of_reviews</th>\n",
       "      <th>last_review</th>\n",
       "      <th>reviews_per_month</th>\n",
       "      <th>availability_365</th>\n",
       "      <th>rating</th>\n",
       "      <th>number_of_stays</th>\n",
       "      <th>5_stars</th>\n",
       "      <th>listing_added</th>\n",
       "      <th>latitude</th>\n",
       "      <th>longtitude</th>\n",
       "      <th>borough</th>\n",
       "      <th>neighbourhood</th>\n",
       "    </tr>\n",
       "  </thead>\n",
       "  <tbody>\n",
       "    <tr>\n",
       "      <th>0</th>\n",
       "      <td>13740704</td>\n",
       "      <td>Cozy,budget friendly, cable inc, private entra...</td>\n",
       "      <td>20583125</td>\n",
       "      <td>Michel</td>\n",
       "      <td>Brooklyn, Flatlands</td>\n",
       "      <td>Private room</td>\n",
       "      <td>45.0</td>\n",
       "      <td>10</td>\n",
       "      <td>2018-06-08</td>\n",
       "      <td>0.70</td>\n",
       "      <td>85</td>\n",
       "      <td>4.100954</td>\n",
       "      <td>12.0</td>\n",
       "      <td>0.609432</td>\n",
       "      <td>2018-06-08</td>\n",
       "      <td>40.63222</td>\n",
       "      <td>-73.93398</td>\n",
       "      <td>Brooklyn</td>\n",
       "      <td>Flatlands</td>\n",
       "    </tr>\n",
       "    <tr>\n",
       "      <th>1</th>\n",
       "      <td>22005115</td>\n",
       "      <td>Two floor apartment near Central Park</td>\n",
       "      <td>82746113</td>\n",
       "      <td>Cecilia</td>\n",
       "      <td>Manhattan, Upper West Side</td>\n",
       "      <td>Entire home/apt</td>\n",
       "      <td>135.0</td>\n",
       "      <td>1</td>\n",
       "      <td>2018-12-25</td>\n",
       "      <td>1.00</td>\n",
       "      <td>145</td>\n",
       "      <td>3.367600</td>\n",
       "      <td>1.2</td>\n",
       "      <td>0.746135</td>\n",
       "      <td>2018-12-25</td>\n",
       "      <td>40.78761</td>\n",
       "      <td>-73.96862</td>\n",
       "      <td>Manhattan</td>\n",
       "      <td>Upper West Side</td>\n",
       "    </tr>\n",
       "    <tr>\n",
       "      <th>2</th>\n",
       "      <td>21667615</td>\n",
       "      <td>Beautiful 1BR in Brooklyn Heights</td>\n",
       "      <td>78251</td>\n",
       "      <td>Leslie</td>\n",
       "      <td>Brooklyn, Brooklyn Heights</td>\n",
       "      <td>Entire home/apt</td>\n",
       "      <td>150.0</td>\n",
       "      <td>0</td>\n",
       "      <td>2018-08-15</td>\n",
       "      <td>NaN</td>\n",
       "      <td>65</td>\n",
       "      <td>NaN</td>\n",
       "      <td>NaN</td>\n",
       "      <td>NaN</td>\n",
       "      <td>2018-08-15</td>\n",
       "      <td>40.70070</td>\n",
       "      <td>-73.99517</td>\n",
       "      <td>Brooklyn</td>\n",
       "      <td>Brooklyn Heights</td>\n",
       "    </tr>\n",
       "    <tr>\n",
       "      <th>3</th>\n",
       "      <td>6425850</td>\n",
       "      <td>Spacious, charming studio</td>\n",
       "      <td>32715865</td>\n",
       "      <td>Yelena</td>\n",
       "      <td>Manhattan, Upper West Side</td>\n",
       "      <td>Entire home/apt</td>\n",
       "      <td>86.0</td>\n",
       "      <td>5</td>\n",
       "      <td>2017-03-20</td>\n",
       "      <td>0.13</td>\n",
       "      <td>0</td>\n",
       "      <td>4.763203</td>\n",
       "      <td>6.0</td>\n",
       "      <td>0.769947</td>\n",
       "      <td>2017-03-20</td>\n",
       "      <td>40.79169</td>\n",
       "      <td>-73.97498</td>\n",
       "      <td>Manhattan</td>\n",
       "      <td>Upper West Side</td>\n",
       "    </tr>\n",
       "    <tr>\n",
       "      <th>4</th>\n",
       "      <td>22986519</td>\n",
       "      <td>Bedroom on the lively Lower East Side</td>\n",
       "      <td>154262349</td>\n",
       "      <td>Brooke</td>\n",
       "      <td>Manhattan, Lower East Side</td>\n",
       "      <td>Private room</td>\n",
       "      <td>160.0</td>\n",
       "      <td>23</td>\n",
       "      <td>2020-10-23</td>\n",
       "      <td>2.29</td>\n",
       "      <td>102</td>\n",
       "      <td>3.822591</td>\n",
       "      <td>27.6</td>\n",
       "      <td>0.649383</td>\n",
       "      <td>2020-10-23</td>\n",
       "      <td>40.71884</td>\n",
       "      <td>-73.98354</td>\n",
       "      <td>Manhattan</td>\n",
       "      <td>Lower East Side</td>\n",
       "    </tr>\n",
       "  </tbody>\n",
       "</table>\n",
       "</div>"
      ],
      "text/plain": [
       "   listing_id                                               name    host_id  \\\n",
       "0    13740704  Cozy,budget friendly, cable inc, private entra...   20583125   \n",
       "1    22005115              Two floor apartment near Central Park   82746113   \n",
       "2    21667615                  Beautiful 1BR in Brooklyn Heights      78251   \n",
       "3     6425850                          Spacious, charming studio   32715865   \n",
       "4    22986519              Bedroom on the lively Lower East Side  154262349   \n",
       "\n",
       "  host_name          neighbourhood_full        room_type  price  \\\n",
       "0    Michel         Brooklyn, Flatlands     Private room   45.0   \n",
       "1   Cecilia  Manhattan, Upper West Side  Entire home/apt  135.0   \n",
       "2    Leslie  Brooklyn, Brooklyn Heights  Entire home/apt  150.0   \n",
       "3    Yelena  Manhattan, Upper West Side  Entire home/apt   86.0   \n",
       "4    Brooke  Manhattan, Lower East Side     Private room  160.0   \n",
       "\n",
       "   number_of_reviews last_review  reviews_per_month  availability_365  \\\n",
       "0                 10  2018-06-08               0.70                85   \n",
       "1                  1  2018-12-25               1.00               145   \n",
       "2                  0  2018-08-15                NaN                65   \n",
       "3                  5  2017-03-20               0.13                 0   \n",
       "4                 23  2020-10-23               2.29               102   \n",
       "\n",
       "     rating  number_of_stays   5_stars listing_added  latitude  longtitude  \\\n",
       "0  4.100954             12.0  0.609432    2018-06-08  40.63222   -73.93398   \n",
       "1  3.367600              1.2  0.746135    2018-12-25  40.78761   -73.96862   \n",
       "2       NaN              NaN       NaN    2018-08-15  40.70070   -73.99517   \n",
       "3  4.763203              6.0  0.769947    2017-03-20  40.79169   -73.97498   \n",
       "4  3.822591             27.6  0.649383    2020-10-23  40.71884   -73.98354   \n",
       "\n",
       "     borough     neighbourhood  \n",
       "0   Brooklyn         Flatlands  \n",
       "1  Manhattan   Upper West Side  \n",
       "2   Brooklyn  Brooklyn Heights  \n",
       "3  Manhattan   Upper West Side  \n",
       "4  Manhattan   Lower East Side  "
      ]
     },
     "execution_count": 169,
     "metadata": {},
     "output_type": "execute_result"
    }
   ],
   "source": [
    "airbnb.head()\n"
   ]
  },
  {
   "cell_type": "code",
   "execution_count": 170,
   "metadata": {
    "colab": {},
    "colab_type": "code",
    "id": "SnflzqkwzCnt"
   },
   "outputs": [
    {
     "data": {
      "text/html": [
       "<div>\n",
       "<style scoped>\n",
       "    .dataframe tbody tr th:only-of-type {\n",
       "        vertical-align: middle;\n",
       "    }\n",
       "\n",
       "    .dataframe tbody tr th {\n",
       "        vertical-align: top;\n",
       "    }\n",
       "\n",
       "    .dataframe thead th {\n",
       "        text-align: right;\n",
       "    }\n",
       "</style>\n",
       "<table border=\"1\" class=\"dataframe\">\n",
       "  <thead>\n",
       "    <tr style=\"text-align: right;\">\n",
       "      <th></th>\n",
       "      <th>listing_id</th>\n",
       "      <th>name</th>\n",
       "      <th>host_id</th>\n",
       "      <th>host_name</th>\n",
       "      <th>room_type</th>\n",
       "      <th>price</th>\n",
       "      <th>number_of_reviews</th>\n",
       "      <th>last_review</th>\n",
       "      <th>reviews_per_month</th>\n",
       "      <th>availability_365</th>\n",
       "      <th>rating</th>\n",
       "      <th>number_of_stays</th>\n",
       "      <th>5_stars</th>\n",
       "      <th>listing_added</th>\n",
       "      <th>latitude</th>\n",
       "      <th>longtitude</th>\n",
       "      <th>borough</th>\n",
       "      <th>neighbourhood</th>\n",
       "    </tr>\n",
       "  </thead>\n",
       "  <tbody>\n",
       "    <tr>\n",
       "      <th>0</th>\n",
       "      <td>13740704</td>\n",
       "      <td>Cozy,budget friendly, cable inc, private entra...</td>\n",
       "      <td>20583125</td>\n",
       "      <td>Michel</td>\n",
       "      <td>Private room</td>\n",
       "      <td>45.0</td>\n",
       "      <td>10</td>\n",
       "      <td>2018-06-08</td>\n",
       "      <td>0.70</td>\n",
       "      <td>85</td>\n",
       "      <td>4.100954</td>\n",
       "      <td>12.0</td>\n",
       "      <td>0.609432</td>\n",
       "      <td>2018-06-08</td>\n",
       "      <td>40.63222</td>\n",
       "      <td>-73.93398</td>\n",
       "      <td>Brooklyn</td>\n",
       "      <td>Flatlands</td>\n",
       "    </tr>\n",
       "    <tr>\n",
       "      <th>1</th>\n",
       "      <td>22005115</td>\n",
       "      <td>Two floor apartment near Central Park</td>\n",
       "      <td>82746113</td>\n",
       "      <td>Cecilia</td>\n",
       "      <td>Entire home/apt</td>\n",
       "      <td>135.0</td>\n",
       "      <td>1</td>\n",
       "      <td>2018-12-25</td>\n",
       "      <td>1.00</td>\n",
       "      <td>145</td>\n",
       "      <td>3.367600</td>\n",
       "      <td>1.2</td>\n",
       "      <td>0.746135</td>\n",
       "      <td>2018-12-25</td>\n",
       "      <td>40.78761</td>\n",
       "      <td>-73.96862</td>\n",
       "      <td>Manhattan</td>\n",
       "      <td>Upper West Side</td>\n",
       "    </tr>\n",
       "    <tr>\n",
       "      <th>2</th>\n",
       "      <td>21667615</td>\n",
       "      <td>Beautiful 1BR in Brooklyn Heights</td>\n",
       "      <td>78251</td>\n",
       "      <td>Leslie</td>\n",
       "      <td>Entire home/apt</td>\n",
       "      <td>150.0</td>\n",
       "      <td>0</td>\n",
       "      <td>2018-08-15</td>\n",
       "      <td>NaN</td>\n",
       "      <td>65</td>\n",
       "      <td>NaN</td>\n",
       "      <td>NaN</td>\n",
       "      <td>NaN</td>\n",
       "      <td>2018-08-15</td>\n",
       "      <td>40.70070</td>\n",
       "      <td>-73.99517</td>\n",
       "      <td>Brooklyn</td>\n",
       "      <td>Brooklyn Heights</td>\n",
       "    </tr>\n",
       "    <tr>\n",
       "      <th>3</th>\n",
       "      <td>6425850</td>\n",
       "      <td>Spacious, charming studio</td>\n",
       "      <td>32715865</td>\n",
       "      <td>Yelena</td>\n",
       "      <td>Entire home/apt</td>\n",
       "      <td>86.0</td>\n",
       "      <td>5</td>\n",
       "      <td>2017-03-20</td>\n",
       "      <td>0.13</td>\n",
       "      <td>0</td>\n",
       "      <td>4.763203</td>\n",
       "      <td>6.0</td>\n",
       "      <td>0.769947</td>\n",
       "      <td>2017-03-20</td>\n",
       "      <td>40.79169</td>\n",
       "      <td>-73.97498</td>\n",
       "      <td>Manhattan</td>\n",
       "      <td>Upper West Side</td>\n",
       "    </tr>\n",
       "    <tr>\n",
       "      <th>4</th>\n",
       "      <td>22986519</td>\n",
       "      <td>Bedroom on the lively Lower East Side</td>\n",
       "      <td>154262349</td>\n",
       "      <td>Brooke</td>\n",
       "      <td>Private room</td>\n",
       "      <td>160.0</td>\n",
       "      <td>23</td>\n",
       "      <td>2020-10-23</td>\n",
       "      <td>2.29</td>\n",
       "      <td>102</td>\n",
       "      <td>3.822591</td>\n",
       "      <td>27.6</td>\n",
       "      <td>0.649383</td>\n",
       "      <td>2020-10-23</td>\n",
       "      <td>40.71884</td>\n",
       "      <td>-73.98354</td>\n",
       "      <td>Manhattan</td>\n",
       "      <td>Lower East Side</td>\n",
       "    </tr>\n",
       "    <tr>\n",
       "      <th>...</th>\n",
       "      <td>...</td>\n",
       "      <td>...</td>\n",
       "      <td>...</td>\n",
       "      <td>...</td>\n",
       "      <td>...</td>\n",
       "      <td>...</td>\n",
       "      <td>...</td>\n",
       "      <td>...</td>\n",
       "      <td>...</td>\n",
       "      <td>...</td>\n",
       "      <td>...</td>\n",
       "      <td>...</td>\n",
       "      <td>...</td>\n",
       "      <td>...</td>\n",
       "      <td>...</td>\n",
       "      <td>...</td>\n",
       "      <td>...</td>\n",
       "      <td>...</td>\n",
       "    </tr>\n",
       "    <tr>\n",
       "      <th>10014</th>\n",
       "      <td>22307861</td>\n",
       "      <td>Lovely 1BR Harlem apartment</td>\n",
       "      <td>16004068</td>\n",
       "      <td>Rachel</td>\n",
       "      <td>Entire home/apt</td>\n",
       "      <td>105.0</td>\n",
       "      <td>4</td>\n",
       "      <td>2017-11-22</td>\n",
       "      <td>0.21</td>\n",
       "      <td>0</td>\n",
       "      <td>4.757555</td>\n",
       "      <td>4.8</td>\n",
       "      <td>0.639223</td>\n",
       "      <td>2017-11-22</td>\n",
       "      <td>40.80379</td>\n",
       "      <td>-73.95257</td>\n",
       "      <td>Manhattan</td>\n",
       "      <td>Harlem</td>\n",
       "    </tr>\n",
       "    <tr>\n",
       "      <th>10015</th>\n",
       "      <td>953275</td>\n",
       "      <td>Apartment For Your Holidays in NYC!</td>\n",
       "      <td>4460034</td>\n",
       "      <td>Alain</td>\n",
       "      <td>Entire home/apt</td>\n",
       "      <td>125.0</td>\n",
       "      <td>50</td>\n",
       "      <td>2017-10-31</td>\n",
       "      <td>0.66</td>\n",
       "      <td>188</td>\n",
       "      <td>4.344704</td>\n",
       "      <td>60.0</td>\n",
       "      <td>0.648778</td>\n",
       "      <td>2017-10-31</td>\n",
       "      <td>40.79531</td>\n",
       "      <td>-73.93330</td>\n",
       "      <td>Manhattan</td>\n",
       "      <td>East Harlem</td>\n",
       "    </tr>\n",
       "    <tr>\n",
       "      <th>10016</th>\n",
       "      <td>3452835</td>\n",
       "      <td>Artsy, Garden Getaway in Central Brooklyn</td>\n",
       "      <td>666862</td>\n",
       "      <td>Amy</td>\n",
       "      <td>Entire home/apt</td>\n",
       "      <td>100.0</td>\n",
       "      <td>45</td>\n",
       "      <td>2016-05-24</td>\n",
       "      <td>0.98</td>\n",
       "      <td>0</td>\n",
       "      <td>3.966214</td>\n",
       "      <td>54.0</td>\n",
       "      <td>0.631713</td>\n",
       "      <td>2016-05-24</td>\n",
       "      <td>40.68266</td>\n",
       "      <td>-73.96743</td>\n",
       "      <td>Brooklyn</td>\n",
       "      <td>Clinton Hill</td>\n",
       "    </tr>\n",
       "    <tr>\n",
       "      <th>10017</th>\n",
       "      <td>23540194</td>\n",
       "      <td>Immaculate townhouse in Clinton Hill, Brooklyn</td>\n",
       "      <td>67176930</td>\n",
       "      <td>Sophie</td>\n",
       "      <td>Entire home/apt</td>\n",
       "      <td>450.0</td>\n",
       "      <td>2</td>\n",
       "      <td>2018-11-25</td>\n",
       "      <td>0.17</td>\n",
       "      <td>99</td>\n",
       "      <td>4.078581</td>\n",
       "      <td>2.4</td>\n",
       "      <td>0.703360</td>\n",
       "      <td>2018-11-25</td>\n",
       "      <td>40.68832</td>\n",
       "      <td>-73.96366</td>\n",
       "      <td>Brooklyn</td>\n",
       "      <td>Clinton Hill</td>\n",
       "    </tr>\n",
       "    <tr>\n",
       "      <th>10018</th>\n",
       "      <td>32876011</td>\n",
       "      <td>Private room in a perfect location in the city</td>\n",
       "      <td>59583716</td>\n",
       "      <td>Shai</td>\n",
       "      <td>Private room</td>\n",
       "      <td>90.0</td>\n",
       "      <td>1</td>\n",
       "      <td>2018-09-06</td>\n",
       "      <td>0.25</td>\n",
       "      <td>8</td>\n",
       "      <td>4.069096</td>\n",
       "      <td>1.2</td>\n",
       "      <td>0.720249</td>\n",
       "      <td>2018-09-06</td>\n",
       "      <td>40.76174</td>\n",
       "      <td>-73.96625</td>\n",
       "      <td>Manhattan</td>\n",
       "      <td>Upper East Side</td>\n",
       "    </tr>\n",
       "  </tbody>\n",
       "</table>\n",
       "<p>10019 rows × 18 columns</p>\n",
       "</div>"
      ],
      "text/plain": [
       "       listing_id                                               name  \\\n",
       "0        13740704  Cozy,budget friendly, cable inc, private entra...   \n",
       "1        22005115              Two floor apartment near Central Park   \n",
       "2        21667615                  Beautiful 1BR in Brooklyn Heights   \n",
       "3         6425850                          Spacious, charming studio   \n",
       "4        22986519              Bedroom on the lively Lower East Side   \n",
       "...           ...                                                ...   \n",
       "10014    22307861                        Lovely 1BR Harlem apartment   \n",
       "10015      953275                Apartment For Your Holidays in NYC!   \n",
       "10016     3452835          Artsy, Garden Getaway in Central Brooklyn   \n",
       "10017    23540194     Immaculate townhouse in Clinton Hill, Brooklyn   \n",
       "10018    32876011     Private room in a perfect location in the city   \n",
       "\n",
       "         host_id host_name        room_type  price  number_of_reviews  \\\n",
       "0       20583125    Michel     Private room   45.0                 10   \n",
       "1       82746113   Cecilia  Entire home/apt  135.0                  1   \n",
       "2          78251    Leslie  Entire home/apt  150.0                  0   \n",
       "3       32715865    Yelena  Entire home/apt   86.0                  5   \n",
       "4      154262349    Brooke     Private room  160.0                 23   \n",
       "...          ...       ...              ...    ...                ...   \n",
       "10014   16004068    Rachel  Entire home/apt  105.0                  4   \n",
       "10015    4460034     Alain  Entire home/apt  125.0                 50   \n",
       "10016     666862       Amy  Entire home/apt  100.0                 45   \n",
       "10017   67176930    Sophie  Entire home/apt  450.0                  2   \n",
       "10018   59583716      Shai     Private room   90.0                  1   \n",
       "\n",
       "      last_review  reviews_per_month  availability_365    rating  \\\n",
       "0      2018-06-08               0.70                85  4.100954   \n",
       "1      2018-12-25               1.00               145  3.367600   \n",
       "2      2018-08-15                NaN                65       NaN   \n",
       "3      2017-03-20               0.13                 0  4.763203   \n",
       "4      2020-10-23               2.29               102  3.822591   \n",
       "...           ...                ...               ...       ...   \n",
       "10014  2017-11-22               0.21                 0  4.757555   \n",
       "10015  2017-10-31               0.66               188  4.344704   \n",
       "10016  2016-05-24               0.98                 0  3.966214   \n",
       "10017  2018-11-25               0.17                99  4.078581   \n",
       "10018  2018-09-06               0.25                 8  4.069096   \n",
       "\n",
       "       number_of_stays   5_stars listing_added  latitude  longtitude  \\\n",
       "0                 12.0  0.609432    2018-06-08  40.63222   -73.93398   \n",
       "1                  1.2  0.746135    2018-12-25  40.78761   -73.96862   \n",
       "2                  NaN       NaN    2018-08-15  40.70070   -73.99517   \n",
       "3                  6.0  0.769947    2017-03-20  40.79169   -73.97498   \n",
       "4                 27.6  0.649383    2020-10-23  40.71884   -73.98354   \n",
       "...                ...       ...           ...       ...         ...   \n",
       "10014              4.8  0.639223    2017-11-22  40.80379   -73.95257   \n",
       "10015             60.0  0.648778    2017-10-31  40.79531   -73.93330   \n",
       "10016             54.0  0.631713    2016-05-24  40.68266   -73.96743   \n",
       "10017              2.4  0.703360    2018-11-25  40.68832   -73.96366   \n",
       "10018              1.2  0.720249    2018-09-06  40.76174   -73.96625   \n",
       "\n",
       "         borough     neighbourhood  \n",
       "0       Brooklyn         Flatlands  \n",
       "1      Manhattan   Upper West Side  \n",
       "2       Brooklyn  Brooklyn Heights  \n",
       "3      Manhattan   Upper West Side  \n",
       "4      Manhattan   Lower East Side  \n",
       "...          ...               ...  \n",
       "10014  Manhattan            Harlem  \n",
       "10015  Manhattan       East Harlem  \n",
       "10016   Brooklyn      Clinton Hill  \n",
       "10017   Brooklyn      Clinton Hill  \n",
       "10018  Manhattan   Upper East Side  \n",
       "\n",
       "[10019 rows x 18 columns]"
      ]
     },
     "execution_count": 170,
     "metadata": {},
     "output_type": "execute_result"
    }
   ],
   "source": [
    "# Drop neighbourhood_full column\n",
    "airbnb.drop('neighbourhood_full', axis=1)"
   ]
  },
  {
   "cell_type": "code",
   "execution_count": 171,
   "metadata": {
    "colab": {},
    "colab_type": "code",
    "id": "NJqrhMlNzNxk"
   },
   "outputs": [
    {
     "name": "stdout",
     "output_type": "stream",
     "text": [
      "0     Brooklyn\n",
      "1    Manhattan\n",
      "2     Brooklyn\n",
      "3    Manhattan\n",
      "4    Manhattan\n",
      "Name: borough, dtype: object\n",
      "0           Flatlands\n",
      "1     Upper West Side\n",
      "2    Brooklyn Heights\n",
      "3     Upper West Side\n",
      "4     Lower East Side\n",
      "Name: neighbourhood, dtype: object\n"
     ]
    }
   ],
   "source": [
    "# Print out unique values of borough and neighbourhood\n",
    "print(airbnb['borough'].head())\n",
    "print(airbnb['neighbourhood'].head())"
   ]
  },
  {
   "cell_type": "code",
   "execution_count": 172,
   "metadata": {
    "colab": {},
    "colab_type": "code",
    "id": "sIC_fuLRz-en"
   },
   "outputs": [
    {
     "data": {
      "text/plain": [
       "array(['Brooklyn', 'Manhattan', 'Queens', 'Bronx', 'Staten Island'],\n",
       "      dtype=object)"
      ]
     },
     "execution_count": 172,
     "metadata": {},
     "output_type": "execute_result"
    }
   ],
   "source": [
    "#print unique values\n",
    "airbnb['borough'].unique()"
   ]
  },
  {
   "cell_type": "markdown",
   "metadata": {
    "colab_type": "text",
    "id": "iFUQqbRp1lil"
   },
   "source": [
    "##### **Task 6:** Make sure we set the correct maximum for `rating` column out of range values"
   ]
  },
  {
   "cell_type": "code",
   "execution_count": 173,
   "metadata": {
    "colab": {},
    "colab_type": "code",
    "id": "Bacl6XSU1zyD"
   },
   "outputs": [
    {
     "name": "stderr",
     "output_type": "stream",
     "text": [
      "/home/aya/anaconda3/lib/python3.11/site-packages/seaborn/_oldcore.py:1119: FutureWarning: use_inf_as_na option is deprecated and will be removed in a future version. Convert inf values to NaN before operating instead.\n",
      "  with pd.option_context('mode.use_inf_as_na', True):\n"
     ]
    },
    {
     "data": {
      "image/png": "[encoded data removed]",
      "text/plain": [
       "<Figure size 500x500 with 1 Axes>"
      ]
     },
     "metadata": {},
     "output_type": "display_data"
    }
   ],
   "source": [
    "# Visualize the rating column again\n",
    "sns.displot(airbnb['rating'], bins=20, kde=True)\n",
    "plt.title('Distribution of listing ratings')\n",
    "plt.show()"
   ]
  },
  {
   "cell_type": "code",
   "execution_count": 174,
   "metadata": {},
   "outputs": [
    {
     "data": {
      "text/html": [
       "<div>\n",
       "<style scoped>\n",
       "    .dataframe tbody tr th:only-of-type {\n",
       "        vertical-align: middle;\n",
       "    }\n",
       "\n",
       "    .dataframe tbody tr th {\n",
       "        vertical-align: top;\n",
       "    }\n",
       "\n",
       "    .dataframe thead th {\n",
       "        text-align: right;\n",
       "    }\n",
       "</style>\n",
       "<table border=\"1\" class=\"dataframe\">\n",
       "  <thead>\n",
       "    <tr style=\"text-align: right;\">\n",
       "      <th></th>\n",
       "      <th>listing_id</th>\n",
       "      <th>name</th>\n",
       "      <th>host_id</th>\n",
       "      <th>host_name</th>\n",
       "      <th>neighbourhood_full</th>\n",
       "      <th>room_type</th>\n",
       "      <th>price</th>\n",
       "      <th>number_of_reviews</th>\n",
       "      <th>last_review</th>\n",
       "      <th>reviews_per_month</th>\n",
       "      <th>availability_365</th>\n",
       "      <th>rating</th>\n",
       "      <th>number_of_stays</th>\n",
       "      <th>5_stars</th>\n",
       "      <th>listing_added</th>\n",
       "      <th>latitude</th>\n",
       "      <th>longtitude</th>\n",
       "      <th>borough</th>\n",
       "      <th>neighbourhood</th>\n",
       "    </tr>\n",
       "  </thead>\n",
       "  <tbody>\n",
       "    <tr>\n",
       "      <th>0</th>\n",
       "      <td>13740704</td>\n",
       "      <td>Cozy,budget friendly, cable inc, private entra...</td>\n",
       "      <td>20583125</td>\n",
       "      <td>Michel</td>\n",
       "      <td>Brooklyn, Flatlands</td>\n",
       "      <td>Private room</td>\n",
       "      <td>45.0</td>\n",
       "      <td>10</td>\n",
       "      <td>2018-06-08</td>\n",
       "      <td>0.70</td>\n",
       "      <td>85</td>\n",
       "      <td>4.100954</td>\n",
       "      <td>12.0</td>\n",
       "      <td>0.609432</td>\n",
       "      <td>2018-06-08</td>\n",
       "      <td>40.63222</td>\n",
       "      <td>-73.93398</td>\n",
       "      <td>Brooklyn</td>\n",
       "      <td>Flatlands</td>\n",
       "    </tr>\n",
       "    <tr>\n",
       "      <th>1</th>\n",
       "      <td>22005115</td>\n",
       "      <td>Two floor apartment near Central Park</td>\n",
       "      <td>82746113</td>\n",
       "      <td>Cecilia</td>\n",
       "      <td>Manhattan, Upper West Side</td>\n",
       "      <td>Entire home/apt</td>\n",
       "      <td>135.0</td>\n",
       "      <td>1</td>\n",
       "      <td>2018-12-25</td>\n",
       "      <td>1.00</td>\n",
       "      <td>145</td>\n",
       "      <td>3.367600</td>\n",
       "      <td>1.2</td>\n",
       "      <td>0.746135</td>\n",
       "      <td>2018-12-25</td>\n",
       "      <td>40.78761</td>\n",
       "      <td>-73.96862</td>\n",
       "      <td>Manhattan</td>\n",
       "      <td>Upper West Side</td>\n",
       "    </tr>\n",
       "    <tr>\n",
       "      <th>2</th>\n",
       "      <td>21667615</td>\n",
       "      <td>Beautiful 1BR in Brooklyn Heights</td>\n",
       "      <td>78251</td>\n",
       "      <td>Leslie</td>\n",
       "      <td>Brooklyn, Brooklyn Heights</td>\n",
       "      <td>Entire home/apt</td>\n",
       "      <td>150.0</td>\n",
       "      <td>0</td>\n",
       "      <td>2018-08-15</td>\n",
       "      <td>NaN</td>\n",
       "      <td>65</td>\n",
       "      <td>NaN</td>\n",
       "      <td>NaN</td>\n",
       "      <td>NaN</td>\n",
       "      <td>2018-08-15</td>\n",
       "      <td>40.70070</td>\n",
       "      <td>-73.99517</td>\n",
       "      <td>Brooklyn</td>\n",
       "      <td>Brooklyn Heights</td>\n",
       "    </tr>\n",
       "    <tr>\n",
       "      <th>3</th>\n",
       "      <td>6425850</td>\n",
       "      <td>Spacious, charming studio</td>\n",
       "      <td>32715865</td>\n",
       "      <td>Yelena</td>\n",
       "      <td>Manhattan, Upper West Side</td>\n",
       "      <td>Entire home/apt</td>\n",
       "      <td>86.0</td>\n",
       "      <td>5</td>\n",
       "      <td>2017-03-20</td>\n",
       "      <td>0.13</td>\n",
       "      <td>0</td>\n",
       "      <td>4.763203</td>\n",
       "      <td>6.0</td>\n",
       "      <td>0.769947</td>\n",
       "      <td>2017-03-20</td>\n",
       "      <td>40.79169</td>\n",
       "      <td>-73.97498</td>\n",
       "      <td>Manhattan</td>\n",
       "      <td>Upper West Side</td>\n",
       "    </tr>\n",
       "    <tr>\n",
       "      <th>4</th>\n",
       "      <td>22986519</td>\n",
       "      <td>Bedroom on the lively Lower East Side</td>\n",
       "      <td>154262349</td>\n",
       "      <td>Brooke</td>\n",
       "      <td>Manhattan, Lower East Side</td>\n",
       "      <td>Private room</td>\n",
       "      <td>160.0</td>\n",
       "      <td>23</td>\n",
       "      <td>2020-10-23</td>\n",
       "      <td>2.29</td>\n",
       "      <td>102</td>\n",
       "      <td>3.822591</td>\n",
       "      <td>27.6</td>\n",
       "      <td>0.649383</td>\n",
       "      <td>2020-10-23</td>\n",
       "      <td>40.71884</td>\n",
       "      <td>-73.98354</td>\n",
       "      <td>Manhattan</td>\n",
       "      <td>Lower East Side</td>\n",
       "    </tr>\n",
       "  </tbody>\n",
       "</table>\n",
       "</div>"
      ],
      "text/plain": [
       "   listing_id                                               name    host_id  \\\n",
       "0    13740704  Cozy,budget friendly, cable inc, private entra...   20583125   \n",
       "1    22005115              Two floor apartment near Central Park   82746113   \n",
       "2    21667615                  Beautiful 1BR in Brooklyn Heights      78251   \n",
       "3     6425850                          Spacious, charming studio   32715865   \n",
       "4    22986519              Bedroom on the lively Lower East Side  154262349   \n",
       "\n",
       "  host_name          neighbourhood_full        room_type  price  \\\n",
       "0    Michel         Brooklyn, Flatlands     Private room   45.0   \n",
       "1   Cecilia  Manhattan, Upper West Side  Entire home/apt  135.0   \n",
       "2    Leslie  Brooklyn, Brooklyn Heights  Entire home/apt  150.0   \n",
       "3    Yelena  Manhattan, Upper West Side  Entire home/apt   86.0   \n",
       "4    Brooke  Manhattan, Lower East Side     Private room  160.0   \n",
       "\n",
       "   number_of_reviews last_review  reviews_per_month  availability_365  \\\n",
       "0                 10  2018-06-08               0.70                85   \n",
       "1                  1  2018-12-25               1.00               145   \n",
       "2                  0  2018-08-15                NaN                65   \n",
       "3                  5  2017-03-20               0.13                 0   \n",
       "4                 23  2020-10-23               2.29               102   \n",
       "\n",
       "     rating  number_of_stays   5_stars listing_added  latitude  longtitude  \\\n",
       "0  4.100954             12.0  0.609432    2018-06-08  40.63222   -73.93398   \n",
       "1  3.367600              1.2  0.746135    2018-12-25  40.78761   -73.96862   \n",
       "2       NaN              NaN       NaN    2018-08-15  40.70070   -73.99517   \n",
       "3  4.763203              6.0  0.769947    2017-03-20  40.79169   -73.97498   \n",
       "4  3.822591             27.6  0.649383    2020-10-23  40.71884   -73.98354   \n",
       "\n",
       "     borough     neighbourhood  \n",
       "0   Brooklyn         Flatlands  \n",
       "1  Manhattan   Upper West Side  \n",
       "2   Brooklyn  Brooklyn Heights  \n",
       "3  Manhattan   Upper West Side  \n",
       "4  Manhattan   Lower East Side  "
      ]
     },
     "execution_count": 174,
     "metadata": {},
     "output_type": "execute_result"
    }
   ],
   "source": [
    "airbnb.head()"
   ]
  },
  {
   "cell_type": "code",
   "execution_count": 175,
   "metadata": {
    "colab": {},
    "colab_type": "code",
    "id": "toWXIeUx2C0o"
   },
   "outputs": [
    {
     "data": {
      "text/plain": [
       "[1925, 6732, 8821]"
      ]
     },
     "execution_count": 175,
     "metadata": {},
     "output_type": "execute_result"
    }
   ],
   "source": [
    "# Isolate rows of rating > 5.0\n",
    "non_relevant_rows = np.where(airbnb['rating'] > 5)[0]\n",
    "list(non_relevant_rows)"
   ]
  },
  {
   "cell_type": "code",
   "execution_count": 176,
   "metadata": {
    "colab": {},
    "colab_type": "code",
    "id": "O6GzdjlP2JZN"
   },
   "outputs": [],
   "source": [
    "# Drop these rows and make sure we have effected changes\n",
    "airbnb.drop(non_relevant_rows, axis=0, inplace=True)"
   ]
  },
  {
   "cell_type": "code",
   "execution_count": 177,
   "metadata": {
    "colab": {},
    "colab_type": "code",
    "id": "sjlhjthu3NIP"
   },
   "outputs": [
    {
     "name": "stderr",
     "output_type": "stream",
     "text": [
      "/home/aya/anaconda3/lib/python3.11/site-packages/seaborn/_oldcore.py:1119: FutureWarning: use_inf_as_na option is deprecated and will be removed in a future version. Convert inf values to NaN before operating instead.\n",
      "  with pd.option_context('mode.use_inf_as_na', True):\n"
     ]
    },
    {
     "data": {
      "image/png": "[encoded data removed]",
      "text/plain": [
       "<Figure size 500x500 with 1 Axes>"
      ]
     },
     "metadata": {},
     "output_type": "display_data"
    }
   ],
   "source": [
    "# Visualize the rating column again\n",
    "sns.displot(airbnb['rating'], bins=20, kde=True)\n",
    "plt.title('Distribution of listing ratings')\n",
    "plt.show()"
   ]
  },
  {
   "cell_type": "code",
   "execution_count": 178,
   "metadata": {
    "colab": {},
    "colab_type": "code",
    "id": "ll1KvVJX4Pd3"
   },
   "outputs": [
    {
     "data": {
      "text/plain": [
       "4.999561104773598"
      ]
     },
     "execution_count": 178,
     "metadata": {},
     "output_type": "execute_result"
    }
   ],
   "source": [
    "# Get the maximum\n",
    "airbnb['rating'].max()"
   ]
  },
  {
   "cell_type": "markdown",
   "metadata": {
    "colab_type": "text",
    "id": "z21NCGFC04Xl"
   },
   "source": [
    "## **Q&A**"
   ]
  },
  {
   "cell_type": "markdown",
   "metadata": {
    "colab_type": "text",
    "id": "32vk2-Vn5l3Z"
   },
   "source": [
    "### Dealing with missing data"
   ]
  },
  {
   "cell_type": "markdown",
   "metadata": {
    "colab_type": "text",
    "id": "27XSigJyg8Di"
   },
   "source": [
    "**Treating the** `rating`, `number_of_stays`, `5_stars`, `reviews_per_month` **columns**"
   ]
  },
  {
   "cell_type": "code",
   "execution_count": 179,
   "metadata": {
    "colab": {},
    "colab_type": "code",
    "id": "pKuLIznfSv3H"
   },
   "outputs": [
    {
     "data": {
      "text/html": [
       "<div>\n",
       "<style scoped>\n",
       "    .dataframe tbody tr th:only-of-type {\n",
       "        vertical-align: middle;\n",
       "    }\n",
       "\n",
       "    .dataframe tbody tr th {\n",
       "        vertical-align: top;\n",
       "    }\n",
       "\n",
       "    .dataframe thead th {\n",
       "        text-align: right;\n",
       "    }\n",
       "</style>\n",
       "<table border=\"1\" class=\"dataframe\">\n",
       "  <thead>\n",
       "    <tr style=\"text-align: right;\">\n",
       "      <th></th>\n",
       "      <th>listing_id</th>\n",
       "      <th>host_id</th>\n",
       "      <th>price</th>\n",
       "      <th>number_of_reviews</th>\n",
       "      <th>last_review</th>\n",
       "      <th>reviews_per_month</th>\n",
       "      <th>availability_365</th>\n",
       "      <th>rating</th>\n",
       "      <th>number_of_stays</th>\n",
       "      <th>5_stars</th>\n",
       "      <th>listing_added</th>\n",
       "      <th>latitude</th>\n",
       "      <th>longtitude</th>\n",
       "    </tr>\n",
       "  </thead>\n",
       "  <tbody>\n",
       "    <tr>\n",
       "      <th>count</th>\n",
       "      <td>2.075000e+03</td>\n",
       "      <td>2.075000e+03</td>\n",
       "      <td>2028.000000</td>\n",
       "      <td>2075.0</td>\n",
       "      <td>2075</td>\n",
       "      <td>0.0</td>\n",
       "      <td>2075.000000</td>\n",
       "      <td>0.0</td>\n",
       "      <td>0.0</td>\n",
       "      <td>0.0</td>\n",
       "      <td>2075</td>\n",
       "      <td>2075.000000</td>\n",
       "      <td>2075.000000</td>\n",
       "    </tr>\n",
       "    <tr>\n",
       "      <th>mean</th>\n",
       "      <td>2.274238e+07</td>\n",
       "      <td>8.022455e+07</td>\n",
       "      <td>191.553748</td>\n",
       "      <td>0.0</td>\n",
       "      <td>2018-06-08 17:01:31.951807232</td>\n",
       "      <td>NaN</td>\n",
       "      <td>104.531566</td>\n",
       "      <td>NaN</td>\n",
       "      <td>NaN</td>\n",
       "      <td>NaN</td>\n",
       "      <td>2018-06-08 17:01:31.951807232</td>\n",
       "      <td>40.732074</td>\n",
       "      <td>-73.956771</td>\n",
       "    </tr>\n",
       "    <tr>\n",
       "      <th>min</th>\n",
       "      <td>6.358800e+04</td>\n",
       "      <td>1.475100e+04</td>\n",
       "      <td>0.000000</td>\n",
       "      <td>0.0</td>\n",
       "      <td>2018-02-03 00:00:00</td>\n",
       "      <td>NaN</td>\n",
       "      <td>0.000000</td>\n",
       "      <td>NaN</td>\n",
       "      <td>NaN</td>\n",
       "      <td>NaN</td>\n",
       "      <td>2018-02-03 00:00:00</td>\n",
       "      <td>40.527000</td>\n",
       "      <td>-74.209410</td>\n",
       "    </tr>\n",
       "    <tr>\n",
       "      <th>25%</th>\n",
       "      <td>1.232923e+07</td>\n",
       "      <td>1.224305e+07</td>\n",
       "      <td>70.000000</td>\n",
       "      <td>0.0</td>\n",
       "      <td>2018-04-05 00:00:00</td>\n",
       "      <td>NaN</td>\n",
       "      <td>0.000000</td>\n",
       "      <td>NaN</td>\n",
       "      <td>NaN</td>\n",
       "      <td>NaN</td>\n",
       "      <td>2018-04-05 00:00:00</td>\n",
       "      <td>40.697845</td>\n",
       "      <td>-73.985185</td>\n",
       "    </tr>\n",
       "    <tr>\n",
       "      <th>50%</th>\n",
       "      <td>2.345182e+07</td>\n",
       "      <td>4.040116e+07</td>\n",
       "      <td>120.000000</td>\n",
       "      <td>0.0</td>\n",
       "      <td>2018-06-05 00:00:00</td>\n",
       "      <td>NaN</td>\n",
       "      <td>7.000000</td>\n",
       "      <td>NaN</td>\n",
       "      <td>NaN</td>\n",
       "      <td>NaN</td>\n",
       "      <td>2018-06-05 00:00:00</td>\n",
       "      <td>40.727790</td>\n",
       "      <td>-73.960940</td>\n",
       "    </tr>\n",
       "    <tr>\n",
       "      <th>75%</th>\n",
       "      <td>3.400364e+07</td>\n",
       "      <td>1.333498e+08</td>\n",
       "      <td>205.250000</td>\n",
       "      <td>0.0</td>\n",
       "      <td>2018-08-13 00:00:00</td>\n",
       "      <td>NaN</td>\n",
       "      <td>211.000000</td>\n",
       "      <td>NaN</td>\n",
       "      <td>NaN</td>\n",
       "      <td>NaN</td>\n",
       "      <td>2018-08-13 00:00:00</td>\n",
       "      <td>40.763480</td>\n",
       "      <td>-73.939540</td>\n",
       "    </tr>\n",
       "    <tr>\n",
       "      <th>max</th>\n",
       "      <td>3.648724e+07</td>\n",
       "      <td>2.741034e+08</td>\n",
       "      <td>5250.000000</td>\n",
       "      <td>0.0</td>\n",
       "      <td>2018-10-17 00:00:00</td>\n",
       "      <td>NaN</td>\n",
       "      <td>365.000000</td>\n",
       "      <td>NaN</td>\n",
       "      <td>NaN</td>\n",
       "      <td>NaN</td>\n",
       "      <td>2018-10-17 00:00:00</td>\n",
       "      <td>40.911690</td>\n",
       "      <td>-73.727310</td>\n",
       "    </tr>\n",
       "    <tr>\n",
       "      <th>std</th>\n",
       "      <td>1.123730e+07</td>\n",
       "      <td>8.663163e+07</td>\n",
       "      <td>316.186639</td>\n",
       "      <td>0.0</td>\n",
       "      <td>NaN</td>\n",
       "      <td>NaN</td>\n",
       "      <td>138.266525</td>\n",
       "      <td>NaN</td>\n",
       "      <td>NaN</td>\n",
       "      <td>NaN</td>\n",
       "      <td>NaN</td>\n",
       "      <td>0.051168</td>\n",
       "      <td>0.041065</td>\n",
       "    </tr>\n",
       "  </tbody>\n",
       "</table>\n",
       "</div>"
      ],
      "text/plain": [
       "         listing_id       host_id        price  number_of_reviews  \\\n",
       "count  2.075000e+03  2.075000e+03  2028.000000             2075.0   \n",
       "mean   2.274238e+07  8.022455e+07   191.553748                0.0   \n",
       "min    6.358800e+04  1.475100e+04     0.000000                0.0   \n",
       "25%    1.232923e+07  1.224305e+07    70.000000                0.0   \n",
       "50%    2.345182e+07  4.040116e+07   120.000000                0.0   \n",
       "75%    3.400364e+07  1.333498e+08   205.250000                0.0   \n",
       "max    3.648724e+07  2.741034e+08  5250.000000                0.0   \n",
       "std    1.123730e+07  8.663163e+07   316.186639                0.0   \n",
       "\n",
       "                         last_review  reviews_per_month  availability_365  \\\n",
       "count                           2075                0.0       2075.000000   \n",
       "mean   2018-06-08 17:01:31.951807232                NaN        104.531566   \n",
       "min              2018-02-03 00:00:00                NaN          0.000000   \n",
       "25%              2018-04-05 00:00:00                NaN          0.000000   \n",
       "50%              2018-06-05 00:00:00                NaN          7.000000   \n",
       "75%              2018-08-13 00:00:00                NaN        211.000000   \n",
       "max              2018-10-17 00:00:00                NaN        365.000000   \n",
       "std                              NaN                NaN        138.266525   \n",
       "\n",
       "       rating  number_of_stays  5_stars                  listing_added  \\\n",
       "count     0.0              0.0      0.0                           2075   \n",
       "mean      NaN              NaN      NaN  2018-06-08 17:01:31.951807232   \n",
       "min       NaN              NaN      NaN            2018-02-03 00:00:00   \n",
       "25%       NaN              NaN      NaN            2018-04-05 00:00:00   \n",
       "50%       NaN              NaN      NaN            2018-06-05 00:00:00   \n",
       "75%       NaN              NaN      NaN            2018-08-13 00:00:00   \n",
       "max       NaN              NaN      NaN            2018-10-17 00:00:00   \n",
       "std       NaN              NaN      NaN                            NaN   \n",
       "\n",
       "          latitude   longtitude  \n",
       "count  2075.000000  2075.000000  \n",
       "mean     40.732074   -73.956771  \n",
       "min      40.527000   -74.209410  \n",
       "25%      40.697845   -73.985185  \n",
       "50%      40.727790   -73.960940  \n",
       "75%      40.763480   -73.939540  \n",
       "max      40.911690   -73.727310  \n",
       "std       0.051168     0.041065  "
      ]
     },
     "execution_count": 179,
     "metadata": {},
     "output_type": "execute_result"
    }
   ],
   "source": [
    "# Understand DataFrame with missing values in rating, number_of_stays, 5_stars, reviews_per_month\n",
    "airbnb[airbnb['rating'].isna()].describe()"
   ]
  },
  {
   "cell_type": "markdown",
   "metadata": {},
   "source": [
    "Looking at the missing data in the DataFrame - we can see that `number_of_reviews` across all missing rows is 0. We can infer that these listings have never been visited - hence could be inferred they're inactive/have never been visited.\n",
    "\n",
    "We can impute them as following:\n",
    "\n",
    "- Set `NaN` for `reviews_per_month`, `number_of_stays`, `5_stars` to 0.\n",
    "- Since a `rating` did not happen, let's keep the column as is - but create a new column named `rated` that takes in `1` if yes, `0` if no.\n",
    "- We will also leave `last_review` as is.\n",
    "\n",
    "**Hint:** You can use a dictionary like `{'reviews_per_month': 0, 'number_of_stays': 0, '5_stars': 0}` with the `fillna` function to fill missing values in specific columns.\n"
   ]
  },
  {
   "cell_type": "code",
   "execution_count": 180,
   "metadata": {
    "colab": {},
    "colab_type": "code",
    "id": "tuRNdMvungIq"
   },
   "outputs": [
    {
     "data": {
      "text/plain": [
       "israted\n",
       "True     7941\n",
       "False    2075\n",
       "Name: count, dtype: int64"
      ]
     },
     "execution_count": 180,
     "metadata": {},
     "output_type": "execute_result"
    }
   ],
   "source": [
    "# Impute missing data\n",
    "matching = {'reviews_per_month': 0, 'number_of_stays': 0, '5_stars': 0}\n",
    "airbnb.fillna(matching, inplace=True)\n",
    "airbnb.isna().sum()\n",
    "# Create is_rated column\n",
    "airbnb['israted'] = airbnb['5_stars'] != 0 \n",
    "airbnb['israted'].value_counts()"
   ]
  },
  {
   "cell_type": "markdown",
   "metadata": {
    "colab_type": "text",
    "id": "lsPP28Xzg9_z"
   },
   "source": [
    "**Treating the** `price` **column**"
   ]
  },
  {
   "cell_type": "code",
   "execution_count": 181,
   "metadata": {
    "colab": {},
    "colab_type": "code",
    "id": "lLJJG-SmYLh7"
   },
   "outputs": [
    {
     "data": {
      "text/plain": [
       "238"
      ]
     },
     "execution_count": 181,
     "metadata": {},
     "output_type": "execute_result"
    }
   ],
   "source": [
    "# Investigate DataFrame with missing values in price\n",
    "airbnb['price'].isna().sum()"
   ]
  },
  {
   "cell_type": "markdown",
   "metadata": {
    "colab_type": "text",
    "id": "qxAJtTZ4hEtv"
   },
   "source": [
    "From a common sense perspective, the most predictive factor for a room's price is the `room_type` column, so let's visualize how price varies by room type with `sns.boxplot()` which displays the following information:\n",
    "\n",
    "\n",
    "<p align=\"center\">\n",
    "<img src=\"boxplot.png\" alt = \"DataCamp icon\" width=\"80%\">\n",
    "</p>\n",
    "\n",
    "\n"
   ]
  },
  {
   "cell_type": "code",
   "execution_count": 182,
   "metadata": {
    "colab": {},
    "colab_type": "code",
    "id": "CdHj-mMDtgRE"
   },
   "outputs": [
    {
     "data": {
      "image/png": "[encoded data removed]",
      "text/plain": [
       "<Figure size 640x480 with 1 Axes>"
      ]
     },
     "metadata": {},
     "output_type": "display_data"
    }
   ],
   "source": [
    "# Visualize relationship between price and room_type\n",
    "sns.boxplot(x = 'room_type', y = 'price', data = airbnb)\n",
    "plt.ylim(0, 400)\n",
    "plt.xlabel('Room Type')\n",
    "plt.ylabel('Price')\n",
    "plt.show()\n"
   ]
  },
  {
   "cell_type": "code",
   "execution_count": 183,
   "metadata": {
    "colab": {},
    "colab_type": "code",
    "id": "GzAmpxWzsqRb"
   },
   "outputs": [
    {
     "data": {
      "text/plain": [
       "room_type\n",
       "Entire home/apt    163.0\n",
       "Private room        70.0\n",
       "Shared room         50.0\n",
       "Name: price, dtype: float64"
      ]
     },
     "execution_count": 183,
     "metadata": {},
     "output_type": "execute_result"
    }
   ],
   "source": [
    "# Get median price per room_type\n",
    "airbnb.groupby(['room_type'])['price'].median()"
   ]
  },
  {
   "cell_type": "code",
   "execution_count": 184,
   "metadata": {
    "colab": {},
    "colab_type": "code",
    "id": "AmaKYXPRypq7"
   },
   "outputs": [],
   "source": [
    "# Impute price based on conditions\n",
    "airbnb['price'].fillna(airbnb[\"price\"].median(), inplace=True)"
   ]
  },
  {
   "cell_type": "code",
   "execution_count": 185,
   "metadata": {
    "colab": {},
    "colab_type": "code",
    "id": "bTJafaijzDkc"
   },
   "outputs": [
    {
     "data": {
      "text/plain": [
       "0"
      ]
     },
     "execution_count": 185,
     "metadata": {},
     "output_type": "execute_result"
    }
   ],
   "source": [
    "# Confirm price has been imputed\n",
    "airbnb['price'].isna().sum()"
   ]
  },
  {
   "cell_type": "markdown",
   "metadata": {
    "colab_type": "text",
    "id": "VnxYYabO0Bdt"
   },
   "source": [
    "### What's still to be done?"
   ]
  },
  {
   "cell_type": "markdown",
   "metadata": {
    "colab_type": "text",
    "id": "q2cyXCxk0VP3"
   },
   "source": [
    "Albeit we've done a significant amount of data cleaning tasks, there are still a couple of problems we have yet to diagnose. When cleaning data, we need to consider:\n",
    "\n",
    "- Values that do not make any sense *(for example: are there values of `last_review` that older than `listing_added`? Are there listings in the future?*)\n",
    "- Presence of duplicates values - and how to deal with them?"
   ]
  },
  {
   "cell_type": "markdown",
   "metadata": {
    "colab_type": "text",
    "id": "KGpasg3L6Je4"
   },
   "source": [
    "##### **Task 8:** Do we have consistent date data?"
   ]
  },
  {
   "cell_type": "code",
   "execution_count": 186,
   "metadata": {
    "colab": {},
    "colab_type": "code",
    "id": "jT_hz8Dj0EhB"
   },
   "outputs": [
    {
     "data": {
      "text/plain": [
       "False    10016\n",
       "Name: count, dtype: int64"
      ]
     },
     "execution_count": 186,
     "metadata": {},
     "output_type": "execute_result"
    }
   ],
   "source": [
    "# Doing some sanity checks on date data\n",
    "pd.Series(airbnb['last_review'] < airbnb['listing_added']).value_counts()"
   ]
  },
  {
   "cell_type": "code",
   "execution_count": 187,
   "metadata": {
    "colab": {},
    "colab_type": "code",
    "id": "pUKi4Dbi27Zb"
   },
   "outputs": [
    {
     "ename": "ValueError",
     "evalue": "Can only compare identically-labeled Series objects",
     "output_type": "error",
     "traceback": [
      "\u001b[0;31m---------------------------------------------------------------------------\u001b[0m",
      "\u001b[0;31mValueError\u001b[0m                                Traceback (most recent call last)",
      "Cell \u001b[0;32mIn[187], line 3\u001b[0m\n\u001b[1;32m      1\u001b[0m \u001b[38;5;28;01mfrom\u001b[39;00m \u001b[38;5;21;01mdatetime\u001b[39;00m \u001b[38;5;28;01mimport\u001b[39;00m date\n\u001b[1;32m      2\u001b[0m \u001b[38;5;66;03m# Are there reviews in the future?\u001b[39;00m\n\u001b[0;32m----> 3\u001b[0m airbnb[\u001b[38;5;124m'\u001b[39m\u001b[38;5;124mlisting_added\u001b[39m\u001b[38;5;124m'\u001b[39m] \u001b[38;5;241m>\u001b[39m pd\u001b[38;5;241m.\u001b[39mSeries(date\u001b[38;5;241m.\u001b[39mtoday)\n",
      "File \u001b[0;32m~/anaconda3/lib/python3.11/site-packages/pandas/core/ops/common.py:76\u001b[0m, in \u001b[0;36m_unpack_zerodim_and_defer.<locals>.new_method\u001b[0;34m(self, other)\u001b[0m\n\u001b[1;32m     72\u001b[0m             \u001b[38;5;28;01mreturn\u001b[39;00m \u001b[38;5;28mNotImplemented\u001b[39m\n\u001b[1;32m     74\u001b[0m other \u001b[38;5;241m=\u001b[39m item_from_zerodim(other)\n\u001b[0;32m---> 76\u001b[0m \u001b[38;5;28;01mreturn\u001b[39;00m method(\u001b[38;5;28mself\u001b[39m, other)\n",
      "File \u001b[0;32m~/anaconda3/lib/python3.11/site-packages/pandas/core/arraylike.py:56\u001b[0m, in \u001b[0;36mOpsMixin.__gt__\u001b[0;34m(self, other)\u001b[0m\n\u001b[1;32m     54\u001b[0m \u001b[38;5;129m@unpack_zerodim_and_defer\u001b[39m(\u001b[38;5;124m\"\u001b[39m\u001b[38;5;124m__gt__\u001b[39m\u001b[38;5;124m\"\u001b[39m)\n\u001b[1;32m     55\u001b[0m \u001b[38;5;28;01mdef\u001b[39;00m \u001b[38;5;21m__gt__\u001b[39m(\u001b[38;5;28mself\u001b[39m, other):\n\u001b[0;32m---> 56\u001b[0m     \u001b[38;5;28;01mreturn\u001b[39;00m \u001b[38;5;28mself\u001b[39m\u001b[38;5;241m.\u001b[39m_cmp_method(other, operator\u001b[38;5;241m.\u001b[39mgt)\n",
      "File \u001b[0;32m~/anaconda3/lib/python3.11/site-packages/pandas/core/series.py:5798\u001b[0m, in \u001b[0;36mSeries._cmp_method\u001b[0;34m(self, other, op)\u001b[0m\n\u001b[1;32m   5795\u001b[0m res_name \u001b[38;5;241m=\u001b[39m ops\u001b[38;5;241m.\u001b[39mget_op_result_name(\u001b[38;5;28mself\u001b[39m, other)\n\u001b[1;32m   5797\u001b[0m \u001b[38;5;28;01mif\u001b[39;00m \u001b[38;5;28misinstance\u001b[39m(other, Series) \u001b[38;5;129;01mand\u001b[39;00m \u001b[38;5;129;01mnot\u001b[39;00m \u001b[38;5;28mself\u001b[39m\u001b[38;5;241m.\u001b[39m_indexed_same(other):\n\u001b[0;32m-> 5798\u001b[0m     \u001b[38;5;28;01mraise\u001b[39;00m \u001b[38;5;167;01mValueError\u001b[39;00m(\u001b[38;5;124m\"\u001b[39m\u001b[38;5;124mCan only compare identically-labeled Series objects\u001b[39m\u001b[38;5;124m\"\u001b[39m)\n\u001b[1;32m   5800\u001b[0m lvalues \u001b[38;5;241m=\u001b[39m \u001b[38;5;28mself\u001b[39m\u001b[38;5;241m.\u001b[39m_values\n\u001b[1;32m   5801\u001b[0m rvalues \u001b[38;5;241m=\u001b[39m extract_array(other, extract_numpy\u001b[38;5;241m=\u001b[39m\u001b[38;5;28;01mTrue\u001b[39;00m, extract_range\u001b[38;5;241m=\u001b[39m\u001b[38;5;28;01mTrue\u001b[39;00m)\n",
      "\u001b[0;31mValueError\u001b[0m: Can only compare identically-labeled Series objects"
     ]
    }
   ],
   "source": [
    "from datetime import date\n",
    "# Are there reviews in the future?\n",
    "airbnb['listing_added'] > pd.Series(date.today)"
   ]
  },
  {
   "cell_type": "code",
   "execution_count": 52,
   "metadata": {
    "colab": {},
    "colab_type": "code",
    "id": "dZO_yoOZ2-jf"
   },
   "outputs": [],
   "source": [
    "# Are there listings in the future?\n"
   ]
  },
  {
   "cell_type": "code",
   "execution_count": 53,
   "metadata": {
    "colab": {},
    "colab_type": "code",
    "id": "3xJUlJFm3cmc"
   },
   "outputs": [],
   "source": [
    "# Drop these rows since they are only 4 rows\n"
   ]
  },
  {
   "cell_type": "code",
   "execution_count": 86,
   "metadata": {
    "colab": {},
    "colab_type": "code",
    "id": "BvqMxmux4e_Q"
   },
   "outputs": [
    {
     "data": {
      "text/plain": [
       "0"
      ]
     },
     "execution_count": 86,
     "metadata": {},
     "output_type": "execute_result"
    }
   ],
   "source": [
    "# Are there any listings with listing_added > last_review\n",
    "(airbnb['listing_added'] > airbnb['last_review']).sum()"
   ]
  },
  {
   "cell_type": "code",
   "execution_count": 55,
   "metadata": {
    "colab": {},
    "colab_type": "code",
    "id": "cCziTT7T4xbT"
   },
   "outputs": [],
   "source": [
    "# Drop these rows since they are only 2 rows\n"
   ]
  },
  {
   "cell_type": "markdown",
   "metadata": {
    "colab_type": "text",
    "id": "JD1ChXPF6BR7"
   },
   "source": [
    "##### **Task 9:** Let's deal with duplicate data"
   ]
  },
  {
   "cell_type": "markdown",
   "metadata": {
    "colab_type": "text",
    "id": "hz9oQHyt8KmO"
   },
   "source": [
    "\n",
    "There are two notable types of duplicate data:\n",
    "\n",
    "- Identical duplicate data across all columns\n",
    "- Identical duplicate data cross most or some columns\n",
    "\n",
    "To diagnose, and deal with duplicate data, we will be using the following methods and functions:\n",
    "\n",
    "- `.duplicated(subset = , keep = )`\n",
    "  - `subset` lets us pick one or more columns with duplicate values.\n",
    "  - `keep` returns lets us return all instances of duplicate values.\n",
    "- `.drop_duplicates(subset = , keep = )`\n",
    "  "
   ]
  },
  {
   "cell_type": "code",
   "execution_count": 79,
   "metadata": {
    "colab": {},
    "colab_type": "code",
    "id": "_m3Gdg7x6ATJ"
   },
   "outputs": [
    {
     "data": {
      "text/html": [
       "<div>\n",
       "<style scoped>\n",
       "    .dataframe tbody tr th:only-of-type {\n",
       "        vertical-align: middle;\n",
       "    }\n",
       "\n",
       "    .dataframe tbody tr th {\n",
       "        vertical-align: top;\n",
       "    }\n",
       "\n",
       "    .dataframe thead th {\n",
       "        text-align: right;\n",
       "    }\n",
       "</style>\n",
       "<table border=\"1\" class=\"dataframe\">\n",
       "  <thead>\n",
       "    <tr style=\"text-align: right;\">\n",
       "      <th></th>\n",
       "      <th>listing_id</th>\n",
       "      <th>name</th>\n",
       "      <th>host_id</th>\n",
       "      <th>host_name</th>\n",
       "      <th>neighbourhood_full</th>\n",
       "      <th>room_type</th>\n",
       "      <th>price</th>\n",
       "      <th>number_of_reviews</th>\n",
       "      <th>last_review</th>\n",
       "      <th>reviews_per_month</th>\n",
       "      <th>availability_365</th>\n",
       "      <th>rating</th>\n",
       "      <th>number_of_stays</th>\n",
       "      <th>5_stars</th>\n",
       "      <th>listing_added</th>\n",
       "      <th>latitude</th>\n",
       "      <th>longtitude</th>\n",
       "      <th>borough</th>\n",
       "      <th>neighbourhood</th>\n",
       "      <th>israted</th>\n",
       "    </tr>\n",
       "  </thead>\n",
       "  <tbody>\n",
       "    <tr>\n",
       "      <th>0</th>\n",
       "      <td>13740704</td>\n",
       "      <td>Cozy,budget friendly, cable inc, private entra...</td>\n",
       "      <td>20583125</td>\n",
       "      <td>Michel</td>\n",
       "      <td>Brooklyn, Flatlands</td>\n",
       "      <td>Private room</td>\n",
       "      <td>45.0</td>\n",
       "      <td>10</td>\n",
       "      <td>2018-06-08</td>\n",
       "      <td>0.70</td>\n",
       "      <td>85</td>\n",
       "      <td>4.100954</td>\n",
       "      <td>12.0</td>\n",
       "      <td>0.609432</td>\n",
       "      <td>2018-06-08</td>\n",
       "      <td>40.63222</td>\n",
       "      <td>-73.93398</td>\n",
       "      <td>Brooklyn</td>\n",
       "      <td>Flatlands</td>\n",
       "      <td>True</td>\n",
       "    </tr>\n",
       "    <tr>\n",
       "      <th>1</th>\n",
       "      <td>22005115</td>\n",
       "      <td>Two floor apartment near Central Park</td>\n",
       "      <td>82746113</td>\n",
       "      <td>Cecilia</td>\n",
       "      <td>Manhattan, Upper West Side</td>\n",
       "      <td>Entire home/apt</td>\n",
       "      <td>135.0</td>\n",
       "      <td>1</td>\n",
       "      <td>2018-12-25</td>\n",
       "      <td>1.00</td>\n",
       "      <td>145</td>\n",
       "      <td>3.367600</td>\n",
       "      <td>1.2</td>\n",
       "      <td>0.746135</td>\n",
       "      <td>2018-12-25</td>\n",
       "      <td>40.78761</td>\n",
       "      <td>-73.96862</td>\n",
       "      <td>Manhattan</td>\n",
       "      <td>Upper West Side</td>\n",
       "      <td>True</td>\n",
       "    </tr>\n",
       "    <tr>\n",
       "      <th>2</th>\n",
       "      <td>21667615</td>\n",
       "      <td>Beautiful 1BR in Brooklyn Heights</td>\n",
       "      <td>78251</td>\n",
       "      <td>Leslie</td>\n",
       "      <td>Brooklyn, Brooklyn Heights</td>\n",
       "      <td>Entire home/apt</td>\n",
       "      <td>150.0</td>\n",
       "      <td>0</td>\n",
       "      <td>2018-08-15</td>\n",
       "      <td>0.00</td>\n",
       "      <td>65</td>\n",
       "      <td>NaN</td>\n",
       "      <td>0.0</td>\n",
       "      <td>0.000000</td>\n",
       "      <td>2018-08-15</td>\n",
       "      <td>40.70070</td>\n",
       "      <td>-73.99517</td>\n",
       "      <td>Brooklyn</td>\n",
       "      <td>Brooklyn Heights</td>\n",
       "      <td>False</td>\n",
       "    </tr>\n",
       "    <tr>\n",
       "      <th>3</th>\n",
       "      <td>6425850</td>\n",
       "      <td>Spacious, charming studio</td>\n",
       "      <td>32715865</td>\n",
       "      <td>Yelena</td>\n",
       "      <td>Manhattan, Upper West Side</td>\n",
       "      <td>Entire home/apt</td>\n",
       "      <td>86.0</td>\n",
       "      <td>5</td>\n",
       "      <td>2017-03-20</td>\n",
       "      <td>0.13</td>\n",
       "      <td>0</td>\n",
       "      <td>4.763203</td>\n",
       "      <td>6.0</td>\n",
       "      <td>0.769947</td>\n",
       "      <td>2017-03-20</td>\n",
       "      <td>40.79169</td>\n",
       "      <td>-73.97498</td>\n",
       "      <td>Manhattan</td>\n",
       "      <td>Upper West Side</td>\n",
       "      <td>True</td>\n",
       "    </tr>\n",
       "    <tr>\n",
       "      <th>4</th>\n",
       "      <td>22986519</td>\n",
       "      <td>Bedroom on the lively Lower East Side</td>\n",
       "      <td>154262349</td>\n",
       "      <td>Brooke</td>\n",
       "      <td>Manhattan, Lower East Side</td>\n",
       "      <td>Private room</td>\n",
       "      <td>160.0</td>\n",
       "      <td>23</td>\n",
       "      <td>2020-10-23</td>\n",
       "      <td>2.29</td>\n",
       "      <td>102</td>\n",
       "      <td>3.822591</td>\n",
       "      <td>27.6</td>\n",
       "      <td>0.649383</td>\n",
       "      <td>2020-10-23</td>\n",
       "      <td>40.71884</td>\n",
       "      <td>-73.98354</td>\n",
       "      <td>Manhattan</td>\n",
       "      <td>Lower East Side</td>\n",
       "      <td>True</td>\n",
       "    </tr>\n",
       "  </tbody>\n",
       "</table>\n",
       "</div>"
      ],
      "text/plain": [
       "   listing_id                                               name    host_id  \\\n",
       "0    13740704  Cozy,budget friendly, cable inc, private entra...   20583125   \n",
       "1    22005115              Two floor apartment near Central Park   82746113   \n",
       "2    21667615                  Beautiful 1BR in Brooklyn Heights      78251   \n",
       "3     6425850                          Spacious, charming studio   32715865   \n",
       "4    22986519              Bedroom on the lively Lower East Side  154262349   \n",
       "\n",
       "  host_name          neighbourhood_full        room_type  price  \\\n",
       "0    Michel         Brooklyn, Flatlands     Private room   45.0   \n",
       "1   Cecilia  Manhattan, Upper West Side  Entire home/apt  135.0   \n",
       "2    Leslie  Brooklyn, Brooklyn Heights  Entire home/apt  150.0   \n",
       "3    Yelena  Manhattan, Upper West Side  Entire home/apt   86.0   \n",
       "4    Brooke  Manhattan, Lower East Side     Private room  160.0   \n",
       "\n",
       "   number_of_reviews last_review  reviews_per_month  availability_365  \\\n",
       "0                 10  2018-06-08               0.70                85   \n",
       "1                  1  2018-12-25               1.00               145   \n",
       "2                  0  2018-08-15               0.00                65   \n",
       "3                  5  2017-03-20               0.13                 0   \n",
       "4                 23  2020-10-23               2.29               102   \n",
       "\n",
       "     rating  number_of_stays   5_stars listing_added  latitude  longtitude  \\\n",
       "0  4.100954             12.0  0.609432    2018-06-08  40.63222   -73.93398   \n",
       "1  3.367600              1.2  0.746135    2018-12-25  40.78761   -73.96862   \n",
       "2       NaN              0.0  0.000000    2018-08-15  40.70070   -73.99517   \n",
       "3  4.763203              6.0  0.769947    2017-03-20  40.79169   -73.97498   \n",
       "4  3.822591             27.6  0.649383    2020-10-23  40.71884   -73.98354   \n",
       "\n",
       "     borough     neighbourhood  israted  \n",
       "0   Brooklyn         Flatlands     True  \n",
       "1  Manhattan   Upper West Side     True  \n",
       "2   Brooklyn  Brooklyn Heights    False  \n",
       "3  Manhattan   Upper West Side     True  \n",
       "4  Manhattan   Lower East Side     True  "
      ]
     },
     "execution_count": 79,
     "metadata": {},
     "output_type": "execute_result"
    }
   ],
   "source": [
    "# Print the header of the DataFrame again\n",
    "airbnb.head()"
   ]
  },
  {
   "cell_type": "code",
   "execution_count": 80,
   "metadata": {
    "colab": {},
    "colab_type": "code",
    "id": "EzT8q3SCIW7w"
   },
   "outputs": [
    {
     "data": {
      "text/plain": [
       "13"
      ]
     },
     "execution_count": 80,
     "metadata": {},
     "output_type": "execute_result"
    }
   ],
   "source": [
    "# Find duplicates\n",
    "airbnb.duplicated().sum()"
   ]
  },
  {
   "cell_type": "code",
   "execution_count": 83,
   "metadata": {
    "colab": {},
    "colab_type": "code",
    "id": "uSXEpMFlJCJc"
   },
   "outputs": [
    {
     "data": {
      "text/plain": [
       "0"
      ]
     },
     "execution_count": 83,
     "metadata": {},
     "output_type": "execute_result"
    }
   ],
   "source": [
    "# Remove identical duplicates\n",
    "airbnb.drop_duplicates(inplace=True)\n",
    "airbnb.duplicated().sum()"
   ]
  },
  {
   "cell_type": "code",
   "execution_count": 60,
   "metadata": {
    "colab": {},
    "colab_type": "code",
    "id": "nYf1M1cNKIIN"
   },
   "outputs": [],
   "source": [
    "# Find non-identical duplicates\n"
   ]
  },
  {
   "cell_type": "code",
   "execution_count": 61,
   "metadata": {
    "colab": {},
    "colab_type": "code",
    "id": "wiN1SBw8Kizr"
   },
   "outputs": [],
   "source": [
    "# Show all duplicates\n"
   ]
  },
  {
   "cell_type": "markdown",
   "metadata": {
    "colab_type": "text",
    "id": "E6_O2EYkcGoF"
   },
   "source": [
    "To treat identical duplicates across some columns, we will chain the `.groupby()` and `.agg()` methods where we group by the column used to find duplicates (`listing_id`) and aggregate across statistical measures for `price`, `rating` and `list_added`. The `.agg()` method takes in a dictionary with each column's aggregation method - we will use the following aggregations:\n",
    "\n",
    "- `mean` for `price` and `rating` columns\n",
    "- `max` for `listing_added` column\n",
    "- `first` for all remaining column\n",
    "\n",
    "*A note on dictionary comprehensions:*\n",
    "\n",
    "Dictionaries are useful data structures in Python with the following format\n",
    "`my_dictionary = {key: value}` where a `key` is mapped to a `value` and whose `value` can be returned with `my_dictionary[key]` - dictionary comprehensions allow us to programmatically create dicitonaries using the structure:\n",
    "\n",
    "```\n",
    "{x: x*2 for x in [1,2,3,4,5]} \n",
    "{1:2, 2:4, 3:6, 4:8, 5:10}\n",
    "```"
   ]
  },
  {
   "cell_type": "code",
   "execution_count": 62,
   "metadata": {
    "colab": {},
    "colab_type": "code",
    "id": "v7l82ErIqO1-"
   },
   "outputs": [],
   "source": [
    "# Get column names from airbnb\n",
    "\n"
   ]
  },
  {
   "cell_type": "code",
   "execution_count": 63,
   "metadata": {
    "colab": {},
    "colab_type": "code",
    "id": "CxCJ3xPbKmJg"
   },
   "outputs": [],
   "source": [
    "# Create dictionary comprehension with 'first' as value for all columns not being aggregated\n",
    "\n",
    "\n",
    "\n",
    "\n"
   ]
  },
  {
   "cell_type": "code",
   "execution_count": 64,
   "metadata": {
    "colab": {},
    "colab_type": "code",
    "id": "jaS5j-KsRUD-"
   },
   "outputs": [],
   "source": [
    "# Remove non-identical duplicates\n"
   ]
  },
  {
   "cell_type": "code",
   "execution_count": 65,
   "metadata": {
    "colab": {},
    "colab_type": "code",
    "id": "q93L6waFWpTq"
   },
   "outputs": [],
   "source": [
    "# Make sure no duplication happened\n"
   ]
  },
  {
   "cell_type": "code",
   "execution_count": 66,
   "metadata": {
    "colab": {},
    "colab_type": "code",
    "id": "ZmIRBaZgW4q2"
   },
   "outputs": [],
   "source": [
    "# Print header of DataFrame\n"
   ]
  },
  {
   "cell_type": "markdown",
   "metadata": {
    "colab_type": "text",
    "id": "nR5oNXyd0vkx"
   },
   "source": [
    "## **Q&A**"
   ]
  },
  {
   "cell_type": "markdown",
   "metadata": {
    "colab_type": "text",
    "id": "zaF7ZDbzA6P7"
   },
   "source": [
    "### Take home question\n",
    "\n",
    "Try to answer the following questions about the dataset:\n",
    "\n",
    "- What is the average price of listings by borough? Visualize your results with a bar plot!\n",
    "- What is the average availability in days of listings by borough? Visualize your results with a bar plot!\n",
    "- What is the median price per room type in each borough? Visualize your results with a bar plot!\n",
    "- Visualize the number of listings over time.\n",
    "\n",
    "**Functions that should/could be used:**\n",
    "- `.groupby()` and `.agg(})`\n",
    "- `sns.barplot(x = , y = , hue = , data = )`\n",
    "- `sns.lineplot(x = , y = , data = )`\n",
    "- `.dt.strftime()` for extracting specific dates from a `datetime` column\n"
   ]
  }
 ],
 "metadata": {
  "colab": {
   "name": "Cleaning Data in Python live_students.ipynb",
   "provenance": []
  },
  "kernelspec": {
   "display_name": "base",
   "language": "python",
   "name": "python3"
  },
  "language_info": {
   "codemirror_mode": {
    "name": "ipython",
    "version": 3
   },
   "file_extension": ".py",
   "mimetype": "text/x-python",
   "name": "python",
   "nbconvert_exporter": "python",
   "pygments_lexer": "ipython3",
   "version": "3.11.8"
  }
 },
 "nbformat": 4,
 "nbformat_minor": 4
}
