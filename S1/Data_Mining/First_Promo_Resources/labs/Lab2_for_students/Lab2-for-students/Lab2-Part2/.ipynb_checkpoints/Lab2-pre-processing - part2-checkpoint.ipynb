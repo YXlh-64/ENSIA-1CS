{
 "cells": [
  {
   "cell_type": "markdown",
   "metadata": {
    "colab_type": "text",
    "id": "6Ijg5wUCTQYG"
   },
   "source": [
    "# LAB 2 : Data Preprocessing and cleaning Part 2 \n",
    "\n",
    "<font color=\"red\"> **<strong>In this lab, your task is to carefully review all instructions and fill the empty codd cells with the necessary code to ensure everything functions correctly.</strong>**</font>\n",
    "\n",
    "The majority of data science work often revolves around pre-processing data, and making sure it's ready for analysis. In this session, we will be covering how transform our raw data into accurate insights. In this notebook, you will learn:\n",
    "\n",
    "* Import data into `pandas`, and use simple functions to diagnose problems in our data.\n",
    "* Visualize missing and out of range data using `missingno` and `seaborn`.\n",
    "* Apply a range of data cleaning tasks that will ensure the delivery of accurate insights.\n",
    "\n",
    "## **The Dataset**\n",
    "\n",
    "The dataset to be used in this webinar is a CSV file named `airbnb.csv`, which contains data on airbnb listings in the state of New York. It contains the following columns:\n",
    "\n",
    "- `listing_id`: The unique identifier for a listing\n",
    "- `description`: The description used on the listing\n",
    "- `host_id`: Unique identifier for a host\n",
    "- `host_name`: Name of host\n",
    "- `neighbourhood_full`: Name of boroughs and neighbourhoods\n",
    "- `coordinates`: Coordinates of listing _(latitude, longitude)_\n",
    "- `Listing added`: Date of added listing\n",
    "- `room_type`: Type of room \n",
    "- `rating`: Rating from 0 to 5.\n",
    "- `price`: Price per night for listing\n",
    "- `number_of_reviews`: Amount of reviews received \n",
    "- `last_review`: Date of last review\n",
    "- `reviews_per_month`: Number of reviews per month\n",
    "- `availability_365`: Number of days available per year\n",
    "- `Number of stays`: Total number of stays thus far\n"
   ]
  },
  {
   "cell_type": "markdown",
   "metadata": {
    "colab_type": "text",
    "id": "BMYfcKeDY85K"
   },
   "source": [
    "## **Getting started**"
   ]
  },
  {
   "cell_type": "code",
   "execution_count": 1,
   "metadata": {
    "colab": {},
    "colab_type": "code",
    "id": "EMQfyC7GUNhT"
   },
   "outputs": [],
   "source": [
    "# Import libraries\n",
    "import pandas as pd\n",
    "import matplotlib.pyplot as plt\n",
    "import numpy as np\n",
    "import seaborn as sns\n",
    "import datetime as dt\n",
    "import datetime as dt"
   ]
  },
  {
   "cell_type": "code",
   "execution_count": 2,
   "metadata": {
    "colab": {},
    "colab_type": "code",
    "id": "l8t_EwRNZPLB"
   },
   "outputs": [],
   "source": [
    "# Read in the dataset\n",
    "airbnb = pd.read_csv('https://github.com/adelnehme/python-for-spreadsheet-users-webinar/blob/master/datasets/airbnb.csv?raw=true', index_col = 'Unnamed: 0')"
   ]
  },
  {
   "cell_type": "markdown",
   "metadata": {
    "colab_type": "text",
    "id": "1ui1uvtyZwfQ"
   },
   "source": [
    "## **Diagnosing data cleaning problems using simple `pandas` and visualizations** "
   ]
  },
  {
   "cell_type": "markdown",
   "metadata": {
    "colab_type": "text",
    "id": "t3fgtos4Z6Xa"
   },
   "source": [
    "Some important and common methods needed to get a better understanding of DataFrames and diagnose potential data problems are the following: \n",
    "\n",
    "- `.head()` prints the header of a DataFrame\n",
    "- `.dtypes` prints datatypes of all columns in a DataFrame\n",
    "- `.info()` provides a bird's eye view of column data types and missing values in a DataFrame\n",
    "- `.describe()` returns a distribution of numeric columns in your DataFrame\n",
    "- `.isna().sum()` allows us to break down the number of missing values per column in our DataFrame\n",
    "- `.unique()` finds the number of unique values in a DataFrame column\n",
    "\n",
    "<br>\n",
    "\n",
    "- `sns.displot()` plots the distribution of one column in your DataFrame."
   ]
  },
  {
   "cell_type": "code",
   "execution_count": 3,
   "metadata": {
    "colab": {},
    "colab_type": "code",
    "id": "x3w1WbkFZ-ig"
   },
   "outputs": [
    {
     "data": {
      "text/html": [
       "<div>\n",
       "<style scoped>\n",
       "    .dataframe tbody tr th:only-of-type {\n",
       "        vertical-align: middle;\n",
       "    }\n",
       "\n",
       "    .dataframe tbody tr th {\n",
       "        vertical-align: top;\n",
       "    }\n",
       "\n",
       "    .dataframe thead th {\n",
       "        text-align: right;\n",
       "    }\n",
       "</style>\n",
       "<table border=\"1\" class=\"dataframe\">\n",
       "  <thead>\n",
       "    <tr style=\"text-align: right;\">\n",
       "      <th></th>\n",
       "      <th>listing_id</th>\n",
       "      <th>name</th>\n",
       "      <th>host_id</th>\n",
       "      <th>host_name</th>\n",
       "      <th>neighbourhood_full</th>\n",
       "      <th>coordinates</th>\n",
       "      <th>room_type</th>\n",
       "      <th>price</th>\n",
       "      <th>number_of_reviews</th>\n",
       "      <th>last_review</th>\n",
       "      <th>reviews_per_month</th>\n",
       "      <th>availability_365</th>\n",
       "      <th>rating</th>\n",
       "      <th>number_of_stays</th>\n",
       "      <th>5_stars</th>\n",
       "      <th>listing_added</th>\n",
       "    </tr>\n",
       "  </thead>\n",
       "  <tbody>\n",
       "    <tr>\n",
       "      <th>0</th>\n",
       "      <td>13740704</td>\n",
       "      <td>Cozy,budget friendly, cable inc, private entra...</td>\n",
       "      <td>20583125</td>\n",
       "      <td>Michel</td>\n",
       "      <td>Brooklyn, Flatlands</td>\n",
       "      <td>(40.63222, -73.93398)</td>\n",
       "      <td>Private room</td>\n",
       "      <td>45$</td>\n",
       "      <td>10</td>\n",
       "      <td>2018-12-12</td>\n",
       "      <td>0.70</td>\n",
       "      <td>85</td>\n",
       "      <td>4.100954</td>\n",
       "      <td>12.0</td>\n",
       "      <td>0.609432</td>\n",
       "      <td>2018-06-08</td>\n",
       "    </tr>\n",
       "    <tr>\n",
       "      <th>1</th>\n",
       "      <td>22005115</td>\n",
       "      <td>Two floor apartment near Central Park</td>\n",
       "      <td>82746113</td>\n",
       "      <td>Cecilia</td>\n",
       "      <td>Manhattan, Upper West Side</td>\n",
       "      <td>(40.78761, -73.96862)</td>\n",
       "      <td>Entire home/apt</td>\n",
       "      <td>135$</td>\n",
       "      <td>1</td>\n",
       "      <td>2019-06-30</td>\n",
       "      <td>1.00</td>\n",
       "      <td>145</td>\n",
       "      <td>3.367600</td>\n",
       "      <td>1.2</td>\n",
       "      <td>0.746135</td>\n",
       "      <td>2018-12-25</td>\n",
       "    </tr>\n",
       "    <tr>\n",
       "      <th>2</th>\n",
       "      <td>21667615</td>\n",
       "      <td>Beautiful 1BR in Brooklyn Heights</td>\n",
       "      <td>78251</td>\n",
       "      <td>Leslie</td>\n",
       "      <td>Brooklyn, Brooklyn Heights</td>\n",
       "      <td>(40.7007, -73.99517)</td>\n",
       "      <td>Entire home/apt</td>\n",
       "      <td>150$</td>\n",
       "      <td>0</td>\n",
       "      <td>NaN</td>\n",
       "      <td>NaN</td>\n",
       "      <td>65</td>\n",
       "      <td>NaN</td>\n",
       "      <td>NaN</td>\n",
       "      <td>NaN</td>\n",
       "      <td>2018-08-15</td>\n",
       "    </tr>\n",
       "    <tr>\n",
       "      <th>3</th>\n",
       "      <td>6425850</td>\n",
       "      <td>Spacious, charming studio</td>\n",
       "      <td>32715865</td>\n",
       "      <td>Yelena</td>\n",
       "      <td>Manhattan, Upper West Side</td>\n",
       "      <td>(40.79169, -73.97498)</td>\n",
       "      <td>Entire home/apt</td>\n",
       "      <td>86$</td>\n",
       "      <td>5</td>\n",
       "      <td>2017-09-23</td>\n",
       "      <td>0.13</td>\n",
       "      <td>0</td>\n",
       "      <td>4.763203</td>\n",
       "      <td>6.0</td>\n",
       "      <td>0.769947</td>\n",
       "      <td>2017-03-20</td>\n",
       "    </tr>\n",
       "    <tr>\n",
       "      <th>4</th>\n",
       "      <td>22986519</td>\n",
       "      <td>Bedroom on the lively Lower East Side</td>\n",
       "      <td>154262349</td>\n",
       "      <td>Brooke</td>\n",
       "      <td>Manhattan, Lower East Side</td>\n",
       "      <td>(40.71884, -73.98354)</td>\n",
       "      <td>Private room</td>\n",
       "      <td>160$</td>\n",
       "      <td>23</td>\n",
       "      <td>2019-06-12</td>\n",
       "      <td>2.29</td>\n",
       "      <td>102</td>\n",
       "      <td>3.822591</td>\n",
       "      <td>27.6</td>\n",
       "      <td>0.649383</td>\n",
       "      <td>2020-10-23</td>\n",
       "    </tr>\n",
       "  </tbody>\n",
       "</table>\n",
       "</div>"
      ],
      "text/plain": [
       "   listing_id                                               name    host_id  \\\n",
       "0    13740704  Cozy,budget friendly, cable inc, private entra...   20583125   \n",
       "1    22005115              Two floor apartment near Central Park   82746113   \n",
       "2    21667615                  Beautiful 1BR in Brooklyn Heights      78251   \n",
       "3     6425850                          Spacious, charming studio   32715865   \n",
       "4    22986519              Bedroom on the lively Lower East Side  154262349   \n",
       "\n",
       "  host_name          neighbourhood_full            coordinates  \\\n",
       "0    Michel         Brooklyn, Flatlands  (40.63222, -73.93398)   \n",
       "1   Cecilia  Manhattan, Upper West Side  (40.78761, -73.96862)   \n",
       "2    Leslie  Brooklyn, Brooklyn Heights   (40.7007, -73.99517)   \n",
       "3    Yelena  Manhattan, Upper West Side  (40.79169, -73.97498)   \n",
       "4    Brooke  Manhattan, Lower East Side  (40.71884, -73.98354)   \n",
       "\n",
       "         room_type price  number_of_reviews last_review  reviews_per_month  \\\n",
       "0     Private room   45$                 10  2018-12-12               0.70   \n",
       "1  Entire home/apt  135$                  1  2019-06-30               1.00   \n",
       "2  Entire home/apt  150$                  0         NaN                NaN   \n",
       "3  Entire home/apt   86$                  5  2017-09-23               0.13   \n",
       "4     Private room  160$                 23  2019-06-12               2.29   \n",
       "\n",
       "   availability_365    rating  number_of_stays   5_stars listing_added  \n",
       "0                85  4.100954             12.0  0.609432    2018-06-08  \n",
       "1               145  3.367600              1.2  0.746135    2018-12-25  \n",
       "2                65       NaN              NaN       NaN    2018-08-15  \n",
       "3                 0  4.763203              6.0  0.769947    2017-03-20  \n",
       "4               102  3.822591             27.6  0.649383    2020-10-23  "
      ]
     },
     "execution_count": 3,
     "metadata": {},
     "output_type": "execute_result"
    }
   ],
   "source": [
    "# Print the header of the DataFrame\n",
    "airbnb.head()"
   ]
  },
  {
   "cell_type": "markdown",
   "metadata": {},
   "source": [
    "By merely looking at the data, we can already diagnose a range of potential problems down the line such as:\n",
    "\n",
    "<br>\n",
    "\n",
    "_Data type problems:_\n",
    "\n",
    "- **Problem 1**: We can see that the `coordinates` column is probably a string (`str`) - most mapping functions require a latitude input, and longitude input, so it's best to split this column into two and convert the values to `float`.\n",
    "- **Problem 2**: Similar to `coordinates` - the `price` column also is a string with `$` attached to each price point, we need to convert that to `float` if we want a good understanding of the dataset.\n",
    "- **Problem 3**: We need to make sure date columns (`last_review` and `listing_added`) are in `datetime` to allow easier manipulation of data data.\n",
    "\n",
    "<br>\n",
    "\n",
    "_Missing data problems:_\n",
    "\n",
    "- **Problem 4**: We can see that there are missing data in some columns, we'll get a better bird's eye view of that down the line.\n",
    "\n",
    "<br>\n",
    "\n",
    "_Text/categorical data problems:_\n",
    "\n",
    "\n",
    "- **Problem 5**: To be able to visualize number of listings by boroughs - we need to separate neighborhoud name from borough name in `neighbourhood_full` column.\n",
    "- **Problem 6**: Looking at `room_type`, let's replace those values to make them `'Shared Room'`, `'Private Home/Apartment'`, `'Private Room'` and `'Hotel Room'`."
   ]
  },
  {
   "cell_type": "code",
   "execution_count": null,
   "metadata": {
    "colab": {},
    "colab_type": "code",
    "id": "SiWS3EiPakp2"
   },
   "outputs": [],
   "source": [
    "# Print data types of DataFrame\n",
    "airbnb.dtypes"
   ]
  },
  {
   "cell_type": "code",
   "execution_count": null,
   "metadata": {
    "colab": {},
    "colab_type": "code",
    "id": "KoT5LMdSiW1H"
   },
   "outputs": [],
   "source": [
    "# Print info of DataFrame\n",
    "airbnb.info()"
   ]
  },
  {
   "cell_type": "markdown",
   "metadata": {},
   "source": [
    "Printing the info confirms our hunch about the following:\n",
    "\n",
    "- There is missing data in the `price`, `last_review`, `reviews_per_month`, `rating`, `number_of_stays`, `5_stars` columns. It also seems that the missingness of `last_review`, `reviews_per_month`, `rating`, `number_of_stays`, `5_stars` are related since they have the same amount of missing data. We will confirm later with `missingno` _(**problem 4**)_."
   ]
  },
  {
   "cell_type": "code",
   "execution_count": null,
   "metadata": {
    "colab": {},
    "colab_type": "code",
    "id": "dvsinK9zexdv"
   },
   "outputs": [],
   "source": [
    "# Print number of missing values\n",
    "airbnb.isna().sum()"
   ]
  },
  {
   "cell_type": "markdown",
   "metadata": {
    "colab_type": "text",
    "id": "BLtjk34CgDdF"
   },
   "source": [
    "There are a variety of ways of dealing with missing data that is dependent on type of missingness, as well as the business assumptions behind our data - our options could be:\n",
    "\n",
    "- Dropping missing data (if the data dropped does not impact or skew our data)\n",
    "- Setting to missing and impute with statistical measures (median, mean, mode ...)\n",
    "- Imputing with more complex algorithmic/machine learning based approaches\n",
    "- Impute based on business assumptions of our data"
   ]
  },
  {
   "cell_type": "code",
   "execution_count": null,
   "metadata": {
    "colab": {},
    "colab_type": "code",
    "id": "ydyKeLnKgAHq"
   },
   "outputs": [],
   "source": [
    "# Print description of DataFrame\n",
    "airbnb.describe()"
   ]
  },
  {
   "cell_type": "markdown",
   "metadata": {},
   "source": [
    "\n",
    "\n",
    "- **Problem 7:** Looking at the maximum of the `rating` column - we see that it is out of range of `5` which is the maximum rating possible. We need to make sure we fix the range this column.\n",
    "\n",
    "It's worth noting that `.describe()` does not offer a bird's eye view of all the out of range data we have, for example, what if we have date data in the future? Or given our dataset, `listing_added` dates that are in the future of `last_review` dates?"
   ]
  },
  {
   "cell_type": "code",
   "execution_count": null,
   "metadata": {
    "colab": {},
    "colab_type": "code",
    "id": "VVJat5xZjJLX"
   },
   "outputs": [],
   "source": [
    "# Visualize the distribution of the rating column\n",
    "sns.displot(airbnb['rating'], bins=20, kde=True)\n",
    "plt.title('Distribution of listing ratings')\n",
    "plt.show()"
   ]
  },
  {
   "cell_type": "code",
   "execution_count": null,
   "metadata": {
    "colab": {},
    "colab_type": "code",
    "id": "mvJGrqxRjihF"
   },
   "outputs": [],
   "source": [
    "# Find number of unique values in room_type column\n",
    "airbnb['room_type'].value_counts()"
   ]
  },
  {
   "cell_type": "markdown",
   "metadata": {},
   "source": [
    "- **Problem 8**: There are trailing spaces and capitalization issues with `room_type`, we need to fix this problem."
   ]
  },
  {
   "cell_type": "code",
   "execution_count": null,
   "metadata": {
    "colab": {},
    "colab_type": "code",
    "id": "tZ0SBerlm2hS"
   },
   "outputs": [],
   "source": [
    "# How many values of different room_types do we have?\n",
    "'TODO'"
   ]
  },
  {
   "cell_type": "markdown",
   "metadata": {
    "colab_type": "text",
    "id": "WqwmfLp9lKjU"
   },
   "source": [
    "## **Our to do list:**\n",
    "\n",
    "_Data type problems:_\n",
    "\n",
    "- **Task 1**: Split `coordinates` into 2 columns and convert them to `float`\n",
    "- **Task 2**: Remove `$` from `price` and convert it to `float`\n",
    "- **Task 3**: Convert `listing_added` and `last_review` to `datetime`\n",
    "\n",
    "<br>\n",
    "\n",
    "_Text/categorical data problems:_\n",
    "\n",
    "- **Task 4**: We need to collapse `room_type` into correct categories\n",
    "- **Task 5**: Divide `neighbourhood_full` into 2 columns and making sure they are clean\n",
    "\n",
    "<br>\n",
    "\n",
    "_Data range problems:_\n",
    "\n",
    "- **Task 6**: Make sure we set the correct maximum for `rating` column out of range values\n",
    "\n",
    "<br>\n",
    "\n",
    "_Dealing with missing data:_\n",
    "\n",
    "- **Task 7**: Understand the type of missingness, and deal with the missing data in most of the remaining columns. \n",
    "\n",
    "<br>\n",
    "\n",
    "_Is that all though?_\n",
    "\n",
    "- We need to investigate if we duplicates in our data\n",
    "- We need to make sure that data makes sense by applying some sanity checks on our DataFrame "
   ]
  },
  {
   "cell_type": "markdown",
   "metadata": {
    "colab_type": "text",
    "id": "XxjReNRA09ef"
   },
   "source": [
    "## **Q&A**"
   ]
  },
  {
   "cell_type": "markdown",
   "metadata": {
    "colab_type": "text",
    "id": "8jp5m7QmnCsM"
   },
   "source": [
    "## **Cleaning data** "
   ]
  },
  {
   "cell_type": "markdown",
   "metadata": {
    "colab_type": "text",
    "id": "7rrd0kYCnIYE"
   },
   "source": [
    "### Data type problems"
   ]
  },
  {
   "cell_type": "code",
   "execution_count": null,
   "metadata": {
    "colab": {},
    "colab_type": "code",
    "id": "NawK3x5Tk7HF"
   },
   "outputs": [],
   "source": [
    "# Reminder of the DataFrame\n",
    "airbnb.head()"
   ]
  },
  {
   "cell_type": "markdown",
   "metadata": {
    "colab_type": "text",
    "id": "3Ev1mCwXniDv"
   },
   "source": [
    "##### **Task 1:** Replace `coordinates` with `latitude` and `longitude` columns"
   ]
  },
  {
   "cell_type": "markdown",
   "metadata": {
    "colab_type": "text",
    "id": "ijAlYOgglvzt"
   },
   "source": [
    "To perform this task, we will use the following methods:\n",
    "\n",
    "- `.str.replace(\"\",\"\")` replaces one string in each row of a column with another\n",
    "- `.str.split(\"\")` takes in a string and lets you split a column into two based on that string\n",
    "- `.astype()` lets you convert a column from one type to another"
   ]
  },
  {
   "cell_type": "code",
   "execution_count": null,
   "metadata": {
    "colab": {},
    "colab_type": "code",
    "id": "UpIxvD_onOgt"
   },
   "outputs": [],
   "source": [
    "# Remove \"(\" and \")\" from coordinates\n",
    "\n",
    "\n",
    "# Print the header of the column\n"
   ]
  },
  {
   "cell_type": "code",
   "execution_count": null,
   "metadata": {
    "colab": {},
    "colab_type": "code",
    "id": "nvEKmdRun2Md"
   },
   "outputs": [],
   "source": [
    "# Split column into two\n",
    "\n"
   ]
  },
  {
   "cell_type": "code",
   "execution_count": null,
   "metadata": {
    "colab": {},
    "colab_type": "code",
    "id": "LezCKPzfn4yf"
   },
   "outputs": [],
   "source": [
    "# Assign correct columns to latitude and longitude columns in airbnb\n",
    "\n",
    "\n",
    "# Print the header and confirm new column creation\n"
   ]
  },
  {
   "cell_type": "code",
   "execution_count": null,
   "metadata": {
    "colab": {},
    "colab_type": "code",
    "id": "toTHDWjFosXs"
   },
   "outputs": [],
   "source": [
    "# Print out dtypes again\n"
   ]
  },
  {
   "cell_type": "code",
   "execution_count": null,
   "metadata": {
    "colab": {},
    "colab_type": "code",
    "id": "8zDpaIqDoeNl"
   },
   "outputs": [],
   "source": [
    "# Convert latitude and longitude to float\n",
    "\n",
    "\n",
    "# Print dtypes again\n"
   ]
  },
  {
   "cell_type": "code",
   "execution_count": null,
   "metadata": {
    "colab": {},
    "colab_type": "code",
    "id": "aKZGhJQRo8mp"
   },
   "outputs": [],
   "source": [
    "# Drop coordinates column\n"
   ]
  },
  {
   "cell_type": "markdown",
   "metadata": {
    "colab_type": "text",
    "id": "bkgGPHpdpMEW"
   },
   "source": [
    "##### **Task 2:** Remove `$` from `price` and convert it to `float`"
   ]
  },
  {
   "cell_type": "markdown",
   "metadata": {
    "colab_type": "text",
    "id": "9jkKFojOmJy5"
   },
   "source": [
    "To perform this task, we will be using the following methods:\n",
    "\n",
    "- `.str.strip()` which removes a specified string from each row in a column\n",
    "- `.astype()`"
   ]
  },
  {
   "cell_type": "code",
   "execution_count": null,
   "metadata": {
    "colab": {},
    "colab_type": "code",
    "id": "Ya76gXP1qLtn"
   },
   "outputs": [],
   "source": [
    "# Calculate mean of price without conversion\n"
   ]
  },
  {
   "cell_type": "code",
   "execution_count": null,
   "metadata": {
    "colab": {},
    "colab_type": "code",
    "id": "gHIB5d-1pdIO"
   },
   "outputs": [],
   "source": [
    "# Remove $ from price before conversion to float\n",
    "\n",
    "# Print header to make sure change was done\n"
   ]
  },
  {
   "cell_type": "code",
   "execution_count": null,
   "metadata": {
    "colab": {},
    "colab_type": "code",
    "id": "Gz4Q2xoGp4AJ"
   },
   "outputs": [],
   "source": [
    "# Convert price to float\n",
    "\n",
    "# Calculate mean of price after conversion\n"
   ]
  },
  {
   "cell_type": "code",
   "execution_count": null,
   "metadata": {
    "colab": {},
    "colab_type": "code",
    "id": "mSLxGradqVix"
   },
   "outputs": [],
   "source": [
    "# Visualize distribution of prices\n",
    "\n"
   ]
  },
  {
   "cell_type": "markdown",
   "metadata": {
    "colab_type": "text",
    "id": "HZKW5mWvqg2Z"
   },
   "source": [
    "##### **Task 3:** Convert `listing_added` and `last_review` columns to `datetime`"
   ]
  },
  {
   "cell_type": "markdown",
   "metadata": {
    "colab_type": "text",
    "id": "9ijLZ4zwmWNS"
   },
   "source": [
    "To perform this task, we will use the following functions:\n",
    "\n",
    "- `pd.to_datetime(format = \"\")`\n",
    "  - `format` takes in the desired date format `\"%Y-%m-%d\"`"
   ]
  },
  {
   "cell_type": "code",
   "execution_count": null,
   "metadata": {
    "colab": {},
    "colab_type": "code",
    "id": "cggG5Bucqc6T"
   },
   "outputs": [],
   "source": [
    "# Print header of two columns\n"
   ]
  },
  {
   "cell_type": "code",
   "execution_count": null,
   "metadata": {
    "colab": {},
    "colab_type": "code",
    "id": "9lVyr6-Gs19z"
   },
   "outputs": [],
   "source": [
    "# Convert both columns to datetime\n",
    "\n"
   ]
  },
  {
   "cell_type": "code",
   "execution_count": null,
   "metadata": {
    "colab": {},
    "colab_type": "code",
    "id": "jlVDTYUvtG1f"
   },
   "outputs": [],
   "source": [
    "# Print header and datatypes of both columns again\n",
    "\n"
   ]
  },
  {
   "cell_type": "markdown",
   "metadata": {
    "colab_type": "text",
    "id": "SvMs1y6gucs6"
   },
   "source": [
    "### Text and categorical data problems"
   ]
  },
  {
   "cell_type": "markdown",
   "metadata": {
    "colab_type": "text",
    "id": "Z19JboeNukIS"
   },
   "source": [
    "##### **Task 4:** We need to collapse `room_type` into correct categories"
   ]
  },
  {
   "cell_type": "markdown",
   "metadata": {
    "colab_type": "text",
    "id": "85lW-8k_msaY"
   },
   "source": [
    "To perform this task, we will be using the following methods:\n",
    "\n",
    "- `.str.lower()` to lowercase all rows in a string column\n",
    "- `.str.strip()` to remove all white spaces of each row in a string column\n",
    "- `.replace()` to replace values in a column with another"
   ]
  },
  {
   "cell_type": "code",
   "execution_count": null,
   "metadata": {
    "colab": {},
    "colab_type": "code",
    "id": "hPJHPWB4tOlP"
   },
   "outputs": [],
   "source": [
    "# Print unique values of `room_type`\n"
   ]
  },
  {
   "cell_type": "code",
   "execution_count": null,
   "metadata": {
    "colab": {},
    "colab_type": "code",
    "id": "HwnSnaPEvncy"
   },
   "outputs": [],
   "source": [
    "# Deal with capitalized values\n",
    "\n"
   ]
  },
  {
   "cell_type": "code",
   "execution_count": null,
   "metadata": {
    "colab": {},
    "colab_type": "code",
    "id": "u47Ws-GtvvrC"
   },
   "outputs": [],
   "source": [
    "# Deal with trailing spaces\n",
    "\n"
   ]
  },
  {
   "cell_type": "code",
   "execution_count": null,
   "metadata": {
    "colab": {},
    "colab_type": "code",
    "id": "tYyyzZ2pwMtx"
   },
   "outputs": [],
   "source": [
    "# Replace values to 'Shared room', 'Entire place', 'Private room' and 'Hotel room' (if applicable).\n",
    "\n",
    "\n",
    "\n",
    "\n",
    "\n",
    "\n",
    "# Replace values and collapse data\n",
    "\n"
   ]
  },
  {
   "cell_type": "markdown",
   "metadata": {
    "colab_type": "text",
    "id": "VA_2KMIkxjhL"
   },
   "source": [
    "##### **Task 5:** Divide `neighbourhood_full` into 2 columns and making sure they are clean"
   ]
  },
  {
   "cell_type": "code",
   "execution_count": null,
   "metadata": {
    "colab": {},
    "colab_type": "code",
    "id": "Nc3u9b57xKOu"
   },
   "outputs": [],
   "source": [
    "# Print header of column\n"
   ]
  },
  {
   "cell_type": "code",
   "execution_count": null,
   "metadata": {
    "colab": {},
    "colab_type": "code",
    "id": "88O9T3WYxreo"
   },
   "outputs": [],
   "source": [
    "# Split neighbourhood_full\n",
    "\n"
   ]
  },
  {
   "cell_type": "code",
   "execution_count": null,
   "metadata": {
    "colab": {},
    "colab_type": "code",
    "id": "mmKhwDxkypDJ"
   },
   "outputs": [],
   "source": [
    "# Create borough and neighbourhood columns\n",
    "\n",
    "\n",
    "# Print header of columns\n"
   ]
  },
  {
   "cell_type": "code",
   "execution_count": null,
   "metadata": {
    "colab": {},
    "colab_type": "code",
    "id": "SnflzqkwzCnt"
   },
   "outputs": [],
   "source": [
    "# Drop neighbourhood_full column\n"
   ]
  },
  {
   "cell_type": "code",
   "execution_count": null,
   "metadata": {
    "colab": {},
    "colab_type": "code",
    "id": "NJqrhMlNzNxk"
   },
   "outputs": [],
   "source": [
    "# Print out unique values of borough and neighbourhood\n",
    "\n"
   ]
  },
  {
   "cell_type": "code",
   "execution_count": null,
   "metadata": {
    "colab": {},
    "colab_type": "code",
    "id": "sIC_fuLRz-en"
   },
   "outputs": [],
   "source": [
    "# Strip white space from neighbourhood column\n",
    "\n",
    "# Print unique values again\n"
   ]
  },
  {
   "cell_type": "markdown",
   "metadata": {
    "colab_type": "text",
    "id": "iFUQqbRp1lil"
   },
   "source": [
    "##### **Task 6:** Make sure we set the correct maximum for `rating` column out of range values"
   ]
  },
  {
   "cell_type": "code",
   "execution_count": null,
   "metadata": {
    "colab": {},
    "colab_type": "code",
    "id": "Bacl6XSU1zyD"
   },
   "outputs": [],
   "source": [
    "# Visualize the rating column again\n",
    "sns.displot(airbnb['rating'], bins=20, kde=True)\n",
    "plt.title('Distribution of listing ratings')\n",
    "plt.show()"
   ]
  },
  {
   "cell_type": "code",
   "execution_count": null,
   "metadata": {
    "colab": {},
    "colab_type": "code",
    "id": "toWXIeUx2C0o"
   },
   "outputs": [],
   "source": [
    "# Isolate rows of rating > 5.0\n"
   ]
  },
  {
   "cell_type": "code",
   "execution_count": null,
   "metadata": {
    "colab": {},
    "colab_type": "code",
    "id": "O6GzdjlP2JZN"
   },
   "outputs": [],
   "source": [
    "# Drop these rows and make sure we have effected changes\n"
   ]
  },
  {
   "cell_type": "code",
   "execution_count": null,
   "metadata": {
    "colab": {},
    "colab_type": "code",
    "id": "sjlhjthu3NIP"
   },
   "outputs": [],
   "source": [
    "# Visualize the rating column again\n",
    "\n"
   ]
  },
  {
   "cell_type": "code",
   "execution_count": null,
   "metadata": {
    "colab": {},
    "colab_type": "code",
    "id": "ll1KvVJX4Pd3"
   },
   "outputs": [],
   "source": [
    "# Get the maximum\n"
   ]
  },
  {
   "cell_type": "markdown",
   "metadata": {
    "colab_type": "text",
    "id": "z21NCGFC04Xl"
   },
   "source": [
    "## **Q&A**"
   ]
  },
  {
   "cell_type": "markdown",
   "metadata": {
    "colab_type": "text",
    "id": "32vk2-Vn5l3Z"
   },
   "source": [
    "### Dealing with missing data"
   ]
  },
  {
   "cell_type": "markdown",
   "metadata": {
    "colab_type": "text",
    "id": "27XSigJyg8Di"
   },
   "source": [
    "**Treating the** `rating`, `number_of_stays`, `5_stars`, `reviews_per_month` **columns**"
   ]
  },
  {
   "cell_type": "code",
   "execution_count": null,
   "metadata": {
    "colab": {},
    "colab_type": "code",
    "id": "pKuLIznfSv3H"
   },
   "outputs": [],
   "source": [
    "# Understand DataFrame with missing values in rating, number_of_stays, 5_stars, reviews_per_month\n",
    "airbnb[airbnb['rating'].isna()].describe()"
   ]
  },
  {
   "cell_type": "markdown",
   "metadata": {},
   "source": [
    "Looking at the missing data in the DataFrame - we can see that `number_of_reviews` across all missing rows is 0. We can infer that these listings have never been visited - hence could be inferred they're inactive/have never been visited.\n",
    "\n",
    "We can impute them as following:\n",
    "\n",
    "- Set `NaN` for `reviews_per_month`, `number_of_stays`, `5_stars` to 0.\n",
    "- Since a `rating` did not happen, let's keep the column as is - but create a new column named `rated` that takes in `1` if yes, `0` if no.\n",
    "- We will also leave `last_review` as is.\n",
    "\n",
    "**Hint:** You can use a dictionary like `{'reviews_per_month': 0, 'number_of_stays': 0, '5_stars': 0}` with the `fillna` function to fill missing values in specific columns.\n"
   ]
  },
  {
   "cell_type": "code",
   "execution_count": null,
   "metadata": {
    "colab": {},
    "colab_type": "code",
    "id": "tuRNdMvungIq"
   },
   "outputs": [],
   "source": [
    "# Impute missing data\n",
    "\n",
    "\n",
    "\n",
    "\n",
    "# Create is_rated column\n",
    "\n"
   ]
  },
  {
   "cell_type": "markdown",
   "metadata": {
    "colab_type": "text",
    "id": "lsPP28Xzg9_z"
   },
   "source": [
    "**Treating the** `price` **column**"
   ]
  },
  {
   "cell_type": "code",
   "execution_count": null,
   "metadata": {
    "colab": {},
    "colab_type": "code",
    "id": "lLJJG-SmYLh7"
   },
   "outputs": [],
   "source": [
    "# Investigate DataFrame with missing values in price\n"
   ]
  },
  {
   "cell_type": "code",
   "execution_count": null,
   "metadata": {
    "colab": {},
    "colab_type": "code",
    "id": "dluvKIkXr3yV"
   },
   "outputs": [],
   "source": [
    "# Investigate DataFrame with missing values in price\n"
   ]
  },
  {
   "cell_type": "markdown",
   "metadata": {
    "colab_type": "text",
    "id": "qxAJtTZ4hEtv"
   },
   "source": [
    "From a common sense perspective, the most predictive factor for a room's price is the `room_type` column, so let's visualize how price varies by room type with `sns.boxplot()` which displays the following information:\n",
    "\n",
    "\n",
    "<p align=\"center\">\n",
    "<img src=\"boxplot.png\" alt = \"DataCamp icon\" width=\"80%\">\n",
    "</p>\n",
    "\n",
    "\n"
   ]
  },
  {
   "cell_type": "code",
   "execution_count": null,
   "metadata": {
    "colab": {},
    "colab_type": "code",
    "id": "CdHj-mMDtgRE"
   },
   "outputs": [],
   "source": [
    "# Visualize relationship between price and room_type\n",
    "sns.boxplot(x = 'room_type', y = 'price', data = airbnb)\n",
    "plt.ylim(0, 400)\n",
    "plt.xlabel('Room Type')\n",
    "plt.ylabel('Price')\n",
    "plt.show()\n"
   ]
  },
  {
   "cell_type": "code",
   "execution_count": null,
   "metadata": {
    "colab": {},
    "colab_type": "code",
    "id": "GzAmpxWzsqRb"
   },
   "outputs": [],
   "source": [
    "# Get median price per room_type\n"
   ]
  },
  {
   "cell_type": "code",
   "execution_count": null,
   "metadata": {
    "colab": {},
    "colab_type": "code",
    "id": "AmaKYXPRypq7"
   },
   "outputs": [],
   "source": [
    "# Impute price based on conditions\n",
    "\n",
    "\n"
   ]
  },
  {
   "cell_type": "code",
   "execution_count": null,
   "metadata": {
    "colab": {},
    "colab_type": "code",
    "id": "bTJafaijzDkc"
   },
   "outputs": [],
   "source": [
    "# Confirm price has been imputed\n"
   ]
  },
  {
   "cell_type": "markdown",
   "metadata": {
    "colab_type": "text",
    "id": "VnxYYabO0Bdt"
   },
   "source": [
    "### What's still to be done?"
   ]
  },
  {
   "cell_type": "markdown",
   "metadata": {
    "colab_type": "text",
    "id": "q2cyXCxk0VP3"
   },
   "source": [
    "Albeit we've done a significant amount of data cleaning tasks, there are still a couple of problems we have yet to diagnose. When cleaning data, we need to consider:\n",
    "\n",
    "- Values that do not make any sense *(for example: are there values of `last_review` that older than `listing_added`? Are there listings in the future?*)\n",
    "- Presence of duplicates values - and how to deal with them?"
   ]
  },
  {
   "cell_type": "markdown",
   "metadata": {
    "colab_type": "text",
    "id": "KGpasg3L6Je4"
   },
   "source": [
    "##### **Task 8:** Do we have consistent date data?"
   ]
  },
  {
   "cell_type": "code",
   "execution_count": null,
   "metadata": {
    "colab": {},
    "colab_type": "code",
    "id": "jT_hz8Dj0EhB"
   },
   "outputs": [],
   "source": [
    "# Doing some sanity checks on date data\n"
   ]
  },
  {
   "cell_type": "code",
   "execution_count": null,
   "metadata": {
    "colab": {},
    "colab_type": "code",
    "id": "pUKi4Dbi27Zb"
   },
   "outputs": [],
   "source": [
    "# Are there reviews in the future?\n"
   ]
  },
  {
   "cell_type": "code",
   "execution_count": null,
   "metadata": {
    "colab": {},
    "colab_type": "code",
    "id": "dZO_yoOZ2-jf"
   },
   "outputs": [],
   "source": [
    "# Are there listings in the future?\n"
   ]
  },
  {
   "cell_type": "code",
   "execution_count": null,
   "metadata": {
    "colab": {},
    "colab_type": "code",
    "id": "3xJUlJFm3cmc"
   },
   "outputs": [],
   "source": [
    "# Drop these rows since they are only 4 rows\n"
   ]
  },
  {
   "cell_type": "code",
   "execution_count": null,
   "metadata": {
    "colab": {},
    "colab_type": "code",
    "id": "BvqMxmux4e_Q"
   },
   "outputs": [],
   "source": [
    "# Are there any listings with listing_added > last_review\n",
    "\n"
   ]
  },
  {
   "cell_type": "code",
   "execution_count": null,
   "metadata": {
    "colab": {},
    "colab_type": "code",
    "id": "cCziTT7T4xbT"
   },
   "outputs": [],
   "source": [
    "# Drop these rows since they are only 2 rows\n"
   ]
  },
  {
   "cell_type": "markdown",
   "metadata": {
    "colab_type": "text",
    "id": "JD1ChXPF6BR7"
   },
   "source": [
    "##### **Task 9:** Let's deal with duplicate data"
   ]
  },
  {
   "cell_type": "markdown",
   "metadata": {
    "colab_type": "text",
    "id": "hz9oQHyt8KmO"
   },
   "source": [
    "\n",
    "There are two notable types of duplicate data:\n",
    "\n",
    "- Identical duplicate data across all columns\n",
    "- Identical duplicate data cross most or some columns\n",
    "\n",
    "To diagnose, and deal with duplicate data, we will be using the following methods and functions:\n",
    "\n",
    "- `.duplicated(subset = , keep = )`\n",
    "  - `subset` lets us pick one or more columns with duplicate values.\n",
    "  - `keep` returns lets us return all instances of duplicate values.\n",
    "- `.drop_duplicates(subset = , keep = )`\n",
    "  "
   ]
  },
  {
   "cell_type": "code",
   "execution_count": null,
   "metadata": {
    "colab": {},
    "colab_type": "code",
    "id": "_m3Gdg7x6ATJ"
   },
   "outputs": [],
   "source": [
    "# Print the header of the DataFrame again\n"
   ]
  },
  {
   "cell_type": "code",
   "execution_count": null,
   "metadata": {
    "colab": {},
    "colab_type": "code",
    "id": "EzT8q3SCIW7w"
   },
   "outputs": [],
   "source": [
    "# Find duplicates\n",
    "\n"
   ]
  },
  {
   "cell_type": "code",
   "execution_count": null,
   "metadata": {
    "colab": {},
    "colab_type": "code",
    "id": "pqVxdea4Ik5g"
   },
   "outputs": [],
   "source": [
    "# Find duplicates\n"
   ]
  },
  {
   "cell_type": "code",
   "execution_count": null,
   "metadata": {
    "colab": {},
    "colab_type": "code",
    "id": "uSXEpMFlJCJc"
   },
   "outputs": [],
   "source": [
    "# Remove identical duplicates\n"
   ]
  },
  {
   "cell_type": "code",
   "execution_count": null,
   "metadata": {
    "colab": {},
    "colab_type": "code",
    "id": "nYf1M1cNKIIN"
   },
   "outputs": [],
   "source": [
    "# Find non-identical duplicates\n"
   ]
  },
  {
   "cell_type": "code",
   "execution_count": null,
   "metadata": {
    "colab": {},
    "colab_type": "code",
    "id": "wiN1SBw8Kizr"
   },
   "outputs": [],
   "source": [
    "# Show all duplicates\n"
   ]
  },
  {
   "cell_type": "markdown",
   "metadata": {
    "colab_type": "text",
    "id": "E6_O2EYkcGoF"
   },
   "source": [
    "To treat identical duplicates across some columns, we will chain the `.groupby()` and `.agg()` methods where we group by the column used to find duplicates (`listing_id`) and aggregate across statistical measures for `price`, `rating` and `list_added`. The `.agg()` method takes in a dictionary with each column's aggregation method - we will use the following aggregations:\n",
    "\n",
    "- `mean` for `price` and `rating` columns\n",
    "- `max` for `listing_added` column\n",
    "- `first` for all remaining column\n",
    "\n",
    "*A note on dictionary comprehensions:*\n",
    "\n",
    "Dictionaries are useful data structures in Python with the following format\n",
    "`my_dictionary = {key: value}` where a `key` is mapped to a `value` and whose `value` can be returned with `my_dictionary[key]` - dictionary comprehensions allow us to programmatically create dicitonaries using the structure:\n",
    "\n",
    "```\n",
    "{x: x*2 for x in [1,2,3,4,5]} \n",
    "{1:2, 2:4, 3:6, 4:8, 5:10}\n",
    "```"
   ]
  },
  {
   "cell_type": "code",
   "execution_count": null,
   "metadata": {
    "colab": {},
    "colab_type": "code",
    "id": "v7l82ErIqO1-"
   },
   "outputs": [],
   "source": [
    "# Get column names from airbnb\n",
    "\n"
   ]
  },
  {
   "cell_type": "code",
   "execution_count": null,
   "metadata": {
    "colab": {},
    "colab_type": "code",
    "id": "CxCJ3xPbKmJg"
   },
   "outputs": [],
   "source": [
    "# Create dictionary comprehension with 'first' as value for all columns not being aggregated\n",
    "\n",
    "\n",
    "\n",
    "\n"
   ]
  },
  {
   "cell_type": "code",
   "execution_count": null,
   "metadata": {
    "colab": {},
    "colab_type": "code",
    "id": "jaS5j-KsRUD-"
   },
   "outputs": [],
   "source": [
    "# Remove non-identical duplicates\n"
   ]
  },
  {
   "cell_type": "code",
   "execution_count": null,
   "metadata": {
    "colab": {},
    "colab_type": "code",
    "id": "q93L6waFWpTq"
   },
   "outputs": [],
   "source": [
    "# Make sure no duplication happened\n"
   ]
  },
  {
   "cell_type": "code",
   "execution_count": null,
   "metadata": {
    "colab": {},
    "colab_type": "code",
    "id": "ZmIRBaZgW4q2"
   },
   "outputs": [],
   "source": [
    "# Print header of DataFrame\n"
   ]
  },
  {
   "cell_type": "markdown",
   "metadata": {
    "colab_type": "text",
    "id": "nR5oNXyd0vkx"
   },
   "source": [
    "## **Q&A**"
   ]
  },
  {
   "cell_type": "markdown",
   "metadata": {
    "colab_type": "text",
    "id": "zaF7ZDbzA6P7"
   },
   "source": [
    "### Take home question\n",
    "\n",
    "Try to answer the following questions about the dataset:\n",
    "\n",
    "- What is the average price of listings by borough? Visualize your results with a bar plot!\n",
    "- What is the average availability in days of listings by borough? Visualize your results with a bar plot!\n",
    "- What is the median price per room type in each borough? Visualize your results with a bar plot!\n",
    "- Visualize the number of listings over time.\n",
    "\n",
    "**Functions that should/could be used:**\n",
    "- `.groupby()` and `.agg(})`\n",
    "- `sns.barplot(x = , y = , hue = , data = )`\n",
    "- `sns.lineplot(x = , y = , data = )`\n",
    "- `.dt.strftime()` for extracting specific dates from a `datetime` column\n"
   ]
  }
 ],
 "metadata": {
  "colab": {
   "name": "Cleaning Data in Python live_students.ipynb",
   "provenance": []
  },
  "kernelspec": {
   "display_name": "Python 3 (ipykernel)",
   "language": "python",
   "name": "python3"
  },
  "language_info": {
   "codemirror_mode": {
    "name": "ipython",
    "version": 3
   },
   "file_extension": ".py",
   "mimetype": "text/x-python",
   "name": "python",
   "nbconvert_exporter": "python",
   "pygments_lexer": "ipython3",
   "version": "3.11.5"
  }
 },
 "nbformat": 4,
 "nbformat_minor": 4
}
