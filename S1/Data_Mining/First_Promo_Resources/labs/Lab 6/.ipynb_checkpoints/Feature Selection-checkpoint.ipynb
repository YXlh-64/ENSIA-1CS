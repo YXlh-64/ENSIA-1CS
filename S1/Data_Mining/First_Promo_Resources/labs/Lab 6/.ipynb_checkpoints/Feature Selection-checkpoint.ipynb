{
 "cells": [
  {
   "cell_type": "markdown",
   "metadata": {
    "id": "pMFQ8jWRYab5"
   },
   "source": [
    "# LAB 6 : Feature selection methods\n",
    "All the different approaches to feature selection can be grouped into mainly two families of methods. There are unsupervised and supervised methods. The latter can be further divided into the wrapper and filter mothods. Let’s discuss them one by one.\n",
    "\n",
    "In this lab, your task is to carefully review all instructions and fill the empty code cells with the necessary code to ensure everything functions correctly.\n"
   ]
  },
  {
   "cell_type": "markdown",
   "metadata": {
    "id": "SZeKU-tTYab_"
   },
   "source": [
    "## Import necessary libraries"
   ]
  },
  {
   "cell_type": "markdown",
   "metadata": {
    "id": "S4wp4qNHYacB"
   },
   "source": [
    "Requirement:\n",
    "- pip install mlxtend\n",
    "- pip install geneticalgorithm\n",
    "- pip install sklearn-genetic-opt"
   ]
  },
  {
   "cell_type": "code",
   "execution_count": null,
   "metadata": {
    "id": "TkxOJtU0zt02",
    "scrolled": true
   },
   "outputs": [],
   "source": [
    "import pandas as pd\n",
    "import numpy as np\n",
    "import seaborn as sns\n",
    "import matplotlib.pyplot as plt\n",
    "\n",
    "from sklearn.datasets import load_iris\n",
    "from sklearn.model_selection import train_test_split\n",
    "from sklearn.ensemble import RandomForestClassifier\n",
    "from sklearn.feature_selection import VarianceThreshold, SelectKBest, chi2, mutual_info_classif, f_classif\n",
    "from sklearn.feature_selection import RFE\n",
    "from sklearn.metrics import accuracy_score\n",
    "from mlxtend.feature_selection import SequentialFeatureSelector\n",
    "from sklearn_genetic import GAFeatureSelectionCV"
   ]
  },
  {
   "cell_type": "markdown",
   "metadata": {
    "id": "f0NDLJqAYacE"
   },
   "source": [
    "## Load the Iris dataset"
   ]
  },
  {
   "cell_type": "code",
   "execution_count": null,
   "metadata": {
    "id": "Ys4eV2Dr0QOE"
   },
   "outputs": [],
   "source": [
    "iris = load_iris()\n",
    "X = pd.DataFrame(iris.data, columns=iris.feature_names)\n",
    "y = pd.Series(iris.target, name='target')"
   ]
  },
  {
   "cell_type": "markdown",
   "metadata": {
    "id": "tyWhUKeVYacF"
   },
   "source": [
    "## Split the dataset into training and testing sets"
   ]
  },
  {
   "cell_type": "code",
   "execution_count": null,
   "metadata": {
    "id": "aae0fp6r0XiB"
   },
   "outputs": [],
   "source": [
    "X_train, X_test, y_train, y_test = train_test_split('FIXME', 'FIXME', test_size=0.2, random_state=42)"
   ]
  },
  {
   "cell_type": "markdown",
   "metadata": {
    "id": "4qA-d0e8YacG"
   },
   "source": [
    "## Function to evaluate the performance of a model"
   ]
  },
  {
   "cell_type": "code",
   "execution_count": null,
   "metadata": {
    "id": "8m3IXXup1k1z"
   },
   "outputs": [],
   "source": [
    "def evaluate_model(model, X_train, X_test, y_train, y_test):\n",
    "    model.fit('FIXME', 'FIXME')\n",
    "    y_pred = 'FIXME'\n",
    "    accuracy = accuracy_score('FIXME', 'FIXME')\n",
    "    return accuracy"
   ]
  },
  {
   "cell_type": "markdown",
   "metadata": {
    "id": "EJ-aeFjwYacI"
   },
   "source": [
    "## Unsupervised feature selection methods\n"
   ]
  },
  {
   "cell_type": "markdown",
   "metadata": {
    "id": "h6L6kwkMYacI"
   },
   "source": [
    "Feature selection using variance threshold"
   ]
  },
  {
   "cell_type": "code",
   "execution_count": null,
   "metadata": {
    "id": "VnoLwXjU1uaI"
   },
   "outputs": [],
   "source": [
    "def variance_threshold_selector(X, threshold=0.0):\n",
    "    selector = VarianceThreshold('FIXME')\n",
    "    selector.'FIXME'\n",
    "    return X[X.columns[selector.get_support(indices=True)]]"
   ]
  },
  {
   "cell_type": "code",
   "execution_count": null,
   "metadata": {
    "id": "eCcofAc84JxY"
   },
   "outputs": [],
   "source": [
    "X_var = variance_threshold_selector('FIXME', threshold=0.1)"
   ]
  },
  {
   "cell_type": "markdown",
   "metadata": {
    "id": "Wo0TEvvlYacK"
   },
   "source": [
    "Feature selection using correlation"
   ]
  },
  {
   "cell_type": "code",
   "execution_count": null,
   "metadata": {
    "id": "HhZgJFdL7Vlr"
   },
   "outputs": [],
   "source": [
    "def correlation_selector(X, threshold=0.8):\n",
    "    corr_matrix = X.'FIXME'.abs()\n",
    "    upper = corr_matrix.where(np.triu(np.ones(corr_matrix.shape), k=1).astype(bool))\n",
    "    to_drop = [column for column in 'FIXME' if any(upper[column] > threshold)]\n",
    "    return X.drop(to_drop, axis=1)"
   ]
  },
  {
   "cell_type": "code",
   "execution_count": null,
   "metadata": {
    "id": "HiuVYLKDU94N"
   },
   "outputs": [],
   "source": [
    "X_corr = correlation_selector('FIXME', threshold=0.8)"
   ]
  },
  {
   "cell_type": "markdown",
   "metadata": {
    "id": "cm_OlbsgYacO"
   },
   "source": [
    "# supervised feature selection methods"
   ]
  },
  {
   "cell_type": "markdown",
   "metadata": {
    "id": "9U_nT6nkYacM"
   },
   "source": [
    "Feature selection using mutual information"
   ]
  },
  {
   "cell_type": "code",
   "execution_count": null,
   "metadata": {
    "id": "vzqrGRYAYIME"
   },
   "outputs": [],
   "source": [
    "# Feature selection using mutual information\n",
    "def mutual_info_selector('FIXME', 'FIXME', top_k=4):\n",
    "    selector = SelectKBest(mutual_info_classif, k='FIXME')\n",
    "    selector.'FIXME'\n",
    "    return X[X.columns[selector.get_support(indices=True)]]"
   ]
  },
  {
   "cell_type": "code",
   "execution_count": null,
   "metadata": {
    "id": "V-rZiJIwZ-lf"
   },
   "outputs": [],
   "source": [
    "# Feature selection using mutual information\n",
    "X_mi = mutual_info_selector('FIXME', 'FIXME', top_k=2)"
   ]
  },
  {
   "cell_type": "markdown",
   "metadata": {
    "id": "8mI5uophYacO"
   },
   "source": [
    "Feature selection using filter methods: information gain"
   ]
  },
  {
   "cell_type": "code",
   "execution_count": null,
   "metadata": {
    "id": "m6E7wGaTa6hf"
   },
   "outputs": [],
   "source": [
    "\n",
    "def information_gain_selector('FIXME', 'FIXME', top_k=4):\n",
    "    selector = SelectKBest('FIXME', k='FIXME')\n",
    "    selector.'FIXME'\n",
    "    return X[X.columns[selector.get_support(indices=True)]]"
   ]
  },
  {
   "cell_type": "code",
   "execution_count": null,
   "metadata": {
    "id": "giH8EKONbd3X"
   },
   "outputs": [],
   "source": [
    "# Feature selection using information gain\n",
    "X_ig = information_gain_selector('FIXME', 'FIXME', top_k=2)"
   ]
  },
  {
   "cell_type": "markdown",
   "metadata": {
    "id": "75YjmukJYacP"
   },
   "source": [
    "Feature selection using filter methods: chi-squared test"
   ]
  },
  {
   "cell_type": "code",
   "execution_count": null,
   "metadata": {
    "id": "gK-3B-OobsF2"
   },
   "outputs": [],
   "source": [
    "def chi_squared_selector(X, y, top_k=4):\n",
    "    selector = SelectKBest('FIXME', k='FIXME')\n",
    "    selector.'FIXME'\n",
    "    return X[X.columns[selector.get_support(indices=True)]]"
   ]
  },
  {
   "cell_type": "code",
   "execution_count": null,
   "metadata": {
    "id": "1yvF2hOce5Nv"
   },
   "outputs": [],
   "source": [
    "# Feature selection using chi-squared test\n",
    "X_chi2 = chi_squared_selector('FIXME', 'FIXME', top_k=2)"
   ]
  },
  {
   "cell_type": "code",
   "execution_count": null,
   "metadata": {
    "id": "8Uf2ypaA4FNd"
   },
   "outputs": [],
   "source": [
    "# Create a random forest classifier (you can replace this with any other classifier of your choice)\n",
    "model = RandomForestClassifier(n_estimators=100, random_state=42)"
   ]
  },
  {
   "cell_type": "markdown",
   "metadata": {
    "id": "bKx0a2xEYacR"
   },
   "source": [
    "Feature selection using wrapper methods: forward selection"
   ]
  },
  {
   "cell_type": "code",
   "execution_count": null,
   "metadata": {
    "id": "KTeqJjVUfHiL"
   },
   "outputs": [],
   "source": [
    "# Feature selection using wrapper methods: forward selection\n",
    "def forward_selection(X, y, 'FIXME'):\n",
    "    sfs = SequentialFeatureSelector('FIXME', k_features='best', forward='FIXME', scoring='accuracy', cv=5)\n",
    "    sfs.fit('FIXME')\n",
    "    return X[X.columns[list('FIXME'.k_feature_idx_)]]"
   ]
  },
  {
   "cell_type": "code",
   "execution_count": null,
   "metadata": {
    "id": "Wo9lpsh1f1TE"
   },
   "outputs": [],
   "source": [
    "# Feature selection using forward selection\n",
    "X_forward = forward_selection('FIXME', 'FIXME', 'FIXME')"
   ]
  },
  {
   "cell_type": "markdown",
   "metadata": {
    "id": "Y-nMMU6qYacS"
   },
   "source": [
    "Feature selection using wrapper methods: backward elimination"
   ]
  },
  {
   "cell_type": "code",
   "execution_count": null,
   "metadata": {
    "id": "cZM5mvVMio4t"
   },
   "outputs": [],
   "source": [
    "def backward_elimination(X, y, 'FIXME'):\n",
    "    sfs = SequentialFeatureSelector('FIXME', k_features='best', forward='FIXME', scoring='accuracy', cv=5)\n",
    "    sfs.fit('FIXME')\n",
    "    return X[X.columns[list('FIXME'.k_feature_idx_)]]"
   ]
  },
  {
   "cell_type": "code",
   "execution_count": null,
   "metadata": {
    "id": "7KCNuhWLiyiV"
   },
   "outputs": [],
   "source": [
    "# Feature selection using backward elimination\n",
    "X_backward = backward_elimination('FIXME', 'FIXME', 'FIXME')"
   ]
  },
  {
   "cell_type": "markdown",
   "metadata": {
    "id": "60fZnrHaYacT"
   },
   "source": [
    "Feature selection using wrapper methods: genetic algorithm"
   ]
  },
  {
   "cell_type": "code",
   "execution_count": null,
   "metadata": {
    "id": "XDNI46SelPsv"
   },
   "outputs": [],
   "source": [
    "def genetic_algorithm_selector('FIXME', 'FIXME', 'FIXME'):\n",
    "\n",
    "    selector = GAFeatureSelectionCV('FIXME',\n",
    "                                         cv=5,\n",
    "                                         scoring='neg_root_mean_squared_error',\n",
    "                                         population_size=10,\n",
    "                                         generations=5,\n",
    "                                         tournament_size=5,\n",
    "                                         elitism=True,\n",
    "                                         'FIXME'=0.9,\n",
    "                                         'FIXME'=0.1,\n",
    "                                         criteria='max',\n",
    "                                         algorithm='eaMuPlusLambda',\n",
    "                                         n_jobs=1,\n",
    "                                         verbose=True,\n",
    "                                         keep_top_k=4)\n",
    "\n",
    "    selector.fit('FIXME')\n",
    "    return X[X.columns['FIXME'.support_]]"
   ]
  },
  {
   "cell_type": "code",
   "execution_count": null,
   "metadata": {
    "id": "xKVA5HSNlTla",
    "scrolled": true
   },
   "outputs": [],
   "source": [
    "X_genetic = genetic_algorithm_selector('FIXME', 'FIXME', 'FIXME')"
   ]
  },
  {
   "cell_type": "markdown",
   "metadata": {
    "id": "7bILaRlSYacU"
   },
   "source": [
    "## Evaluate the performance of the model after feature selection"
   ]
  },
  {
   "cell_type": "code",
   "execution_count": null,
   "metadata": {
    "id": "TEPO3SlqYacV"
   },
   "outputs": [],
   "source": [
    "selected_features = 'FIXME'\n",
    "selected_feature_names = ['Variance Threshold', 'Correlation', 'Mutual Information', 'Information Gain',\n",
    "                           'Chi-squared Test', 'Forward Selection', 'Backward Elimination', 'Genetic Algorithm']\n",
    "\n",
    "results = []\n",
    "\n",
    "for name, X_selected in zip(selected_feature_names, selected_features):\n",
    "    X_test_selected = X_test['FIXME'.columns]  # Apply the same feature selection to the test set\n",
    "    accuracy = evaluate_model(model, 'FIXME', 'FIXME', 'FIXME', 'FIXME')\n",
    "    results.append({'Method': name, 'Accuracy': accuracy})\n"
   ]
  },
  {
   "cell_type": "code",
   "execution_count": null,
   "metadata": {
    "id": "t-9C4FVPYacW"
   },
   "outputs": [],
   "source": [
    "# Display the results\n",
    "results_df = pd.DataFrame(results)\n",
    "print(results_df)"
   ]
  },
  {
   "cell_type": "code",
   "execution_count": null,
   "metadata": {
    "id": "ZWlfLrQhYacX"
   },
   "outputs": [],
   "source": [
    "# Plot the results\n",
    "plt.figure(figsize=(10, 6))\n",
    "sns.barplot(x='Accuracy', y='Method', data=results_df.sort_values(by='Accuracy', ascending=False))\n",
    "plt.title('Accuracy after Feature Selection')\n",
    "plt.show()"
   ]
  }
 ],
 "metadata": {
  "colab": {
   "provenance": []
  },
  "kernelspec": {
   "display_name": "Python 3 (ipykernel)",
   "language": "python",
   "name": "python3"
  },
  "language_info": {
   "codemirror_mode": {
    "name": "ipython",
    "version": 3
   },
   "file_extension": ".py",
   "mimetype": "text/x-python",
   "name": "python",
   "nbconvert_exporter": "python",
   "pygments_lexer": "ipython3",
   "version": "3.11.5"
  }
 },
 "nbformat": 4,
 "nbformat_minor": 1
}
