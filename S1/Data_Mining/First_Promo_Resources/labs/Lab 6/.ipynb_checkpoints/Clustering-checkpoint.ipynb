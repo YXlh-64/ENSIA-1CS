{
 "cells": [
  {
   "cell_type": "markdown",
   "id": "1af3d73e",
   "metadata": {},
   "source": [
    "<div style=\"text-align:center\">\n",
    "<font color='Blue'><h1>Clustering : Part 1</h1></font>\n",
    "</div>"
   ]
  },
  {
   "cell_type": "markdown",
   "id": "766aa0e8",
   "metadata": {},
   "source": [
    "K-Means is a very popular clustering technique. The K-means clustering is another class of unsupervised learning algorithms used to find out the clusters of data in a given dataset.\n",
    "In this lab, we will implement the K-Means clustering algorithm from scratch."
   ]
  },
  {
   "cell_type": "markdown",
   "id": "1113c6b8",
   "metadata": {},
   "source": [
    "The 5 Steps in K-means Clustering Algorithm:\n",
    "\n",
    "Step 1. Randomly pick k data points as our initial Centroids.\n",
    "\n",
    "Step 2. Find the distance (Euclidean distance for our purpose) between each data points in our training set with the k centroids.\n",
    "\n",
    "Step 3. Now assign each data point to the closest centroid according to the distance found.\n",
    "\n",
    "Step 4. Update centroid location by taking the average of the points in each cluster group.\n",
    "\n",
    "Step 5. Repeat the Steps 2 to 4 till our centroids don’t change."
   ]
  },
  {
   "cell_type": "markdown",
   "id": "854a86e2",
   "metadata": {},
   "source": [
    "<font color='Blue'><h1>Implementing the K-Means Clustering Algorithm</h1></font>\n",
    "\n",
    "Let’s implement the above steps in code now. Import the numpy module and then go through the rest of the code here to get an understanding of how the K-Means clustering is implemented in code."
   ]
  },
  {
   "cell_type": "code",
   "execution_count": null,
   "id": "fdd9714f",
   "metadata": {},
   "outputs": [],
   "source": [
    "#Importing required modules\n",
    " \n",
    "import numpy as np\n",
    "from scipy.spatial.distance import cdist \n",
    " \n",
    "#Function to implement steps given in previous section\n",
    "def kmeans(x,k, no_of_iterations):\n",
    "    idx = np.random.choice(len(x), k, replace=False)\n",
    "    #Randomly choosing Centroids \n",
    "    centroids = x[idx, :] #Step 1\n",
    "     \n",
    "    #finding the distance between centroids and all the data points\n",
    "    distances = cdist(\"FIXME\", \"FIXME\" ,'euclidean') #Step 2\n",
    "     \n",
    "    #Centroid with the minimum Distance\n",
    "    points = np.array([np.argmin(i) for i in \"FIXME\"]) #Step 3\n",
    "     \n",
    "    #Repeating the above steps for a defined number of iterations\n",
    "    #Step 4\n",
    "    for _ in range(\"FIXME\"): \n",
    "        centroids = []\n",
    "        for idx in range(k):\n",
    "            #Updating Centroids by taking mean of Cluster it belongs to\n",
    "            temp_cent = x[points==idx].mean(axis=0) \n",
    "            centroids.append(temp_cent)\n",
    " \n",
    "        centroids = np.vstack(centroids) #Updated Centroids \n",
    "         \n",
    "        distances = cdist(\"FIXME\", \"FIXME\" ,'euclidean')\n",
    "        points = np.array([np.argmin(i) for i in distances])\n",
    "         \n",
    "    return points "
   ]
  },
  {
   "cell_type": "code",
   "execution_count": null,
   "id": "9edcf64c",
   "metadata": {},
   "outputs": [],
   "source": [
    "#Loading the required modules\n",
    " \n",
    "import numpy as np\n",
    "from scipy.spatial.distance import cdist \n",
    "from sklearn.datasets import load_digits\n",
    "from sklearn.decomposition import PCA\n",
    "from sklearn.cluster import KMeans\n",
    "import matplotlib.pyplot as plt"
   ]
  },
  {
   "cell_type": "code",
   "execution_count": null,
   "id": "8a84872a",
   "metadata": {},
   "outputs": [],
   "source": [
    "#Defining our function \n",
    "\n",
    "def kmeans(x,k, no_of_iterations):\n",
    "    idx = np.random.choice(len(x), k, replace=False)\n",
    "    #Randomly choosing Centroids \n",
    "    centroids = x[idx, :] #Step 1\n",
    "     \n",
    "    #finding the distance between centroids and all the data points\n",
    "    distances = cdist(\"FIXME\", \"FIXME\" ,'euclidean') #Step 2\n",
    "     \n",
    "    #Centroid with the minimum Distance\n",
    "    points = np.array([np.argmin(i) for i in distances]) #Step 3\n",
    "     \n",
    "    #Repeating the above steps for a defined number of iterations\n",
    "    #Step 4\n",
    "    for _ in range(\"FIXME\"): \n",
    "        centroids = []\n",
    "        for idx in range(k):\n",
    "            #Updating Centroids by taking mean of Cluster it belongs to\n",
    "            temp_cent = x[points==idx].mean(axis=0) \n",
    "            centroids.append(temp_cent)\n",
    " \n",
    "        centroids = np.vstack(centroids) #Updated Centroids \n",
    "         \n",
    "        distances = cdist(\"FIXME\", \"FIXME\" ,'euclidean')\n",
    "        points = np.array([np.argmin(i) for i in distances])\n",
    "         \n",
    "    return points"
   ]
  },
  {
   "cell_type": "code",
   "execution_count": null,
   "id": "dfd2d324",
   "metadata": {},
   "outputs": [],
   "source": [
    "#Load Data\n",
    "data = load_digits().data\n",
    "pca = PCA(2)\n",
    "  \n",
    "#Transform the data\n",
    "df = pca.fit_transform(data)\n",
    " \n",
    "#Applying our function\n",
    "label = \"FIXME\"(\"FIXME\",10,1000)"
   ]
  },
  {
   "cell_type": "code",
   "execution_count": null,
   "id": "590a1ce5",
   "metadata": {},
   "outputs": [],
   "source": [
    "#Visualize the results\n",
    " \n",
    "u_labels = np.unique(label)\n",
    "for i in u_labels:\n",
    "    plt.scatter(df[label == i , 0] , df[label == i , 1] , label = i)\n",
    "plt.legend()\n",
    "plt.show()"
   ]
  },
  {
   "cell_type": "markdown",
   "id": "3a477d44",
   "metadata": {},
   "source": [
    "<div style=\"text-align:center\">\n",
    "<font color='Blue'><h1>Clustering : Part 2</h1></font>\n",
    "</div>"
   ]
  },
  {
   "cell_type": "code",
   "execution_count": null,
   "id": "2f8cd8e4",
   "metadata": {},
   "outputs": [],
   "source": [
    "%matplotlib inline\n",
    "import matplotlib.pyplot as plt\n",
    "plt.style.use('seaborn-whitegrid')\n",
    "import numpy as np"
   ]
  },
  {
   "cell_type": "markdown",
   "id": "4baab6fc",
   "metadata": {},
   "source": [
    "### K-Means for Color Compression\n",
    "\n",
    "One interesting application of clustering is in color compression within images. For example, imagine you have an image with millions of colors.\n",
    "In most images, a large number of the colors will be unused, and many of the pixels in the image will have similar or even identical colors.\n",
    "For example, consider the image shown in the following figure, which is from the Scikit-Learn `datasets` module (for this to work, you'll have to have the `PIL` Python package installed):\n",
    "(For a color version of this and following images, see the online version of this book)."
   ]
  },
  {
   "cell_type": "code",
   "execution_count": null,
   "id": "2bd589c8",
   "metadata": {},
   "outputs": [],
   "source": [
    "# Note: this requires the PIL package to be installed\n",
    "from sklearn.datasets import load_sample_image\n",
    "china = load_sample_image(\"china.jpg\")\n",
    "ax = plt.axes(xticks=[], yticks=[])\n",
    "ax.imshow(china);"
   ]
  },
  {
   "cell_type": "markdown",
   "id": "d50214c2",
   "metadata": {},
   "source": [
    "The image itself is stored in a three-dimensional array of size `(height, width, RGB)`, containing red/blue/green contributions as integers from 0 to 255:"
   ]
  },
  {
   "cell_type": "code",
   "execution_count": null,
   "id": "cc1c11a5",
   "metadata": {},
   "outputs": [],
   "source": [
    "china.shape"
   ]
  },
  {
   "cell_type": "markdown",
   "id": "1e944a3f",
   "metadata": {},
   "source": [
    "One way we can view this set of pixels is as a cloud of points in a three-dimensional color space.\n",
    "We will reshape the data to `[n_samples, n_features]` and rescale the colors so that they lie between 0 and 1:"
   ]
  },
  {
   "cell_type": "code",
   "execution_count": null,
   "id": "7cdbbc62",
   "metadata": {},
   "outputs": [],
   "source": [
    "data = china / 255.0  # use 0...1 scale\n",
    "data = data.reshape(-1, 3)\n",
    "data.shape"
   ]
  },
  {
   "cell_type": "markdown",
   "id": "7e20c89f",
   "metadata": {},
   "source": [
    "We can visualize these pixels in this color space, using a subset of 10,000 pixels for efficiency (see the following figure):"
   ]
  },
  {
   "cell_type": "code",
   "execution_count": null,
   "id": "51ad66e8",
   "metadata": {},
   "outputs": [],
   "source": [
    "def plot_pixels(data, title, colors=None, N=10000):\n",
    "    if colors is None:\n",
    "        colors = data\n",
    "    \n",
    "    # choose a random subset\n",
    "    rng = np.random.default_rng(0)\n",
    "    i = rng.permutation(data.shape[0])[:N]\n",
    "    colors = colors[i]\n",
    "    R, G, B = data[i].T\n",
    "    \n",
    "    fig, ax = plt.subplots(1, 2, figsize=(16, 6))\n",
    "    ax[0].scatter(R, G, color=colors, marker='.')\n",
    "    ax[0].set(xlabel='Red', ylabel='Green', xlim=(0, 1), ylim=(0, 1))\n",
    "\n",
    "    ax[1].scatter(R, B, color=colors, marker='.')\n",
    "    ax[1].set(xlabel='Red', ylabel='Blue', xlim=(0, 1), ylim=(0, 1))\n",
    "\n",
    "    fig.suptitle(title, size=20);"
   ]
  },
  {
   "cell_type": "code",
   "execution_count": null,
   "id": "6c2af422",
   "metadata": {},
   "outputs": [],
   "source": [
    "plot_pixels(data, title='Input color space: 16 million possible colors')"
   ]
  },
  {
   "cell_type": "markdown",
   "id": "36f1a825",
   "metadata": {},
   "source": [
    "Now let's reduce these 16 million colors to just 16 colors, using a k-means clustering across the pixel space. Because we are dealing with a very large dataset, we will use the mini-batch k-means, which operates on subsets of the data to compute the result (shown in the following figure) much more quickly than the standard k-means algorithm:"
   ]
  },
  {
   "cell_type": "code",
   "execution_count": null,
   "id": "3ec791b9",
   "metadata": {},
   "outputs": [],
   "source": [
    "from sklearn.cluster import MiniBatchKMeans\n",
    "kmeans = MiniBatchKMeans(\"FIXME\")\n",
    "kmeans.fit(\"FIXME\")\n",
    "new_colors = kmeans.cluster_centers_[kmeans.predict(\"FIXME\")]\n",
    "\n",
    "plot_pixels(data, colors=new_colors,\n",
    "            title=\"Reduced color space: 16 colors\")"
   ]
  },
  {
   "cell_type": "markdown",
   "id": "adf1ecc9",
   "metadata": {},
   "source": [
    "The result is a recoloring of the original pixels, where each pixel is assigned the color of its closest cluster center.\n",
    "Plotting these new colors in the image space rather than the pixel space shows us the effect of this (see the following figure):"
   ]
  },
  {
   "cell_type": "code",
   "execution_count": null,
   "id": "81e4576a",
   "metadata": {},
   "outputs": [],
   "source": [
    "china_recolored = new_colors.reshape(china.\"FIXME\")\n",
    "\n",
    "fig, ax = plt.subplots(1, 2, figsize=(16, 6),\n",
    "                       subplot_kw=dict(xticks=[], yticks=[]))\n",
    "fig.subplots_adjust(wspace=0.05)\n",
    "ax[0].imshow(china)\n",
    "ax[0].set_title('Original Image', size=16)\n",
    "ax[1].imshow(china_recolored)\n",
    "ax[1].set_title('16-color Image', size=16);"
   ]
  },
  {
   "cell_type": "markdown",
   "id": "b06f7d42",
   "metadata": {},
   "source": [
    "*Some* detail is certainly lost in the rightmost panel, but the overall image is still easily recognizable.\n",
    "In terms of the bytes required to store the raw data, the image on the right achieves a compression factor of around 1 million!\n",
    "Now, this kind of approach is not going to match the fidelity of purpose-built image compression schemes like JPEG, but the example shows the power of thinking outside of the box with unsupervised methods like *k*-means."
   ]
  }
 ],
 "metadata": {
  "celltoolbar": "Raw Cell Format",
  "kernelspec": {
   "display_name": "Python 3 (ipykernel)",
   "language": "python",
   "name": "python3"
  },
  "language_info": {
   "codemirror_mode": {
    "name": "ipython",
    "version": 3
   },
   "file_extension": ".py",
   "mimetype": "text/x-python",
   "name": "python",
   "nbconvert_exporter": "python",
   "pygments_lexer": "ipython3",
   "version": "3.11.5"
  }
 },
 "nbformat": 4,
 "nbformat_minor": 5
}
